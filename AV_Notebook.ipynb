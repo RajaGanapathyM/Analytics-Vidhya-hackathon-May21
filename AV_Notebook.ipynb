{
 "cells": [
  {
   "cell_type": "code",
   "execution_count": 1,
   "metadata": {},
   "outputs": [],
   "source": [
    "import pandas as pd"
   ]
  },
  {
   "cell_type": "code",
   "execution_count": 2,
   "metadata": {},
   "outputs": [],
   "source": [
    "import altair as alt"
   ]
  },
  {
   "cell_type": "code",
   "execution_count": 3,
   "metadata": {},
   "outputs": [],
   "source": [
    "import sweetviz as sv\n",
    "import matplotlib.pyplot as plt\n",
    "import numpy as np\n",
    "from sklearn.mixture import GaussianMixture\n",
    "import numpy as np\n",
    "import seaborn as sns"
   ]
  },
  {
   "cell_type": "code",
   "execution_count": 4,
   "metadata": {},
   "outputs": [],
   "source": [
    "train_df=pd.read_csv(\"G:\\\\AV\\\\train_s3TEQDk.csv\")\n",
    "test_df=pd.read_csv(\"G:\\\\AV\\\\test_mSzZ8RL.csv\")"
   ]
  },
  {
   "cell_type": "code",
   "execution_count": 31,
   "metadata": {},
   "outputs": [],
   "source": [
    "feature_config = sv.FeatureConfig(skip=\"ID\")"
   ]
  },
  {
   "cell_type": "code",
   "execution_count": 43,
   "metadata": {},
   "outputs": [
    {
     "data": {
      "application/vnd.jupyter.widget-view+json": {
       "model_id": "7eb096094a734b90a07b7f40e84abec2",
       "version_major": 2,
       "version_minor": 0
      },
      "text/plain": [
       "HBox(children=(HTML(value=''), FloatProgress(value=0.0, layout=Layout(flex='2'), max=11.0), HTML(value='')), l…"
      ]
     },
     "metadata": {},
     "output_type": "display_data"
    },
    {
     "name": "stdout",
     "output_type": "stream",
     "text": [
      "\n"
     ]
    }
   ],
   "source": [
    "my_report = sv.compare([train_df, \"Training Data\"], [test_df, \"Test Data\"],\"Is_Lead\",feature_config)"
   ]
  },
  {
   "cell_type": "code",
   "execution_count": 196,
   "metadata": {},
   "outputs": [
    {
     "data": {
      "text/html": [
       "<div>\n",
       "<style scoped>\n",
       "    .dataframe tbody tr th:only-of-type {\n",
       "        vertical-align: middle;\n",
       "    }\n",
       "\n",
       "    .dataframe tbody tr th {\n",
       "        vertical-align: top;\n",
       "    }\n",
       "\n",
       "    .dataframe thead th {\n",
       "        text-align: right;\n",
       "    }\n",
       "</style>\n",
       "<table border=\"1\" class=\"dataframe\">\n",
       "  <thead>\n",
       "    <tr style=\"text-align: right;\">\n",
       "      <th></th>\n",
       "      <th>ID</th>\n",
       "      <th>Gender</th>\n",
       "      <th>Age</th>\n",
       "      <th>Region_Code</th>\n",
       "      <th>Occupation</th>\n",
       "      <th>Channel_Code</th>\n",
       "      <th>Vintage</th>\n",
       "      <th>Credit_Product</th>\n",
       "      <th>Avg_Account_Balance</th>\n",
       "      <th>Is_Active</th>\n",
       "      <th>Is_Lead</th>\n",
       "    </tr>\n",
       "  </thead>\n",
       "  <tbody>\n",
       "    <tr>\n",
       "      <th>0</th>\n",
       "      <td>NNVBBKZB</td>\n",
       "      <td>Female</td>\n",
       "      <td>73</td>\n",
       "      <td>RG268</td>\n",
       "      <td>Other</td>\n",
       "      <td>X3</td>\n",
       "      <td>43</td>\n",
       "      <td>No</td>\n",
       "      <td>1045696</td>\n",
       "      <td>No</td>\n",
       "      <td>0</td>\n",
       "    </tr>\n",
       "    <tr>\n",
       "      <th>1</th>\n",
       "      <td>IDD62UNG</td>\n",
       "      <td>Female</td>\n",
       "      <td>30</td>\n",
       "      <td>RG277</td>\n",
       "      <td>Salaried</td>\n",
       "      <td>X1</td>\n",
       "      <td>32</td>\n",
       "      <td>No</td>\n",
       "      <td>581988</td>\n",
       "      <td>No</td>\n",
       "      <td>0</td>\n",
       "    </tr>\n",
       "    <tr>\n",
       "      <th>2</th>\n",
       "      <td>HD3DSEMC</td>\n",
       "      <td>Female</td>\n",
       "      <td>56</td>\n",
       "      <td>RG268</td>\n",
       "      <td>Self_Employed</td>\n",
       "      <td>X3</td>\n",
       "      <td>26</td>\n",
       "      <td>No</td>\n",
       "      <td>1484315</td>\n",
       "      <td>Yes</td>\n",
       "      <td>0</td>\n",
       "    </tr>\n",
       "    <tr>\n",
       "      <th>3</th>\n",
       "      <td>BF3NC7KV</td>\n",
       "      <td>Male</td>\n",
       "      <td>34</td>\n",
       "      <td>RG270</td>\n",
       "      <td>Salaried</td>\n",
       "      <td>X1</td>\n",
       "      <td>19</td>\n",
       "      <td>No</td>\n",
       "      <td>470454</td>\n",
       "      <td>No</td>\n",
       "      <td>0</td>\n",
       "    </tr>\n",
       "    <tr>\n",
       "      <th>4</th>\n",
       "      <td>TEASRWXV</td>\n",
       "      <td>Female</td>\n",
       "      <td>30</td>\n",
       "      <td>RG282</td>\n",
       "      <td>Salaried</td>\n",
       "      <td>X1</td>\n",
       "      <td>33</td>\n",
       "      <td>No</td>\n",
       "      <td>886787</td>\n",
       "      <td>No</td>\n",
       "      <td>0</td>\n",
       "    </tr>\n",
       "    <tr>\n",
       "      <th>...</th>\n",
       "      <td>...</td>\n",
       "      <td>...</td>\n",
       "      <td>...</td>\n",
       "      <td>...</td>\n",
       "      <td>...</td>\n",
       "      <td>...</td>\n",
       "      <td>...</td>\n",
       "      <td>...</td>\n",
       "      <td>...</td>\n",
       "      <td>...</td>\n",
       "      <td>...</td>\n",
       "    </tr>\n",
       "    <tr>\n",
       "      <th>245720</th>\n",
       "      <td>BPAWWXZN</td>\n",
       "      <td>Male</td>\n",
       "      <td>51</td>\n",
       "      <td>RG284</td>\n",
       "      <td>Self_Employed</td>\n",
       "      <td>X3</td>\n",
       "      <td>109</td>\n",
       "      <td>NaN</td>\n",
       "      <td>1925586</td>\n",
       "      <td>No</td>\n",
       "      <td>0</td>\n",
       "    </tr>\n",
       "    <tr>\n",
       "      <th>245721</th>\n",
       "      <td>HFNB7JY8</td>\n",
       "      <td>Male</td>\n",
       "      <td>27</td>\n",
       "      <td>RG268</td>\n",
       "      <td>Salaried</td>\n",
       "      <td>X1</td>\n",
       "      <td>15</td>\n",
       "      <td>No</td>\n",
       "      <td>862952</td>\n",
       "      <td>Yes</td>\n",
       "      <td>0</td>\n",
       "    </tr>\n",
       "    <tr>\n",
       "      <th>245722</th>\n",
       "      <td>GEHAUCWT</td>\n",
       "      <td>Female</td>\n",
       "      <td>26</td>\n",
       "      <td>RG281</td>\n",
       "      <td>Salaried</td>\n",
       "      <td>X1</td>\n",
       "      <td>13</td>\n",
       "      <td>No</td>\n",
       "      <td>670659</td>\n",
       "      <td>No</td>\n",
       "      <td>0</td>\n",
       "    </tr>\n",
       "    <tr>\n",
       "      <th>245723</th>\n",
       "      <td>GE7V8SAH</td>\n",
       "      <td>Female</td>\n",
       "      <td>28</td>\n",
       "      <td>RG273</td>\n",
       "      <td>Salaried</td>\n",
       "      <td>X1</td>\n",
       "      <td>31</td>\n",
       "      <td>No</td>\n",
       "      <td>407504</td>\n",
       "      <td>No</td>\n",
       "      <td>0</td>\n",
       "    </tr>\n",
       "    <tr>\n",
       "      <th>245724</th>\n",
       "      <td>BOCZSWLJ</td>\n",
       "      <td>Male</td>\n",
       "      <td>29</td>\n",
       "      <td>RG269</td>\n",
       "      <td>Salaried</td>\n",
       "      <td>X1</td>\n",
       "      <td>21</td>\n",
       "      <td>No</td>\n",
       "      <td>1129276</td>\n",
       "      <td>No</td>\n",
       "      <td>0</td>\n",
       "    </tr>\n",
       "  </tbody>\n",
       "</table>\n",
       "<p>245725 rows × 11 columns</p>\n",
       "</div>"
      ],
      "text/plain": [
       "              ID  Gender  Age Region_Code     Occupation Channel_Code  \\\n",
       "0       NNVBBKZB  Female   73       RG268          Other           X3   \n",
       "1       IDD62UNG  Female   30       RG277       Salaried           X1   \n",
       "2       HD3DSEMC  Female   56       RG268  Self_Employed           X3   \n",
       "3       BF3NC7KV    Male   34       RG270       Salaried           X1   \n",
       "4       TEASRWXV  Female   30       RG282       Salaried           X1   \n",
       "...          ...     ...  ...         ...            ...          ...   \n",
       "245720  BPAWWXZN    Male   51       RG284  Self_Employed           X3   \n",
       "245721  HFNB7JY8    Male   27       RG268       Salaried           X1   \n",
       "245722  GEHAUCWT  Female   26       RG281       Salaried           X1   \n",
       "245723  GE7V8SAH  Female   28       RG273       Salaried           X1   \n",
       "245724  BOCZSWLJ    Male   29       RG269       Salaried           X1   \n",
       "\n",
       "        Vintage Credit_Product  Avg_Account_Balance Is_Active  Is_Lead  \n",
       "0            43             No              1045696        No        0  \n",
       "1            32             No               581988        No        0  \n",
       "2            26             No              1484315       Yes        0  \n",
       "3            19             No               470454        No        0  \n",
       "4            33             No               886787        No        0  \n",
       "...         ...            ...                  ...       ...      ...  \n",
       "245720      109            NaN              1925586        No        0  \n",
       "245721       15             No               862952       Yes        0  \n",
       "245722       13             No               670659        No        0  \n",
       "245723       31             No               407504        No        0  \n",
       "245724       21             No              1129276        No        0  \n",
       "\n",
       "[245725 rows x 11 columns]"
      ]
     },
     "execution_count": 196,
     "metadata": {},
     "output_type": "execute_result"
    }
   ],
   "source": [
    "train_df"
   ]
  },
  {
   "cell_type": "code",
   "execution_count": 38,
   "metadata": {},
   "outputs": [
    {
     "name": "stdout",
     "output_type": "stream",
     "text": [
      "Report SWEETVIZ_REPORT.html was generated! NOTEBOOK/COLAB USERS: the web browser MAY not pop up, regardless, the report IS saved in your notebook/colab files.\n"
     ]
    }
   ],
   "source": [
    "my_report.show_html()"
   ]
  },
  {
   "cell_type": "code",
   "execution_count": 47,
   "metadata": {},
   "outputs": [
    {
     "data": {
      "text/plain": [
       "(Index(['ID', 'Gender', 'Age', 'Region_Code', 'Occupation', 'Channel_Code',\n",
       "        'Vintage', 'Credit_Product', 'Avg_Account_Balance', 'Is_Active',\n",
       "        'Is_Lead'],\n",
       "       dtype='object'),\n",
       " Index(['ID', 'Gender', 'Age', 'Region_Code', 'Occupation', 'Channel_Code',\n",
       "        'Vintage', 'Credit_Product', 'Avg_Account_Balance', 'Is_Active'],\n",
       "       dtype='object'))"
      ]
     },
     "execution_count": 47,
     "metadata": {},
     "output_type": "execute_result"
    }
   ],
   "source": [
    "train_df.columns,test_df.columns"
   ]
  },
  {
   "cell_type": "code",
   "execution_count": 5,
   "metadata": {},
   "outputs": [],
   "source": [
    "class feature_eng():\n",
    "    \n",
    "    def __init__(self):\n",
    "        pass\n",
    "    def feature_cleaning(self,df):\n",
    "        df_copy=df.copy()\n",
    "        df_copy['Credit_Product']=df_copy.Credit_Product.fillna(\"NOT\")\n",
    "        df_copy['Is_Active']=df_copy['Is_Active'].apply(lambda x: {'Yes':1,'No':0}[x])\n",
    "        df_copy['Gender']=df_copy['Gender'].apply(lambda x: {'Female':1,'Male':0}[x])\n",
    "        \n",
    "        encoding_cols=['Occupation','Channel_Code','Credit_Product','Region_Code']\n",
    "        other_cols=['Gender','Is_Active','Age','Avg_Account_Balance','Vintage']\n",
    "        \n",
    "        encoded_list=[]\n",
    "        for j in encoding_cols:\n",
    "            encoded_list.append(pd.get_dummies(df_copy[j],prefix=j))\n",
    "        \n",
    "        for k in other_cols:\n",
    "            encoded_list.append(df_copy[k])\n",
    "            \n",
    "        final_df=pd.concat(encoded_list,axis=1)\n",
    "        final_df['log_age']=np.log(final_df.Age)\n",
    "        final_df['log_vintage']=np.log(final_df.Vintage)\n",
    "        final_df['log_Avg_Account_Balance']=np.log(final_df.Avg_Account_Balance)\n",
    "        \n",
    "        return final_df\n",
    "    \n",
    "    def normalize_features(self,df):\n",
    "        df_copy=df.copy()\n",
    "        \n",
    "        \n",
    "        def noramlize_age(x):\n",
    "            indx=int(x['age_cluster'])\n",
    "        #     print((x['log_age']-gm.means_[indx][0]),gm.covariances_[indx][0])\n",
    "            return (x['log_age']-self.age_gm.means_[indx][0])/self.age_gm.covariances_[indx][0][0]\n",
    "        \n",
    "        df_copy['age_cluster']=self.age_gm.predict(np.log(df_copy.Age.values).reshape(-1, 1))\n",
    "        df_copy['age_normalized']=df_copy.apply(lambda x:noramlize_age(x),axis=1 )\n",
    "        \n",
    "        def noramlize_vintage(x):\n",
    "            indx=int(x['vintage_cluster'])\n",
    "        #     print((x['log_age']-gm.means_[indx][0]),gm.covariances_[indx][0])\n",
    "            return (x['log_vintage']-self.vintage_gm.means_[indx][0])/self.vintage_gm.covariances_[indx][0][0]\n",
    "        \n",
    "        df_copy['vintage_cluster']=self.vintage_gm.predict(np.log(df_copy.Vintage.values).reshape(-1, 1))\n",
    "        df_copy['Vintage_normalized']=df_copy.apply(lambda x:noramlize_vintage(x),axis=1 )\n",
    "\n",
    "        df_copy['Avg_Account_Balance_normalized']=(df_copy['log_Avg_Account_Balance']-self.avg_bal_mean)/self.avg_bal_std\n",
    "        \n",
    "        return df_copy\n",
    "    \n",
    "    def fit(self,df_for_fit):\n",
    "        self.train_df=df_for_fit\n",
    "    \n",
    "        self.train_df=self.train_df.set_index('ID')\n",
    "        \n",
    "        self.train_df_processed=self.feature_cleaning(self.train_df)\n",
    "        \n",
    "        self.age_gm = GaussianMixture(n_components=2, random_state=0).fit(np.log(self.train_df_processed.Age.values).reshape(-1, 1))\n",
    "        self.vintage_gm = GaussianMixture(n_components=3, random_state=0).fit(np.log(self.train_df_processed.Vintage.values).reshape(-1, 1))\n",
    "        \n",
    "        self.avg_bal_mean=self.train_df_processed['log_Avg_Account_Balance'].mean()\n",
    "        self.avg_bal_std=self.train_df_processed['log_Avg_Account_Balance'].std()\n",
    "        \n",
    "        \n",
    "    def transform(self,trans_df):\n",
    "        self.trans_df_processed=self.feature_cleaning(trans_df)\n",
    "        self.trans_df_processed=self.normalize_features(self.trans_df_processed)\n",
    "        \n",
    "        return self.trans_df_processed\n",
    "        \n",
    "        \n",
    "        \n",
    "        \n",
    "        "
   ]
  },
  {
   "cell_type": "code",
   "execution_count": 9,
   "metadata": {},
   "outputs": [],
   "source": [
    "\n",
    "fe=feature_eng()"
   ]
  },
  {
   "cell_type": "code",
   "execution_count": 10,
   "metadata": {},
   "outputs": [],
   "source": [
    "fe.fit(train_df)"
   ]
  },
  {
   "cell_type": "code",
   "execution_count": 11,
   "metadata": {},
   "outputs": [],
   "source": [
    "train_df_processed=fe.transform(train_df)\n",
    "test_df_processed=fe.transform(test_df)"
   ]
  },
  {
   "cell_type": "code",
   "execution_count": 12,
   "metadata": {},
   "outputs": [],
   "source": [
    "reg_code=['Region_Code_RG250',\n",
    "       'Region_Code_RG251', 'Region_Code_RG252', 'Region_Code_RG253',\n",
    "       'Region_Code_RG254', 'Region_Code_RG255', 'Region_Code_RG256',\n",
    "       'Region_Code_RG257', 'Region_Code_RG258', 'Region_Code_RG259',\n",
    "       'Region_Code_RG260', 'Region_Code_RG261', 'Region_Code_RG262',\n",
    "       'Region_Code_RG263', 'Region_Code_RG264', 'Region_Code_RG265',\n",
    "       'Region_Code_RG266', 'Region_Code_RG267', 'Region_Code_RG268',\n",
    "       'Region_Code_RG269', 'Region_Code_RG270', 'Region_Code_RG271',\n",
    "       'Region_Code_RG272', 'Region_Code_RG273', 'Region_Code_RG274',\n",
    "       'Region_Code_RG275', 'Region_Code_RG276', 'Region_Code_RG277',\n",
    "       'Region_Code_RG278', 'Region_Code_RG279', 'Region_Code_RG280',\n",
    "       'Region_Code_RG281', 'Region_Code_RG282', 'Region_Code_RG283',\n",
    "       'Region_Code_RG284']\n",
    "train_idv_cols=['Occupation_Entrepreneur', 'Occupation_Other', 'Occupation_Salaried',\n",
    "       'Occupation_Self_Employed', 'Channel_Code_X1', 'Channel_Code_X2',\n",
    "       'Channel_Code_X3', 'Channel_Code_X4', 'Credit_Product_NOT',\n",
    "       'Credit_Product_No', 'Credit_Product_Yes', 'Gender', 'Is_Active', 'age_cluster',\n",
    "       'age_normalized', 'vintage_cluster', 'Vintage_normalized',\n",
    "       'Avg_Account_Balance_normalized']+reg_code\n",
    "\n",
    "\n",
    "target_col='Is_Lead'\n",
    "train_y=train_df[target_col]"
   ]
  },
  {
   "cell_type": "code",
   "execution_count": 13,
   "metadata": {},
   "outputs": [
    {
     "data": {
      "text/plain": [
       "Index(['Occupation_Entrepreneur', 'Occupation_Other', 'Occupation_Salaried',\n",
       "       'Occupation_Self_Employed', 'Channel_Code_X1', 'Channel_Code_X2',\n",
       "       'Channel_Code_X3', 'Channel_Code_X4', 'Credit_Product_NOT',\n",
       "       'Credit_Product_No', 'Credit_Product_Yes', 'Region_Code_RG250',\n",
       "       'Region_Code_RG251', 'Region_Code_RG252', 'Region_Code_RG253',\n",
       "       'Region_Code_RG254', 'Region_Code_RG255', 'Region_Code_RG256',\n",
       "       'Region_Code_RG257', 'Region_Code_RG258', 'Region_Code_RG259',\n",
       "       'Region_Code_RG260', 'Region_Code_RG261', 'Region_Code_RG262',\n",
       "       'Region_Code_RG263', 'Region_Code_RG264', 'Region_Code_RG265',\n",
       "       'Region_Code_RG266', 'Region_Code_RG267', 'Region_Code_RG268',\n",
       "       'Region_Code_RG269', 'Region_Code_RG270', 'Region_Code_RG271',\n",
       "       'Region_Code_RG272', 'Region_Code_RG273', 'Region_Code_RG274',\n",
       "       'Region_Code_RG275', 'Region_Code_RG276', 'Region_Code_RG277',\n",
       "       'Region_Code_RG278', 'Region_Code_RG279', 'Region_Code_RG280',\n",
       "       'Region_Code_RG281', 'Region_Code_RG282', 'Region_Code_RG283',\n",
       "       'Region_Code_RG284', 'Gender', 'Is_Active', 'Age',\n",
       "       'Avg_Account_Balance', 'Vintage', 'log_age', 'log_vintage',\n",
       "       'log_Avg_Account_Balance', 'age_cluster', 'age_normalized',\n",
       "       'vintage_cluster', 'Vintage_normalized',\n",
       "       'Avg_Account_Balance_normalized'],\n",
       "      dtype='object')"
      ]
     },
     "execution_count": 13,
     "metadata": {},
     "output_type": "execute_result"
    }
   ],
   "source": [
    "train_df_processed.columns"
   ]
  },
  {
   "cell_type": "code",
   "execution_count": 14,
   "metadata": {},
   "outputs": [],
   "source": [
    "from sklearn.linear_model import LogisticRegression\n",
    "from sklearn.metrics import roc_auc_score"
   ]
  },
  {
   "cell_type": "code",
   "execution_count": 16,
   "metadata": {},
   "outputs": [],
   "source": [
    "from sklearn import tree\n",
    "from sklearn.model_selection import GridSearchCV\n",
    "from sklearn.model_selection  import cross_val_score\n",
    "from sklearn.calibration import CalibratedClassifierCV\n",
    "from sklearn.ensemble import RandomForestClassifier"
   ]
  },
  {
   "cell_type": "code",
   "execution_count": 20,
   "metadata": {},
   "outputs": [],
   "source": [
    "import lightgbm as lgb"
   ]
  },
  {
   "cell_type": "code",
   "execution_count": 90,
   "metadata": {},
   "outputs": [],
   "source": [
    "scores=[]"
   ]
  },
  {
   "cell_type": "code",
   "execution_count": 113,
   "metadata": {},
   "outputs": [],
   "source": [
    "maxx=0\n",
    "max_param=0\n",
    "bst_com=[]"
   ]
  },
  {
   "cell_type": "code",
   "execution_count": 115,
   "metadata": {
    "scrolled": true
   },
   "outputs": [
    {
     "name": "stdout",
     "output_type": "stream",
     "text": [
      "{'num_leaves': 1000, 'objective': 'binary', 'max_depth': 500, 'verbosity': -1, 'learning_rate': 0.1, 'metric': 'auc', 'num_iterations': 100, 'max_bin': 250} 0.8706864517441938\n",
      "[]\n"
     ]
    },
    {
     "name": "stderr",
     "output_type": "stream",
     "text": [
      "C:\\Users\\RG\\anaconda3\\lib\\site-packages\\lightgbm\\engine.py:527: UserWarning: Found `num_iterations` in params. Will use it instead of argument\n",
      "  _log_warning(\"Found `{}` in params. Will use it instead of argument\".format(alias))\n"
     ]
    },
    {
     "name": "stdout",
     "output_type": "stream",
     "text": [
      "{'num_leaves': 1000, 'objective': 'binary', 'max_depth': 500, 'verbosity': -1, 'learning_rate': 0.1, 'metric': 'auc', 'num_iterations': 100, 'max_bin': 300} 0.8708652040487077\n",
      "({'num_leaves': 1000, 'objective': 'binary', 'max_depth': 500, 'verbosity': -1, 'learning_rate': 0.1, 'metric': 'auc', 'num_iterations': 100, 'max_bin': 250, 'score': {'auc-mean': [0.8664409250048525, 0.8686662052158045, 0.8694976201216665, 0.8697274614595477, 0.8702348739102244, 0.8702871989577436, 0.8704595418678149, 0.8705369207476489, 0.8706360254281218, 0.8706695732869599, 0.870644047679645, 0.8706864517441938], 'auc-stdv': [0.002746647547693891, 0.0026100679905351836, 0.002348703086607543, 0.002433374579934804, 0.002440415368507826, 0.0024318970214624886, 0.002601886696854023, 0.002573277119065549, 0.0025503664180137743, 0.0024889275829748656, 0.0024145806156399396, 0.0023843270851885427]}, 'num_round': 100}, 0.8706864517441938)\n"
     ]
    },
    {
     "name": "stderr",
     "output_type": "stream",
     "text": [
      "C:\\Users\\RG\\anaconda3\\lib\\site-packages\\lightgbm\\engine.py:527: UserWarning: Found `num_iterations` in params. Will use it instead of argument\n",
      "  _log_warning(\"Found `{}` in params. Will use it instead of argument\".format(alias))\n"
     ]
    },
    {
     "name": "stdout",
     "output_type": "stream",
     "text": [
      "{'num_leaves': 1000, 'objective': 'binary', 'max_depth': 500, 'verbosity': -1, 'learning_rate': 0.1, 'metric': 'auc', 'num_iterations': 100, 'max_bin': 350} 0.8707340259623517\n",
      "({'num_leaves': 1000, 'objective': 'binary', 'max_depth': 500, 'verbosity': -1, 'learning_rate': 0.1, 'metric': 'auc', 'num_iterations': 100, 'max_bin': 300, 'score': {'auc-mean': [0.8663898815539752, 0.8687741891540617, 0.869527349542244, 0.8698498183047946, 0.8703346079791467, 0.8704322952417174, 0.8705548086022962, 0.870690680634549, 0.8706858140785677, 0.87078810014241, 0.8708652040487077], 'auc-stdv': [0.0024376988803734073, 0.00219076872080463, 0.0022084424443004373, 0.0020810742265708368, 0.0020714529901617426, 0.0021600351038604765, 0.0023898675084802973, 0.002431799344261049, 0.0024659942946118315, 0.002422358867610798, 0.002341714531694058]}, 'num_round': 100}, 0.8708652040487077)\n"
     ]
    },
    {
     "name": "stderr",
     "output_type": "stream",
     "text": [
      "C:\\Users\\RG\\anaconda3\\lib\\site-packages\\lightgbm\\engine.py:527: UserWarning: Found `num_iterations` in params. Will use it instead of argument\n",
      "  _log_warning(\"Found `{}` in params. Will use it instead of argument\".format(alias))\n"
     ]
    },
    {
     "name": "stdout",
     "output_type": "stream",
     "text": [
      "{'num_leaves': 1000, 'objective': 'binary', 'max_depth': 500, 'verbosity': -1, 'learning_rate': 0.1, 'metric': 'auc', 'num_iterations': 100, 'max_bin': 400} 0.8708993620511386\n",
      "({'num_leaves': 1000, 'objective': 'binary', 'max_depth': 500, 'verbosity': -1, 'learning_rate': 0.1, 'metric': 'auc', 'num_iterations': 100, 'max_bin': 300, 'score': {'auc-mean': [0.8663898815539752, 0.8687741891540617, 0.869527349542244, 0.8698498183047946, 0.8703346079791467, 0.8704322952417174, 0.8705548086022962, 0.870690680634549, 0.8706858140785677, 0.87078810014241, 0.8708652040487077], 'auc-stdv': [0.0024376988803734073, 0.00219076872080463, 0.0022084424443004373, 0.0020810742265708368, 0.0020714529901617426, 0.0021600351038604765, 0.0023898675084802973, 0.002431799344261049, 0.0024659942946118315, 0.002422358867610798, 0.002341714531694058]}, 'num_round': 100}, 0.8708652040487077)\n"
     ]
    },
    {
     "name": "stderr",
     "output_type": "stream",
     "text": [
      "C:\\Users\\RG\\anaconda3\\lib\\site-packages\\lightgbm\\engine.py:527: UserWarning: Found `num_iterations` in params. Will use it instead of argument\n",
      "  _log_warning(\"Found `{}` in params. Will use it instead of argument\".format(alias))\n"
     ]
    },
    {
     "name": "stdout",
     "output_type": "stream",
     "text": [
      "{'num_leaves': 1000, 'objective': 'binary', 'max_depth': 500, 'verbosity': -1, 'learning_rate': 0.1, 'metric': 'auc', 'num_iterations': 100, 'max_bin': 450} 0.8707665509455295\n",
      "({'num_leaves': 1000, 'objective': 'binary', 'max_depth': 500, 'verbosity': -1, 'learning_rate': 0.1, 'metric': 'auc', 'num_iterations': 100, 'max_bin': 400, 'score': {'auc-mean': [0.8662333548463168, 0.8687130249399925, 0.8693482018018018, 0.869873495053497, 0.8702070233781743, 0.8703084378164554, 0.8705067950615535, 0.8706662474231083, 0.8707229073939354, 0.870732770845893, 0.8707859974576033, 0.8708355427300415, 0.8708993620511386], 'auc-stdv': [0.0024821131169528612, 0.00237941057044277, 0.002200682946465272, 0.0022344076565443643, 0.002195749777422205, 0.0022487401493780177, 0.0023735262966413664, 0.0023490010398289833, 0.002276150527206883, 0.0022511054340152085, 0.002258975985856309, 0.0023210419607211257, 0.002242483498284961]}, 'num_round': 100}, 0.8708993620511386)\n"
     ]
    },
    {
     "name": "stderr",
     "output_type": "stream",
     "text": [
      "C:\\Users\\RG\\anaconda3\\lib\\site-packages\\lightgbm\\engine.py:527: UserWarning: Found `num_iterations` in params. Will use it instead of argument\n",
      "  _log_warning(\"Found `{}` in params. Will use it instead of argument\".format(alias))\n"
     ]
    },
    {
     "name": "stdout",
     "output_type": "stream",
     "text": [
      "{'num_leaves': 1000, 'objective': 'binary', 'max_depth': 500, 'verbosity': -1, 'learning_rate': 0.1, 'metric': 'auc', 'num_iterations': 100, 'max_bin': 500} 0.8707588382831766\n",
      "({'num_leaves': 1000, 'objective': 'binary', 'max_depth': 500, 'verbosity': -1, 'learning_rate': 0.1, 'metric': 'auc', 'num_iterations': 100, 'max_bin': 400, 'score': {'auc-mean': [0.8662333548463168, 0.8687130249399925, 0.8693482018018018, 0.869873495053497, 0.8702070233781743, 0.8703084378164554, 0.8705067950615535, 0.8706662474231083, 0.8707229073939354, 0.870732770845893, 0.8707859974576033, 0.8708355427300415, 0.8708993620511386], 'auc-stdv': [0.0024821131169528612, 0.00237941057044277, 0.002200682946465272, 0.0022344076565443643, 0.002195749777422205, 0.0022487401493780177, 0.0023735262966413664, 0.0023490010398289833, 0.002276150527206883, 0.0022511054340152085, 0.002258975985856309, 0.0023210419607211257, 0.002242483498284961]}, 'num_round': 100}, 0.8708993620511386)\n"
     ]
    },
    {
     "name": "stderr",
     "output_type": "stream",
     "text": [
      "C:\\Users\\RG\\anaconda3\\lib\\site-packages\\lightgbm\\engine.py:527: UserWarning: Found `num_iterations` in params. Will use it instead of argument\n",
      "  _log_warning(\"Found `{}` in params. Will use it instead of argument\".format(alias))\n"
     ]
    },
    {
     "name": "stdout",
     "output_type": "stream",
     "text": [
      "{'num_leaves': 1000, 'objective': 'binary', 'max_depth': 500, 'verbosity': -1, 'learning_rate': 0.1, 'metric': 'auc', 'num_iterations': 100, 'max_bin': 550} 0.8705666498652829\n",
      "({'num_leaves': 1000, 'objective': 'binary', 'max_depth': 500, 'verbosity': -1, 'learning_rate': 0.1, 'metric': 'auc', 'num_iterations': 100, 'max_bin': 400, 'score': {'auc-mean': [0.8662333548463168, 0.8687130249399925, 0.8693482018018018, 0.869873495053497, 0.8702070233781743, 0.8703084378164554, 0.8705067950615535, 0.8706662474231083, 0.8707229073939354, 0.870732770845893, 0.8707859974576033, 0.8708355427300415, 0.8708993620511386], 'auc-stdv': [0.0024821131169528612, 0.00237941057044277, 0.002200682946465272, 0.0022344076565443643, 0.002195749777422205, 0.0022487401493780177, 0.0023735262966413664, 0.0023490010398289833, 0.002276150527206883, 0.0022511054340152085, 0.002258975985856309, 0.0023210419607211257, 0.002242483498284961]}, 'num_round': 100}, 0.8708993620511386)\n"
     ]
    },
    {
     "name": "stderr",
     "output_type": "stream",
     "text": [
      "C:\\Users\\RG\\anaconda3\\lib\\site-packages\\lightgbm\\engine.py:527: UserWarning: Found `num_iterations` in params. Will use it instead of argument\n",
      "  _log_warning(\"Found `{}` in params. Will use it instead of argument\".format(alias))\n"
     ]
    },
    {
     "name": "stdout",
     "output_type": "stream",
     "text": [
      "{'num_leaves': 1000, 'objective': 'binary', 'max_depth': 500, 'verbosity': -1, 'learning_rate': 0.1, 'metric': 'auc', 'num_iterations': 100, 'max_bin': 600} 0.8707261952874319\n",
      "({'num_leaves': 1000, 'objective': 'binary', 'max_depth': 500, 'verbosity': -1, 'learning_rate': 0.1, 'metric': 'auc', 'num_iterations': 100, 'max_bin': 400, 'score': {'auc-mean': [0.8662333548463168, 0.8687130249399925, 0.8693482018018018, 0.869873495053497, 0.8702070233781743, 0.8703084378164554, 0.8705067950615535, 0.8706662474231083, 0.8707229073939354, 0.870732770845893, 0.8707859974576033, 0.8708355427300415, 0.8708993620511386], 'auc-stdv': [0.0024821131169528612, 0.00237941057044277, 0.002200682946465272, 0.0022344076565443643, 0.002195749777422205, 0.0022487401493780177, 0.0023735262966413664, 0.0023490010398289833, 0.002276150527206883, 0.0022511054340152085, 0.002258975985856309, 0.0023210419607211257, 0.002242483498284961]}, 'num_round': 100}, 0.8708993620511386)\n"
     ]
    },
    {
     "name": "stderr",
     "output_type": "stream",
     "text": [
      "C:\\Users\\RG\\anaconda3\\lib\\site-packages\\lightgbm\\engine.py:527: UserWarning: Found `num_iterations` in params. Will use it instead of argument\n",
      "  _log_warning(\"Found `{}` in params. Will use it instead of argument\".format(alias))\n"
     ]
    },
    {
     "name": "stdout",
     "output_type": "stream",
     "text": [
      "{'num_leaves': 1000, 'objective': 'binary', 'max_depth': 500, 'verbosity': -1, 'learning_rate': 0.1, 'metric': 'auc', 'num_iterations': 100, 'max_bin': 650} 0.8706845855969736\n",
      "({'num_leaves': 1000, 'objective': 'binary', 'max_depth': 500, 'verbosity': -1, 'learning_rate': 0.1, 'metric': 'auc', 'num_iterations': 100, 'max_bin': 400, 'score': {'auc-mean': [0.8662333548463168, 0.8687130249399925, 0.8693482018018018, 0.869873495053497, 0.8702070233781743, 0.8703084378164554, 0.8705067950615535, 0.8706662474231083, 0.8707229073939354, 0.870732770845893, 0.8707859974576033, 0.8708355427300415, 0.8708993620511386], 'auc-stdv': [0.0024821131169528612, 0.00237941057044277, 0.002200682946465272, 0.0022344076565443643, 0.002195749777422205, 0.0022487401493780177, 0.0023735262966413664, 0.0023490010398289833, 0.002276150527206883, 0.0022511054340152085, 0.002258975985856309, 0.0023210419607211257, 0.002242483498284961]}, 'num_round': 100}, 0.8708993620511386)\n"
     ]
    },
    {
     "name": "stderr",
     "output_type": "stream",
     "text": [
      "C:\\Users\\RG\\anaconda3\\lib\\site-packages\\lightgbm\\engine.py:527: UserWarning: Found `num_iterations` in params. Will use it instead of argument\n",
      "  _log_warning(\"Found `{}` in params. Will use it instead of argument\".format(alias))\n"
     ]
    },
    {
     "name": "stdout",
     "output_type": "stream",
     "text": [
      "{'num_leaves': 1000, 'objective': 'binary', 'max_depth': 500, 'verbosity': -1, 'learning_rate': 0.1, 'metric': 'auc', 'num_iterations': 100, 'max_bin': 700} 0.8708095037216133\n",
      "({'num_leaves': 1000, 'objective': 'binary', 'max_depth': 500, 'verbosity': -1, 'learning_rate': 0.1, 'metric': 'auc', 'num_iterations': 100, 'max_bin': 400, 'score': {'auc-mean': [0.8662333548463168, 0.8687130249399925, 0.8693482018018018, 0.869873495053497, 0.8702070233781743, 0.8703084378164554, 0.8705067950615535, 0.8706662474231083, 0.8707229073939354, 0.870732770845893, 0.8707859974576033, 0.8708355427300415, 0.8708993620511386], 'auc-stdv': [0.0024821131169528612, 0.00237941057044277, 0.002200682946465272, 0.0022344076565443643, 0.002195749777422205, 0.0022487401493780177, 0.0023735262966413664, 0.0023490010398289833, 0.002276150527206883, 0.0022511054340152085, 0.002258975985856309, 0.0023210419607211257, 0.002242483498284961]}, 'num_round': 100}, 0.8708993620511386)\n"
     ]
    },
    {
     "name": "stderr",
     "output_type": "stream",
     "text": [
      "C:\\Users\\RG\\anaconda3\\lib\\site-packages\\lightgbm\\engine.py:527: UserWarning: Found `num_iterations` in params. Will use it instead of argument\n",
      "  _log_warning(\"Found `{}` in params. Will use it instead of argument\".format(alias))\n"
     ]
    },
    {
     "name": "stdout",
     "output_type": "stream",
     "text": [
      "{'num_leaves': 1000, 'objective': 'binary', 'max_depth': 500, 'verbosity': -1, 'learning_rate': 0.1, 'metric': 'auc', 'num_iterations': 100, 'max_bin': 750} 0.8707600266162568\n",
      "({'num_leaves': 1000, 'objective': 'binary', 'max_depth': 500, 'verbosity': -1, 'learning_rate': 0.1, 'metric': 'auc', 'num_iterations': 100, 'max_bin': 400, 'score': {'auc-mean': [0.8662333548463168, 0.8687130249399925, 0.8693482018018018, 0.869873495053497, 0.8702070233781743, 0.8703084378164554, 0.8705067950615535, 0.8706662474231083, 0.8707229073939354, 0.870732770845893, 0.8707859974576033, 0.8708355427300415, 0.8708993620511386], 'auc-stdv': [0.0024821131169528612, 0.00237941057044277, 0.002200682946465272, 0.0022344076565443643, 0.002195749777422205, 0.0022487401493780177, 0.0023735262966413664, 0.0023490010398289833, 0.002276150527206883, 0.0022511054340152085, 0.002258975985856309, 0.0023210419607211257, 0.002242483498284961]}, 'num_round': 100}, 0.8708993620511386)\n"
     ]
    },
    {
     "name": "stderr",
     "output_type": "stream",
     "text": [
      "C:\\Users\\RG\\anaconda3\\lib\\site-packages\\lightgbm\\engine.py:527: UserWarning: Found `num_iterations` in params. Will use it instead of argument\n",
      "  _log_warning(\"Found `{}` in params. Will use it instead of argument\".format(alias))\n"
     ]
    },
    {
     "name": "stdout",
     "output_type": "stream",
     "text": [
      "{'num_leaves': 1000, 'objective': 'binary', 'max_depth': 500, 'verbosity': -1, 'learning_rate': 0.1, 'metric': 'auc', 'num_iterations': 100, 'max_bin': 800} 0.8709064200059989\n",
      "({'num_leaves': 1000, 'objective': 'binary', 'max_depth': 500, 'verbosity': -1, 'learning_rate': 0.1, 'metric': 'auc', 'num_iterations': 100, 'max_bin': 400, 'score': {'auc-mean': [0.8662333548463168, 0.8687130249399925, 0.8693482018018018, 0.869873495053497, 0.8702070233781743, 0.8703084378164554, 0.8705067950615535, 0.8706662474231083, 0.8707229073939354, 0.870732770845893, 0.8707859974576033, 0.8708355427300415, 0.8708993620511386], 'auc-stdv': [0.0024821131169528612, 0.00237941057044277, 0.002200682946465272, 0.0022344076565443643, 0.002195749777422205, 0.0022487401493780177, 0.0023735262966413664, 0.0023490010398289833, 0.002276150527206883, 0.0022511054340152085, 0.002258975985856309, 0.0023210419607211257, 0.002242483498284961]}, 'num_round': 100}, 0.8708993620511386)\n"
     ]
    },
    {
     "name": "stderr",
     "output_type": "stream",
     "text": [
      "C:\\Users\\RG\\anaconda3\\lib\\site-packages\\lightgbm\\engine.py:527: UserWarning: Found `num_iterations` in params. Will use it instead of argument\n",
      "  _log_warning(\"Found `{}` in params. Will use it instead of argument\".format(alias))\n"
     ]
    },
    {
     "name": "stdout",
     "output_type": "stream",
     "text": [
      "{'num_leaves': 1000, 'objective': 'binary', 'max_depth': 500, 'verbosity': -1, 'learning_rate': 0.1, 'metric': 'auc', 'num_iterations': 100, 'max_bin': 850} 0.8709294146990334\n",
      "({'num_leaves': 1000, 'objective': 'binary', 'max_depth': 500, 'verbosity': -1, 'learning_rate': 0.1, 'metric': 'auc', 'num_iterations': 100, 'max_bin': 800, 'score': {'auc-mean': [0.8661911973008415, 0.8685216645696124, 0.8694276069595027, 0.8699525606526265, 0.8702130299735613, 0.8703642521978894, 0.8705050141726798, 0.8706362418724799, 0.87076303927936, 0.8707611501565475, 0.8708858550512817, 0.8709064200059989], 'auc-stdv': [0.0025504664170831214, 0.0024474084176222665, 0.002253727347664172, 0.00225589363519369, 0.0022737298581158587, 0.0022323423487444743, 0.0023535430689317948, 0.002352195329819022, 0.002321160245288519, 0.0022836141755849825, 0.0022249524799053066, 0.0022132928840703477]}, 'num_round': 100}, 0.8709064200059989)\n"
     ]
    },
    {
     "name": "stderr",
     "output_type": "stream",
     "text": [
      "C:\\Users\\RG\\anaconda3\\lib\\site-packages\\lightgbm\\engine.py:527: UserWarning: Found `num_iterations` in params. Will use it instead of argument\n",
      "  _log_warning(\"Found `{}` in params. Will use it instead of argument\".format(alias))\n"
     ]
    },
    {
     "name": "stdout",
     "output_type": "stream",
     "text": [
      "{'num_leaves': 1000, 'objective': 'binary', 'max_depth': 500, 'verbosity': -1, 'learning_rate': 0.1, 'metric': 'auc', 'num_iterations': 100, 'max_bin': 900} 0.8707426786566941\n",
      "({'num_leaves': 1000, 'objective': 'binary', 'max_depth': 500, 'verbosity': -1, 'learning_rate': 0.1, 'metric': 'auc', 'num_iterations': 100, 'max_bin': 850, 'score': {'auc-mean': [0.8660862404379077, 0.868425230973832, 0.8694172813298581, 0.8698413668637534, 0.8701246901558471, 0.8703120862226174, 0.8704629269516962, 0.8705967738869116, 0.8706066498017817, 0.8707864356954416, 0.870803063684081, 0.8708824914097437, 0.8709294146990334], 'auc-stdv': [0.002659870170730273, 0.002518594313133417, 0.0022878264307808504, 0.0023317306461980896, 0.002385988870666469, 0.0024836278494966145, 0.0025736029075052215, 0.0025433133710582026, 0.0023246391625028023, 0.002347312392897173, 0.0023306078606630276, 0.0022525104006722602, 0.0023630015422157055]}, 'num_round': 100}, 0.8709294146990334)\n"
     ]
    },
    {
     "name": "stderr",
     "output_type": "stream",
     "text": [
      "C:\\Users\\RG\\anaconda3\\lib\\site-packages\\lightgbm\\engine.py:527: UserWarning: Found `num_iterations` in params. Will use it instead of argument\n",
      "  _log_warning(\"Found `{}` in params. Will use it instead of argument\".format(alias))\n"
     ]
    },
    {
     "name": "stdout",
     "output_type": "stream",
     "text": [
      "{'num_leaves': 1000, 'objective': 'binary', 'max_depth': 500, 'verbosity': -1, 'learning_rate': 0.1, 'metric': 'auc', 'num_iterations': 100, 'max_bin': 950} 0.870699704917129\n",
      "({'num_leaves': 1000, 'objective': 'binary', 'max_depth': 500, 'verbosity': -1, 'learning_rate': 0.1, 'metric': 'auc', 'num_iterations': 100, 'max_bin': 850, 'score': {'auc-mean': [0.8660862404379077, 0.868425230973832, 0.8694172813298581, 0.8698413668637534, 0.8701246901558471, 0.8703120862226174, 0.8704629269516962, 0.8705967738869116, 0.8706066498017817, 0.8707864356954416, 0.870803063684081, 0.8708824914097437, 0.8709294146990334], 'auc-stdv': [0.002659870170730273, 0.002518594313133417, 0.0022878264307808504, 0.0023317306461980896, 0.002385988870666469, 0.0024836278494966145, 0.0025736029075052215, 0.0025433133710582026, 0.0023246391625028023, 0.002347312392897173, 0.0023306078606630276, 0.0022525104006722602, 0.0023630015422157055]}, 'num_round': 100}, 0.8709294146990334)\n"
     ]
    },
    {
     "name": "stderr",
     "output_type": "stream",
     "text": [
      "C:\\Users\\RG\\anaconda3\\lib\\site-packages\\lightgbm\\engine.py:527: UserWarning: Found `num_iterations` in params. Will use it instead of argument\n",
      "  _log_warning(\"Found `{}` in params. Will use it instead of argument\".format(alias))\n"
     ]
    },
    {
     "name": "stdout",
     "output_type": "stream",
     "text": [
      "{'num_leaves': 1000, 'objective': 'binary', 'max_depth': 500, 'verbosity': -1, 'learning_rate': 0.1, 'metric': 'auc', 'num_iterations': 200, 'max_bin': 250} 0.8706864517441938\n",
      "({'num_leaves': 1000, 'objective': 'binary', 'max_depth': 500, 'verbosity': -1, 'learning_rate': 0.1, 'metric': 'auc', 'num_iterations': 100, 'max_bin': 850, 'score': {'auc-mean': [0.8660862404379077, 0.868425230973832, 0.8694172813298581, 0.8698413668637534, 0.8701246901558471, 0.8703120862226174, 0.8704629269516962, 0.8705967738869116, 0.8706066498017817, 0.8707864356954416, 0.870803063684081, 0.8708824914097437, 0.8709294146990334], 'auc-stdv': [0.002659870170730273, 0.002518594313133417, 0.0022878264307808504, 0.0023317306461980896, 0.002385988870666469, 0.0024836278494966145, 0.0025736029075052215, 0.0025433133710582026, 0.0023246391625028023, 0.002347312392897173, 0.0023306078606630276, 0.0022525104006722602, 0.0023630015422157055]}, 'num_round': 100}, 0.8709294146990334)\n"
     ]
    },
    {
     "name": "stderr",
     "output_type": "stream",
     "text": [
      "C:\\Users\\RG\\anaconda3\\lib\\site-packages\\lightgbm\\engine.py:527: UserWarning: Found `num_iterations` in params. Will use it instead of argument\n",
      "  _log_warning(\"Found `{}` in params. Will use it instead of argument\".format(alias))\n"
     ]
    },
    {
     "name": "stdout",
     "output_type": "stream",
     "text": [
      "{'num_leaves': 1000, 'objective': 'binary', 'max_depth': 500, 'verbosity': -1, 'learning_rate': 0.1, 'metric': 'auc', 'num_iterations': 200, 'max_bin': 300} 0.8708652040487077\n",
      "({'num_leaves': 1000, 'objective': 'binary', 'max_depth': 500, 'verbosity': -1, 'learning_rate': 0.1, 'metric': 'auc', 'num_iterations': 100, 'max_bin': 850, 'score': {'auc-mean': [0.8660862404379077, 0.868425230973832, 0.8694172813298581, 0.8698413668637534, 0.8701246901558471, 0.8703120862226174, 0.8704629269516962, 0.8705967738869116, 0.8706066498017817, 0.8707864356954416, 0.870803063684081, 0.8708824914097437, 0.8709294146990334], 'auc-stdv': [0.002659870170730273, 0.002518594313133417, 0.0022878264307808504, 0.0023317306461980896, 0.002385988870666469, 0.0024836278494966145, 0.0025736029075052215, 0.0025433133710582026, 0.0023246391625028023, 0.002347312392897173, 0.0023306078606630276, 0.0022525104006722602, 0.0023630015422157055]}, 'num_round': 100}, 0.8709294146990334)\n"
     ]
    },
    {
     "name": "stderr",
     "output_type": "stream",
     "text": [
      "C:\\Users\\RG\\anaconda3\\lib\\site-packages\\lightgbm\\engine.py:527: UserWarning: Found `num_iterations` in params. Will use it instead of argument\n",
      "  _log_warning(\"Found `{}` in params. Will use it instead of argument\".format(alias))\n"
     ]
    },
    {
     "name": "stdout",
     "output_type": "stream",
     "text": [
      "{'num_leaves': 1000, 'objective': 'binary', 'max_depth': 500, 'verbosity': -1, 'learning_rate': 0.1, 'metric': 'auc', 'num_iterations': 200, 'max_bin': 350} 0.8707340259623517\n",
      "({'num_leaves': 1000, 'objective': 'binary', 'max_depth': 500, 'verbosity': -1, 'learning_rate': 0.1, 'metric': 'auc', 'num_iterations': 100, 'max_bin': 850, 'score': {'auc-mean': [0.8660862404379077, 0.868425230973832, 0.8694172813298581, 0.8698413668637534, 0.8701246901558471, 0.8703120862226174, 0.8704629269516962, 0.8705967738869116, 0.8706066498017817, 0.8707864356954416, 0.870803063684081, 0.8708824914097437, 0.8709294146990334], 'auc-stdv': [0.002659870170730273, 0.002518594313133417, 0.0022878264307808504, 0.0023317306461980896, 0.002385988870666469, 0.0024836278494966145, 0.0025736029075052215, 0.0025433133710582026, 0.0023246391625028023, 0.002347312392897173, 0.0023306078606630276, 0.0022525104006722602, 0.0023630015422157055]}, 'num_round': 100}, 0.8709294146990334)\n"
     ]
    },
    {
     "name": "stderr",
     "output_type": "stream",
     "text": [
      "C:\\Users\\RG\\anaconda3\\lib\\site-packages\\lightgbm\\engine.py:527: UserWarning: Found `num_iterations` in params. Will use it instead of argument\n",
      "  _log_warning(\"Found `{}` in params. Will use it instead of argument\".format(alias))\n"
     ]
    },
    {
     "name": "stdout",
     "output_type": "stream",
     "text": [
      "{'num_leaves': 1000, 'objective': 'binary', 'max_depth': 500, 'verbosity': -1, 'learning_rate': 0.1, 'metric': 'auc', 'num_iterations': 200, 'max_bin': 400} 0.8708993620511386\n",
      "({'num_leaves': 1000, 'objective': 'binary', 'max_depth': 500, 'verbosity': -1, 'learning_rate': 0.1, 'metric': 'auc', 'num_iterations': 100, 'max_bin': 850, 'score': {'auc-mean': [0.8660862404379077, 0.868425230973832, 0.8694172813298581, 0.8698413668637534, 0.8701246901558471, 0.8703120862226174, 0.8704629269516962, 0.8705967738869116, 0.8706066498017817, 0.8707864356954416, 0.870803063684081, 0.8708824914097437, 0.8709294146990334], 'auc-stdv': [0.002659870170730273, 0.002518594313133417, 0.0022878264307808504, 0.0023317306461980896, 0.002385988870666469, 0.0024836278494966145, 0.0025736029075052215, 0.0025433133710582026, 0.0023246391625028023, 0.002347312392897173, 0.0023306078606630276, 0.0022525104006722602, 0.0023630015422157055]}, 'num_round': 100}, 0.8709294146990334)\n"
     ]
    },
    {
     "name": "stderr",
     "output_type": "stream",
     "text": [
      "C:\\Users\\RG\\anaconda3\\lib\\site-packages\\lightgbm\\engine.py:527: UserWarning: Found `num_iterations` in params. Will use it instead of argument\n",
      "  _log_warning(\"Found `{}` in params. Will use it instead of argument\".format(alias))\n"
     ]
    },
    {
     "name": "stdout",
     "output_type": "stream",
     "text": [
      "{'num_leaves': 1000, 'objective': 'binary', 'max_depth': 500, 'verbosity': -1, 'learning_rate': 0.1, 'metric': 'auc', 'num_iterations': 200, 'max_bin': 450} 0.8707665509455295\n",
      "({'num_leaves': 1000, 'objective': 'binary', 'max_depth': 500, 'verbosity': -1, 'learning_rate': 0.1, 'metric': 'auc', 'num_iterations': 100, 'max_bin': 850, 'score': {'auc-mean': [0.8660862404379077, 0.868425230973832, 0.8694172813298581, 0.8698413668637534, 0.8701246901558471, 0.8703120862226174, 0.8704629269516962, 0.8705967738869116, 0.8706066498017817, 0.8707864356954416, 0.870803063684081, 0.8708824914097437, 0.8709294146990334], 'auc-stdv': [0.002659870170730273, 0.002518594313133417, 0.0022878264307808504, 0.0023317306461980896, 0.002385988870666469, 0.0024836278494966145, 0.0025736029075052215, 0.0025433133710582026, 0.0023246391625028023, 0.002347312392897173, 0.0023306078606630276, 0.0022525104006722602, 0.0023630015422157055]}, 'num_round': 100}, 0.8709294146990334)\n"
     ]
    },
    {
     "name": "stderr",
     "output_type": "stream",
     "text": [
      "C:\\Users\\RG\\anaconda3\\lib\\site-packages\\lightgbm\\engine.py:527: UserWarning: Found `num_iterations` in params. Will use it instead of argument\n",
      "  _log_warning(\"Found `{}` in params. Will use it instead of argument\".format(alias))\n"
     ]
    },
    {
     "name": "stdout",
     "output_type": "stream",
     "text": [
      "{'num_leaves': 1000, 'objective': 'binary', 'max_depth': 500, 'verbosity': -1, 'learning_rate': 0.1, 'metric': 'auc', 'num_iterations': 200, 'max_bin': 500} 0.8707588382831766\n",
      "({'num_leaves': 1000, 'objective': 'binary', 'max_depth': 500, 'verbosity': -1, 'learning_rate': 0.1, 'metric': 'auc', 'num_iterations': 100, 'max_bin': 850, 'score': {'auc-mean': [0.8660862404379077, 0.868425230973832, 0.8694172813298581, 0.8698413668637534, 0.8701246901558471, 0.8703120862226174, 0.8704629269516962, 0.8705967738869116, 0.8706066498017817, 0.8707864356954416, 0.870803063684081, 0.8708824914097437, 0.8709294146990334], 'auc-stdv': [0.002659870170730273, 0.002518594313133417, 0.0022878264307808504, 0.0023317306461980896, 0.002385988870666469, 0.0024836278494966145, 0.0025736029075052215, 0.0025433133710582026, 0.0023246391625028023, 0.002347312392897173, 0.0023306078606630276, 0.0022525104006722602, 0.0023630015422157055]}, 'num_round': 100}, 0.8709294146990334)\n"
     ]
    },
    {
     "name": "stderr",
     "output_type": "stream",
     "text": [
      "C:\\Users\\RG\\anaconda3\\lib\\site-packages\\lightgbm\\engine.py:527: UserWarning: Found `num_iterations` in params. Will use it instead of argument\n",
      "  _log_warning(\"Found `{}` in params. Will use it instead of argument\".format(alias))\n"
     ]
    },
    {
     "name": "stdout",
     "output_type": "stream",
     "text": [
      "{'num_leaves': 1000, 'objective': 'binary', 'max_depth': 500, 'verbosity': -1, 'learning_rate': 0.1, 'metric': 'auc', 'num_iterations': 200, 'max_bin': 550} 0.8705666498652829\n",
      "({'num_leaves': 1000, 'objective': 'binary', 'max_depth': 500, 'verbosity': -1, 'learning_rate': 0.1, 'metric': 'auc', 'num_iterations': 100, 'max_bin': 850, 'score': {'auc-mean': [0.8660862404379077, 0.868425230973832, 0.8694172813298581, 0.8698413668637534, 0.8701246901558471, 0.8703120862226174, 0.8704629269516962, 0.8705967738869116, 0.8706066498017817, 0.8707864356954416, 0.870803063684081, 0.8708824914097437, 0.8709294146990334], 'auc-stdv': [0.002659870170730273, 0.002518594313133417, 0.0022878264307808504, 0.0023317306461980896, 0.002385988870666469, 0.0024836278494966145, 0.0025736029075052215, 0.0025433133710582026, 0.0023246391625028023, 0.002347312392897173, 0.0023306078606630276, 0.0022525104006722602, 0.0023630015422157055]}, 'num_round': 100}, 0.8709294146990334)\n"
     ]
    },
    {
     "name": "stderr",
     "output_type": "stream",
     "text": [
      "C:\\Users\\RG\\anaconda3\\lib\\site-packages\\lightgbm\\engine.py:527: UserWarning: Found `num_iterations` in params. Will use it instead of argument\n",
      "  _log_warning(\"Found `{}` in params. Will use it instead of argument\".format(alias))\n"
     ]
    },
    {
     "name": "stdout",
     "output_type": "stream",
     "text": [
      "{'num_leaves': 1000, 'objective': 'binary', 'max_depth': 500, 'verbosity': -1, 'learning_rate': 0.1, 'metric': 'auc', 'num_iterations': 200, 'max_bin': 600} 0.8707261952874319\n",
      "({'num_leaves': 1000, 'objective': 'binary', 'max_depth': 500, 'verbosity': -1, 'learning_rate': 0.1, 'metric': 'auc', 'num_iterations': 100, 'max_bin': 850, 'score': {'auc-mean': [0.8660862404379077, 0.868425230973832, 0.8694172813298581, 0.8698413668637534, 0.8701246901558471, 0.8703120862226174, 0.8704629269516962, 0.8705967738869116, 0.8706066498017817, 0.8707864356954416, 0.870803063684081, 0.8708824914097437, 0.8709294146990334], 'auc-stdv': [0.002659870170730273, 0.002518594313133417, 0.0022878264307808504, 0.0023317306461980896, 0.002385988870666469, 0.0024836278494966145, 0.0025736029075052215, 0.0025433133710582026, 0.0023246391625028023, 0.002347312392897173, 0.0023306078606630276, 0.0022525104006722602, 0.0023630015422157055]}, 'num_round': 100}, 0.8709294146990334)\n"
     ]
    },
    {
     "name": "stderr",
     "output_type": "stream",
     "text": [
      "C:\\Users\\RG\\anaconda3\\lib\\site-packages\\lightgbm\\engine.py:527: UserWarning: Found `num_iterations` in params. Will use it instead of argument\n",
      "  _log_warning(\"Found `{}` in params. Will use it instead of argument\".format(alias))\n"
     ]
    },
    {
     "name": "stdout",
     "output_type": "stream",
     "text": [
      "{'num_leaves': 1000, 'objective': 'binary', 'max_depth': 500, 'verbosity': -1, 'learning_rate': 0.1, 'metric': 'auc', 'num_iterations': 200, 'max_bin': 650} 0.8706845855969736\n",
      "({'num_leaves': 1000, 'objective': 'binary', 'max_depth': 500, 'verbosity': -1, 'learning_rate': 0.1, 'metric': 'auc', 'num_iterations': 100, 'max_bin': 850, 'score': {'auc-mean': [0.8660862404379077, 0.868425230973832, 0.8694172813298581, 0.8698413668637534, 0.8701246901558471, 0.8703120862226174, 0.8704629269516962, 0.8705967738869116, 0.8706066498017817, 0.8707864356954416, 0.870803063684081, 0.8708824914097437, 0.8709294146990334], 'auc-stdv': [0.002659870170730273, 0.002518594313133417, 0.0022878264307808504, 0.0023317306461980896, 0.002385988870666469, 0.0024836278494966145, 0.0025736029075052215, 0.0025433133710582026, 0.0023246391625028023, 0.002347312392897173, 0.0023306078606630276, 0.0022525104006722602, 0.0023630015422157055]}, 'num_round': 100}, 0.8709294146990334)\n"
     ]
    },
    {
     "name": "stderr",
     "output_type": "stream",
     "text": [
      "C:\\Users\\RG\\anaconda3\\lib\\site-packages\\lightgbm\\engine.py:527: UserWarning: Found `num_iterations` in params. Will use it instead of argument\n",
      "  _log_warning(\"Found `{}` in params. Will use it instead of argument\".format(alias))\n"
     ]
    },
    {
     "name": "stdout",
     "output_type": "stream",
     "text": [
      "{'num_leaves': 1000, 'objective': 'binary', 'max_depth': 500, 'verbosity': -1, 'learning_rate': 0.1, 'metric': 'auc', 'num_iterations': 200, 'max_bin': 700} 0.8708095037216133\n",
      "({'num_leaves': 1000, 'objective': 'binary', 'max_depth': 500, 'verbosity': -1, 'learning_rate': 0.1, 'metric': 'auc', 'num_iterations': 100, 'max_bin': 850, 'score': {'auc-mean': [0.8660862404379077, 0.868425230973832, 0.8694172813298581, 0.8698413668637534, 0.8701246901558471, 0.8703120862226174, 0.8704629269516962, 0.8705967738869116, 0.8706066498017817, 0.8707864356954416, 0.870803063684081, 0.8708824914097437, 0.8709294146990334], 'auc-stdv': [0.002659870170730273, 0.002518594313133417, 0.0022878264307808504, 0.0023317306461980896, 0.002385988870666469, 0.0024836278494966145, 0.0025736029075052215, 0.0025433133710582026, 0.0023246391625028023, 0.002347312392897173, 0.0023306078606630276, 0.0022525104006722602, 0.0023630015422157055]}, 'num_round': 100}, 0.8709294146990334)\n"
     ]
    },
    {
     "name": "stderr",
     "output_type": "stream",
     "text": [
      "C:\\Users\\RG\\anaconda3\\lib\\site-packages\\lightgbm\\engine.py:527: UserWarning: Found `num_iterations` in params. Will use it instead of argument\n",
      "  _log_warning(\"Found `{}` in params. Will use it instead of argument\".format(alias))\n"
     ]
    },
    {
     "name": "stdout",
     "output_type": "stream",
     "text": [
      "{'num_leaves': 1000, 'objective': 'binary', 'max_depth': 500, 'verbosity': -1, 'learning_rate': 0.1, 'metric': 'auc', 'num_iterations': 200, 'max_bin': 750} 0.8707600266162568\n",
      "({'num_leaves': 1000, 'objective': 'binary', 'max_depth': 500, 'verbosity': -1, 'learning_rate': 0.1, 'metric': 'auc', 'num_iterations': 100, 'max_bin': 850, 'score': {'auc-mean': [0.8660862404379077, 0.868425230973832, 0.8694172813298581, 0.8698413668637534, 0.8701246901558471, 0.8703120862226174, 0.8704629269516962, 0.8705967738869116, 0.8706066498017817, 0.8707864356954416, 0.870803063684081, 0.8708824914097437, 0.8709294146990334], 'auc-stdv': [0.002659870170730273, 0.002518594313133417, 0.0022878264307808504, 0.0023317306461980896, 0.002385988870666469, 0.0024836278494966145, 0.0025736029075052215, 0.0025433133710582026, 0.0023246391625028023, 0.002347312392897173, 0.0023306078606630276, 0.0022525104006722602, 0.0023630015422157055]}, 'num_round': 100}, 0.8709294146990334)\n"
     ]
    },
    {
     "name": "stderr",
     "output_type": "stream",
     "text": [
      "C:\\Users\\RG\\anaconda3\\lib\\site-packages\\lightgbm\\engine.py:527: UserWarning: Found `num_iterations` in params. Will use it instead of argument\n",
      "  _log_warning(\"Found `{}` in params. Will use it instead of argument\".format(alias))\n"
     ]
    },
    {
     "name": "stdout",
     "output_type": "stream",
     "text": [
      "{'num_leaves': 1000, 'objective': 'binary', 'max_depth': 500, 'verbosity': -1, 'learning_rate': 0.1, 'metric': 'auc', 'num_iterations': 200, 'max_bin': 800} 0.8709064200059989\n",
      "({'num_leaves': 1000, 'objective': 'binary', 'max_depth': 500, 'verbosity': -1, 'learning_rate': 0.1, 'metric': 'auc', 'num_iterations': 100, 'max_bin': 850, 'score': {'auc-mean': [0.8660862404379077, 0.868425230973832, 0.8694172813298581, 0.8698413668637534, 0.8701246901558471, 0.8703120862226174, 0.8704629269516962, 0.8705967738869116, 0.8706066498017817, 0.8707864356954416, 0.870803063684081, 0.8708824914097437, 0.8709294146990334], 'auc-stdv': [0.002659870170730273, 0.002518594313133417, 0.0022878264307808504, 0.0023317306461980896, 0.002385988870666469, 0.0024836278494966145, 0.0025736029075052215, 0.0025433133710582026, 0.0023246391625028023, 0.002347312392897173, 0.0023306078606630276, 0.0022525104006722602, 0.0023630015422157055]}, 'num_round': 100}, 0.8709294146990334)\n"
     ]
    },
    {
     "name": "stderr",
     "output_type": "stream",
     "text": [
      "C:\\Users\\RG\\anaconda3\\lib\\site-packages\\lightgbm\\engine.py:527: UserWarning: Found `num_iterations` in params. Will use it instead of argument\n",
      "  _log_warning(\"Found `{}` in params. Will use it instead of argument\".format(alias))\n"
     ]
    },
    {
     "name": "stdout",
     "output_type": "stream",
     "text": [
      "{'num_leaves': 1000, 'objective': 'binary', 'max_depth': 500, 'verbosity': -1, 'learning_rate': 0.1, 'metric': 'auc', 'num_iterations': 200, 'max_bin': 850} 0.8709294146990334\n",
      "({'num_leaves': 1000, 'objective': 'binary', 'max_depth': 500, 'verbosity': -1, 'learning_rate': 0.1, 'metric': 'auc', 'num_iterations': 100, 'max_bin': 850, 'score': {'auc-mean': [0.8660862404379077, 0.868425230973832, 0.8694172813298581, 0.8698413668637534, 0.8701246901558471, 0.8703120862226174, 0.8704629269516962, 0.8705967738869116, 0.8706066498017817, 0.8707864356954416, 0.870803063684081, 0.8708824914097437, 0.8709294146990334], 'auc-stdv': [0.002659870170730273, 0.002518594313133417, 0.0022878264307808504, 0.0023317306461980896, 0.002385988870666469, 0.0024836278494966145, 0.0025736029075052215, 0.0025433133710582026, 0.0023246391625028023, 0.002347312392897173, 0.0023306078606630276, 0.0022525104006722602, 0.0023630015422157055]}, 'num_round': 100}, 0.8709294146990334)\n"
     ]
    },
    {
     "name": "stderr",
     "output_type": "stream",
     "text": [
      "C:\\Users\\RG\\anaconda3\\lib\\site-packages\\lightgbm\\engine.py:527: UserWarning: Found `num_iterations` in params. Will use it instead of argument\n",
      "  _log_warning(\"Found `{}` in params. Will use it instead of argument\".format(alias))\n"
     ]
    },
    {
     "name": "stdout",
     "output_type": "stream",
     "text": [
      "{'num_leaves': 1000, 'objective': 'binary', 'max_depth': 500, 'verbosity': -1, 'learning_rate': 0.1, 'metric': 'auc', 'num_iterations': 200, 'max_bin': 900} 0.8707426786566941\n",
      "({'num_leaves': 1000, 'objective': 'binary', 'max_depth': 500, 'verbosity': -1, 'learning_rate': 0.1, 'metric': 'auc', 'num_iterations': 100, 'max_bin': 850, 'score': {'auc-mean': [0.8660862404379077, 0.868425230973832, 0.8694172813298581, 0.8698413668637534, 0.8701246901558471, 0.8703120862226174, 0.8704629269516962, 0.8705967738869116, 0.8706066498017817, 0.8707864356954416, 0.870803063684081, 0.8708824914097437, 0.8709294146990334], 'auc-stdv': [0.002659870170730273, 0.002518594313133417, 0.0022878264307808504, 0.0023317306461980896, 0.002385988870666469, 0.0024836278494966145, 0.0025736029075052215, 0.0025433133710582026, 0.0023246391625028023, 0.002347312392897173, 0.0023306078606630276, 0.0022525104006722602, 0.0023630015422157055]}, 'num_round': 100}, 0.8709294146990334)\n"
     ]
    },
    {
     "name": "stderr",
     "output_type": "stream",
     "text": [
      "C:\\Users\\RG\\anaconda3\\lib\\site-packages\\lightgbm\\engine.py:527: UserWarning: Found `num_iterations` in params. Will use it instead of argument\n",
      "  _log_warning(\"Found `{}` in params. Will use it instead of argument\".format(alias))\n"
     ]
    },
    {
     "name": "stdout",
     "output_type": "stream",
     "text": [
      "{'num_leaves': 1000, 'objective': 'binary', 'max_depth': 500, 'verbosity': -1, 'learning_rate': 0.1, 'metric': 'auc', 'num_iterations': 200, 'max_bin': 950} 0.870699704917129\n",
      "({'num_leaves': 1000, 'objective': 'binary', 'max_depth': 500, 'verbosity': -1, 'learning_rate': 0.1, 'metric': 'auc', 'num_iterations': 100, 'max_bin': 850, 'score': {'auc-mean': [0.8660862404379077, 0.868425230973832, 0.8694172813298581, 0.8698413668637534, 0.8701246901558471, 0.8703120862226174, 0.8704629269516962, 0.8705967738869116, 0.8706066498017817, 0.8707864356954416, 0.870803063684081, 0.8708824914097437, 0.8709294146990334], 'auc-stdv': [0.002659870170730273, 0.002518594313133417, 0.0022878264307808504, 0.0023317306461980896, 0.002385988870666469, 0.0024836278494966145, 0.0025736029075052215, 0.0025433133710582026, 0.0023246391625028023, 0.002347312392897173, 0.0023306078606630276, 0.0022525104006722602, 0.0023630015422157055]}, 'num_round': 100}, 0.8709294146990334)\n"
     ]
    },
    {
     "name": "stderr",
     "output_type": "stream",
     "text": [
      "C:\\Users\\RG\\anaconda3\\lib\\site-packages\\lightgbm\\engine.py:527: UserWarning: Found `num_iterations` in params. Will use it instead of argument\n",
      "  _log_warning(\"Found `{}` in params. Will use it instead of argument\".format(alias))\n"
     ]
    },
    {
     "name": "stdout",
     "output_type": "stream",
     "text": [
      "{'num_leaves': 1000, 'objective': 'binary', 'max_depth': 500, 'verbosity': -1, 'learning_rate': 0.1, 'metric': 'auc', 'num_iterations': 300, 'max_bin': 250} 0.8706864517441938\n",
      "({'num_leaves': 1000, 'objective': 'binary', 'max_depth': 500, 'verbosity': -1, 'learning_rate': 0.1, 'metric': 'auc', 'num_iterations': 100, 'max_bin': 850, 'score': {'auc-mean': [0.8660862404379077, 0.868425230973832, 0.8694172813298581, 0.8698413668637534, 0.8701246901558471, 0.8703120862226174, 0.8704629269516962, 0.8705967738869116, 0.8706066498017817, 0.8707864356954416, 0.870803063684081, 0.8708824914097437, 0.8709294146990334], 'auc-stdv': [0.002659870170730273, 0.002518594313133417, 0.0022878264307808504, 0.0023317306461980896, 0.002385988870666469, 0.0024836278494966145, 0.0025736029075052215, 0.0025433133710582026, 0.0023246391625028023, 0.002347312392897173, 0.0023306078606630276, 0.0022525104006722602, 0.0023630015422157055]}, 'num_round': 100}, 0.8709294146990334)\n"
     ]
    },
    {
     "name": "stderr",
     "output_type": "stream",
     "text": [
      "C:\\Users\\RG\\anaconda3\\lib\\site-packages\\lightgbm\\engine.py:527: UserWarning: Found `num_iterations` in params. Will use it instead of argument\n",
      "  _log_warning(\"Found `{}` in params. Will use it instead of argument\".format(alias))\n"
     ]
    },
    {
     "name": "stdout",
     "output_type": "stream",
     "text": [
      "{'num_leaves': 1000, 'objective': 'binary', 'max_depth': 500, 'verbosity': -1, 'learning_rate': 0.1, 'metric': 'auc', 'num_iterations': 300, 'max_bin': 300} 0.8708652040487077\n",
      "({'num_leaves': 1000, 'objective': 'binary', 'max_depth': 500, 'verbosity': -1, 'learning_rate': 0.1, 'metric': 'auc', 'num_iterations': 100, 'max_bin': 850, 'score': {'auc-mean': [0.8660862404379077, 0.868425230973832, 0.8694172813298581, 0.8698413668637534, 0.8701246901558471, 0.8703120862226174, 0.8704629269516962, 0.8705967738869116, 0.8706066498017817, 0.8707864356954416, 0.870803063684081, 0.8708824914097437, 0.8709294146990334], 'auc-stdv': [0.002659870170730273, 0.002518594313133417, 0.0022878264307808504, 0.0023317306461980896, 0.002385988870666469, 0.0024836278494966145, 0.0025736029075052215, 0.0025433133710582026, 0.0023246391625028023, 0.002347312392897173, 0.0023306078606630276, 0.0022525104006722602, 0.0023630015422157055]}, 'num_round': 100}, 0.8709294146990334)\n"
     ]
    },
    {
     "name": "stderr",
     "output_type": "stream",
     "text": [
      "C:\\Users\\RG\\anaconda3\\lib\\site-packages\\lightgbm\\engine.py:527: UserWarning: Found `num_iterations` in params. Will use it instead of argument\n",
      "  _log_warning(\"Found `{}` in params. Will use it instead of argument\".format(alias))\n"
     ]
    },
    {
     "name": "stdout",
     "output_type": "stream",
     "text": [
      "{'num_leaves': 1000, 'objective': 'binary', 'max_depth': 500, 'verbosity': -1, 'learning_rate': 0.1, 'metric': 'auc', 'num_iterations': 300, 'max_bin': 350} 0.8707340259623517\n",
      "({'num_leaves': 1000, 'objective': 'binary', 'max_depth': 500, 'verbosity': -1, 'learning_rate': 0.1, 'metric': 'auc', 'num_iterations': 100, 'max_bin': 850, 'score': {'auc-mean': [0.8660862404379077, 0.868425230973832, 0.8694172813298581, 0.8698413668637534, 0.8701246901558471, 0.8703120862226174, 0.8704629269516962, 0.8705967738869116, 0.8706066498017817, 0.8707864356954416, 0.870803063684081, 0.8708824914097437, 0.8709294146990334], 'auc-stdv': [0.002659870170730273, 0.002518594313133417, 0.0022878264307808504, 0.0023317306461980896, 0.002385988870666469, 0.0024836278494966145, 0.0025736029075052215, 0.0025433133710582026, 0.0023246391625028023, 0.002347312392897173, 0.0023306078606630276, 0.0022525104006722602, 0.0023630015422157055]}, 'num_round': 100}, 0.8709294146990334)\n"
     ]
    },
    {
     "name": "stderr",
     "output_type": "stream",
     "text": [
      "C:\\Users\\RG\\anaconda3\\lib\\site-packages\\lightgbm\\engine.py:527: UserWarning: Found `num_iterations` in params. Will use it instead of argument\n",
      "  _log_warning(\"Found `{}` in params. Will use it instead of argument\".format(alias))\n"
     ]
    },
    {
     "name": "stdout",
     "output_type": "stream",
     "text": [
      "{'num_leaves': 1000, 'objective': 'binary', 'max_depth': 500, 'verbosity': -1, 'learning_rate': 0.1, 'metric': 'auc', 'num_iterations': 300, 'max_bin': 400} 0.8708993620511386\n",
      "({'num_leaves': 1000, 'objective': 'binary', 'max_depth': 500, 'verbosity': -1, 'learning_rate': 0.1, 'metric': 'auc', 'num_iterations': 100, 'max_bin': 850, 'score': {'auc-mean': [0.8660862404379077, 0.868425230973832, 0.8694172813298581, 0.8698413668637534, 0.8701246901558471, 0.8703120862226174, 0.8704629269516962, 0.8705967738869116, 0.8706066498017817, 0.8707864356954416, 0.870803063684081, 0.8708824914097437, 0.8709294146990334], 'auc-stdv': [0.002659870170730273, 0.002518594313133417, 0.0022878264307808504, 0.0023317306461980896, 0.002385988870666469, 0.0024836278494966145, 0.0025736029075052215, 0.0025433133710582026, 0.0023246391625028023, 0.002347312392897173, 0.0023306078606630276, 0.0022525104006722602, 0.0023630015422157055]}, 'num_round': 100}, 0.8709294146990334)\n"
     ]
    },
    {
     "name": "stderr",
     "output_type": "stream",
     "text": [
      "C:\\Users\\RG\\anaconda3\\lib\\site-packages\\lightgbm\\engine.py:527: UserWarning: Found `num_iterations` in params. Will use it instead of argument\n",
      "  _log_warning(\"Found `{}` in params. Will use it instead of argument\".format(alias))\n"
     ]
    },
    {
     "name": "stdout",
     "output_type": "stream",
     "text": [
      "{'num_leaves': 1000, 'objective': 'binary', 'max_depth': 500, 'verbosity': -1, 'learning_rate': 0.1, 'metric': 'auc', 'num_iterations': 300, 'max_bin': 450} 0.8707665509455295\n",
      "({'num_leaves': 1000, 'objective': 'binary', 'max_depth': 500, 'verbosity': -1, 'learning_rate': 0.1, 'metric': 'auc', 'num_iterations': 100, 'max_bin': 850, 'score': {'auc-mean': [0.8660862404379077, 0.868425230973832, 0.8694172813298581, 0.8698413668637534, 0.8701246901558471, 0.8703120862226174, 0.8704629269516962, 0.8705967738869116, 0.8706066498017817, 0.8707864356954416, 0.870803063684081, 0.8708824914097437, 0.8709294146990334], 'auc-stdv': [0.002659870170730273, 0.002518594313133417, 0.0022878264307808504, 0.0023317306461980896, 0.002385988870666469, 0.0024836278494966145, 0.0025736029075052215, 0.0025433133710582026, 0.0023246391625028023, 0.002347312392897173, 0.0023306078606630276, 0.0022525104006722602, 0.0023630015422157055]}, 'num_round': 100}, 0.8709294146990334)\n"
     ]
    },
    {
     "name": "stderr",
     "output_type": "stream",
     "text": [
      "C:\\Users\\RG\\anaconda3\\lib\\site-packages\\lightgbm\\engine.py:527: UserWarning: Found `num_iterations` in params. Will use it instead of argument\n",
      "  _log_warning(\"Found `{}` in params. Will use it instead of argument\".format(alias))\n"
     ]
    },
    {
     "name": "stdout",
     "output_type": "stream",
     "text": [
      "{'num_leaves': 1000, 'objective': 'binary', 'max_depth': 500, 'verbosity': -1, 'learning_rate': 0.1, 'metric': 'auc', 'num_iterations': 300, 'max_bin': 500} 0.8707588382831766\n",
      "({'num_leaves': 1000, 'objective': 'binary', 'max_depth': 500, 'verbosity': -1, 'learning_rate': 0.1, 'metric': 'auc', 'num_iterations': 100, 'max_bin': 850, 'score': {'auc-mean': [0.8660862404379077, 0.868425230973832, 0.8694172813298581, 0.8698413668637534, 0.8701246901558471, 0.8703120862226174, 0.8704629269516962, 0.8705967738869116, 0.8706066498017817, 0.8707864356954416, 0.870803063684081, 0.8708824914097437, 0.8709294146990334], 'auc-stdv': [0.002659870170730273, 0.002518594313133417, 0.0022878264307808504, 0.0023317306461980896, 0.002385988870666469, 0.0024836278494966145, 0.0025736029075052215, 0.0025433133710582026, 0.0023246391625028023, 0.002347312392897173, 0.0023306078606630276, 0.0022525104006722602, 0.0023630015422157055]}, 'num_round': 100}, 0.8709294146990334)\n"
     ]
    },
    {
     "name": "stderr",
     "output_type": "stream",
     "text": [
      "C:\\Users\\RG\\anaconda3\\lib\\site-packages\\lightgbm\\engine.py:527: UserWarning: Found `num_iterations` in params. Will use it instead of argument\n",
      "  _log_warning(\"Found `{}` in params. Will use it instead of argument\".format(alias))\n"
     ]
    },
    {
     "name": "stdout",
     "output_type": "stream",
     "text": [
      "{'num_leaves': 1000, 'objective': 'binary', 'max_depth': 500, 'verbosity': -1, 'learning_rate': 0.1, 'metric': 'auc', 'num_iterations': 300, 'max_bin': 550} 0.8705666498652829\n",
      "({'num_leaves': 1000, 'objective': 'binary', 'max_depth': 500, 'verbosity': -1, 'learning_rate': 0.1, 'metric': 'auc', 'num_iterations': 100, 'max_bin': 850, 'score': {'auc-mean': [0.8660862404379077, 0.868425230973832, 0.8694172813298581, 0.8698413668637534, 0.8701246901558471, 0.8703120862226174, 0.8704629269516962, 0.8705967738869116, 0.8706066498017817, 0.8707864356954416, 0.870803063684081, 0.8708824914097437, 0.8709294146990334], 'auc-stdv': [0.002659870170730273, 0.002518594313133417, 0.0022878264307808504, 0.0023317306461980896, 0.002385988870666469, 0.0024836278494966145, 0.0025736029075052215, 0.0025433133710582026, 0.0023246391625028023, 0.002347312392897173, 0.0023306078606630276, 0.0022525104006722602, 0.0023630015422157055]}, 'num_round': 100}, 0.8709294146990334)\n"
     ]
    },
    {
     "name": "stderr",
     "output_type": "stream",
     "text": [
      "C:\\Users\\RG\\anaconda3\\lib\\site-packages\\lightgbm\\engine.py:527: UserWarning: Found `num_iterations` in params. Will use it instead of argument\n",
      "  _log_warning(\"Found `{}` in params. Will use it instead of argument\".format(alias))\n"
     ]
    },
    {
     "name": "stdout",
     "output_type": "stream",
     "text": [
      "{'num_leaves': 1000, 'objective': 'binary', 'max_depth': 500, 'verbosity': -1, 'learning_rate': 0.1, 'metric': 'auc', 'num_iterations': 300, 'max_bin': 600} 0.8707261952874319\n",
      "({'num_leaves': 1000, 'objective': 'binary', 'max_depth': 500, 'verbosity': -1, 'learning_rate': 0.1, 'metric': 'auc', 'num_iterations': 100, 'max_bin': 850, 'score': {'auc-mean': [0.8660862404379077, 0.868425230973832, 0.8694172813298581, 0.8698413668637534, 0.8701246901558471, 0.8703120862226174, 0.8704629269516962, 0.8705967738869116, 0.8706066498017817, 0.8707864356954416, 0.870803063684081, 0.8708824914097437, 0.8709294146990334], 'auc-stdv': [0.002659870170730273, 0.002518594313133417, 0.0022878264307808504, 0.0023317306461980896, 0.002385988870666469, 0.0024836278494966145, 0.0025736029075052215, 0.0025433133710582026, 0.0023246391625028023, 0.002347312392897173, 0.0023306078606630276, 0.0022525104006722602, 0.0023630015422157055]}, 'num_round': 100}, 0.8709294146990334)\n"
     ]
    },
    {
     "name": "stderr",
     "output_type": "stream",
     "text": [
      "C:\\Users\\RG\\anaconda3\\lib\\site-packages\\lightgbm\\engine.py:527: UserWarning: Found `num_iterations` in params. Will use it instead of argument\n",
      "  _log_warning(\"Found `{}` in params. Will use it instead of argument\".format(alias))\n"
     ]
    },
    {
     "name": "stdout",
     "output_type": "stream",
     "text": [
      "{'num_leaves': 1000, 'objective': 'binary', 'max_depth': 500, 'verbosity': -1, 'learning_rate': 0.1, 'metric': 'auc', 'num_iterations': 300, 'max_bin': 650} 0.8706845855969736\n",
      "({'num_leaves': 1000, 'objective': 'binary', 'max_depth': 500, 'verbosity': -1, 'learning_rate': 0.1, 'metric': 'auc', 'num_iterations': 100, 'max_bin': 850, 'score': {'auc-mean': [0.8660862404379077, 0.868425230973832, 0.8694172813298581, 0.8698413668637534, 0.8701246901558471, 0.8703120862226174, 0.8704629269516962, 0.8705967738869116, 0.8706066498017817, 0.8707864356954416, 0.870803063684081, 0.8708824914097437, 0.8709294146990334], 'auc-stdv': [0.002659870170730273, 0.002518594313133417, 0.0022878264307808504, 0.0023317306461980896, 0.002385988870666469, 0.0024836278494966145, 0.0025736029075052215, 0.0025433133710582026, 0.0023246391625028023, 0.002347312392897173, 0.0023306078606630276, 0.0022525104006722602, 0.0023630015422157055]}, 'num_round': 100}, 0.8709294146990334)\n"
     ]
    },
    {
     "name": "stderr",
     "output_type": "stream",
     "text": [
      "C:\\Users\\RG\\anaconda3\\lib\\site-packages\\lightgbm\\engine.py:527: UserWarning: Found `num_iterations` in params. Will use it instead of argument\n",
      "  _log_warning(\"Found `{}` in params. Will use it instead of argument\".format(alias))\n"
     ]
    },
    {
     "name": "stdout",
     "output_type": "stream",
     "text": [
      "{'num_leaves': 1000, 'objective': 'binary', 'max_depth': 500, 'verbosity': -1, 'learning_rate': 0.1, 'metric': 'auc', 'num_iterations': 300, 'max_bin': 700} 0.8708095037216133\n",
      "({'num_leaves': 1000, 'objective': 'binary', 'max_depth': 500, 'verbosity': -1, 'learning_rate': 0.1, 'metric': 'auc', 'num_iterations': 100, 'max_bin': 850, 'score': {'auc-mean': [0.8660862404379077, 0.868425230973832, 0.8694172813298581, 0.8698413668637534, 0.8701246901558471, 0.8703120862226174, 0.8704629269516962, 0.8705967738869116, 0.8706066498017817, 0.8707864356954416, 0.870803063684081, 0.8708824914097437, 0.8709294146990334], 'auc-stdv': [0.002659870170730273, 0.002518594313133417, 0.0022878264307808504, 0.0023317306461980896, 0.002385988870666469, 0.0024836278494966145, 0.0025736029075052215, 0.0025433133710582026, 0.0023246391625028023, 0.002347312392897173, 0.0023306078606630276, 0.0022525104006722602, 0.0023630015422157055]}, 'num_round': 100}, 0.8709294146990334)\n"
     ]
    },
    {
     "name": "stderr",
     "output_type": "stream",
     "text": [
      "C:\\Users\\RG\\anaconda3\\lib\\site-packages\\lightgbm\\engine.py:527: UserWarning: Found `num_iterations` in params. Will use it instead of argument\n",
      "  _log_warning(\"Found `{}` in params. Will use it instead of argument\".format(alias))\n"
     ]
    },
    {
     "name": "stdout",
     "output_type": "stream",
     "text": [
      "{'num_leaves': 1000, 'objective': 'binary', 'max_depth': 500, 'verbosity': -1, 'learning_rate': 0.1, 'metric': 'auc', 'num_iterations': 300, 'max_bin': 750} 0.8707600266162568\n",
      "({'num_leaves': 1000, 'objective': 'binary', 'max_depth': 500, 'verbosity': -1, 'learning_rate': 0.1, 'metric': 'auc', 'num_iterations': 100, 'max_bin': 850, 'score': {'auc-mean': [0.8660862404379077, 0.868425230973832, 0.8694172813298581, 0.8698413668637534, 0.8701246901558471, 0.8703120862226174, 0.8704629269516962, 0.8705967738869116, 0.8706066498017817, 0.8707864356954416, 0.870803063684081, 0.8708824914097437, 0.8709294146990334], 'auc-stdv': [0.002659870170730273, 0.002518594313133417, 0.0022878264307808504, 0.0023317306461980896, 0.002385988870666469, 0.0024836278494966145, 0.0025736029075052215, 0.0025433133710582026, 0.0023246391625028023, 0.002347312392897173, 0.0023306078606630276, 0.0022525104006722602, 0.0023630015422157055]}, 'num_round': 100}, 0.8709294146990334)\n"
     ]
    },
    {
     "name": "stderr",
     "output_type": "stream",
     "text": [
      "C:\\Users\\RG\\anaconda3\\lib\\site-packages\\lightgbm\\engine.py:527: UserWarning: Found `num_iterations` in params. Will use it instead of argument\n",
      "  _log_warning(\"Found `{}` in params. Will use it instead of argument\".format(alias))\n"
     ]
    },
    {
     "name": "stdout",
     "output_type": "stream",
     "text": [
      "{'num_leaves': 1000, 'objective': 'binary', 'max_depth': 500, 'verbosity': -1, 'learning_rate': 0.1, 'metric': 'auc', 'num_iterations': 300, 'max_bin': 800} 0.8709064200059989\n",
      "({'num_leaves': 1000, 'objective': 'binary', 'max_depth': 500, 'verbosity': -1, 'learning_rate': 0.1, 'metric': 'auc', 'num_iterations': 100, 'max_bin': 850, 'score': {'auc-mean': [0.8660862404379077, 0.868425230973832, 0.8694172813298581, 0.8698413668637534, 0.8701246901558471, 0.8703120862226174, 0.8704629269516962, 0.8705967738869116, 0.8706066498017817, 0.8707864356954416, 0.870803063684081, 0.8708824914097437, 0.8709294146990334], 'auc-stdv': [0.002659870170730273, 0.002518594313133417, 0.0022878264307808504, 0.0023317306461980896, 0.002385988870666469, 0.0024836278494966145, 0.0025736029075052215, 0.0025433133710582026, 0.0023246391625028023, 0.002347312392897173, 0.0023306078606630276, 0.0022525104006722602, 0.0023630015422157055]}, 'num_round': 100}, 0.8709294146990334)\n"
     ]
    },
    {
     "name": "stderr",
     "output_type": "stream",
     "text": [
      "C:\\Users\\RG\\anaconda3\\lib\\site-packages\\lightgbm\\engine.py:527: UserWarning: Found `num_iterations` in params. Will use it instead of argument\n",
      "  _log_warning(\"Found `{}` in params. Will use it instead of argument\".format(alias))\n"
     ]
    },
    {
     "name": "stdout",
     "output_type": "stream",
     "text": [
      "{'num_leaves': 1000, 'objective': 'binary', 'max_depth': 500, 'verbosity': -1, 'learning_rate': 0.1, 'metric': 'auc', 'num_iterations': 300, 'max_bin': 850} 0.8709294146990334\n",
      "({'num_leaves': 1000, 'objective': 'binary', 'max_depth': 500, 'verbosity': -1, 'learning_rate': 0.1, 'metric': 'auc', 'num_iterations': 100, 'max_bin': 850, 'score': {'auc-mean': [0.8660862404379077, 0.868425230973832, 0.8694172813298581, 0.8698413668637534, 0.8701246901558471, 0.8703120862226174, 0.8704629269516962, 0.8705967738869116, 0.8706066498017817, 0.8707864356954416, 0.870803063684081, 0.8708824914097437, 0.8709294146990334], 'auc-stdv': [0.002659870170730273, 0.002518594313133417, 0.0022878264307808504, 0.0023317306461980896, 0.002385988870666469, 0.0024836278494966145, 0.0025736029075052215, 0.0025433133710582026, 0.0023246391625028023, 0.002347312392897173, 0.0023306078606630276, 0.0022525104006722602, 0.0023630015422157055]}, 'num_round': 100}, 0.8709294146990334)\n"
     ]
    },
    {
     "name": "stderr",
     "output_type": "stream",
     "text": [
      "C:\\Users\\RG\\anaconda3\\lib\\site-packages\\lightgbm\\engine.py:527: UserWarning: Found `num_iterations` in params. Will use it instead of argument\n",
      "  _log_warning(\"Found `{}` in params. Will use it instead of argument\".format(alias))\n"
     ]
    },
    {
     "name": "stdout",
     "output_type": "stream",
     "text": [
      "{'num_leaves': 1000, 'objective': 'binary', 'max_depth': 500, 'verbosity': -1, 'learning_rate': 0.1, 'metric': 'auc', 'num_iterations': 300, 'max_bin': 900} 0.8707426786566941\n",
      "({'num_leaves': 1000, 'objective': 'binary', 'max_depth': 500, 'verbosity': -1, 'learning_rate': 0.1, 'metric': 'auc', 'num_iterations': 100, 'max_bin': 850, 'score': {'auc-mean': [0.8660862404379077, 0.868425230973832, 0.8694172813298581, 0.8698413668637534, 0.8701246901558471, 0.8703120862226174, 0.8704629269516962, 0.8705967738869116, 0.8706066498017817, 0.8707864356954416, 0.870803063684081, 0.8708824914097437, 0.8709294146990334], 'auc-stdv': [0.002659870170730273, 0.002518594313133417, 0.0022878264307808504, 0.0023317306461980896, 0.002385988870666469, 0.0024836278494966145, 0.0025736029075052215, 0.0025433133710582026, 0.0023246391625028023, 0.002347312392897173, 0.0023306078606630276, 0.0022525104006722602, 0.0023630015422157055]}, 'num_round': 100}, 0.8709294146990334)\n"
     ]
    },
    {
     "name": "stderr",
     "output_type": "stream",
     "text": [
      "C:\\Users\\RG\\anaconda3\\lib\\site-packages\\lightgbm\\engine.py:527: UserWarning: Found `num_iterations` in params. Will use it instead of argument\n",
      "  _log_warning(\"Found `{}` in params. Will use it instead of argument\".format(alias))\n"
     ]
    },
    {
     "name": "stdout",
     "output_type": "stream",
     "text": [
      "{'num_leaves': 1000, 'objective': 'binary', 'max_depth': 500, 'verbosity': -1, 'learning_rate': 0.1, 'metric': 'auc', 'num_iterations': 300, 'max_bin': 950} 0.870699704917129\n",
      "({'num_leaves': 1000, 'objective': 'binary', 'max_depth': 500, 'verbosity': -1, 'learning_rate': 0.1, 'metric': 'auc', 'num_iterations': 100, 'max_bin': 850, 'score': {'auc-mean': [0.8660862404379077, 0.868425230973832, 0.8694172813298581, 0.8698413668637534, 0.8701246901558471, 0.8703120862226174, 0.8704629269516962, 0.8705967738869116, 0.8706066498017817, 0.8707864356954416, 0.870803063684081, 0.8708824914097437, 0.8709294146990334], 'auc-stdv': [0.002659870170730273, 0.002518594313133417, 0.0022878264307808504, 0.0023317306461980896, 0.002385988870666469, 0.0024836278494966145, 0.0025736029075052215, 0.0025433133710582026, 0.0023246391625028023, 0.002347312392897173, 0.0023306078606630276, 0.0022525104006722602, 0.0023630015422157055]}, 'num_round': 100}, 0.8709294146990334)\n"
     ]
    },
    {
     "name": "stderr",
     "output_type": "stream",
     "text": [
      "C:\\Users\\RG\\anaconda3\\lib\\site-packages\\lightgbm\\engine.py:527: UserWarning: Found `num_iterations` in params. Will use it instead of argument\n",
      "  _log_warning(\"Found `{}` in params. Will use it instead of argument\".format(alias))\n"
     ]
    },
    {
     "name": "stdout",
     "output_type": "stream",
     "text": [
      "{'num_leaves': 1000, 'objective': 'binary', 'max_depth': 500, 'verbosity': -1, 'learning_rate': 0.1, 'metric': 'auc', 'num_iterations': 400, 'max_bin': 250} 0.8706864517441938\n",
      "({'num_leaves': 1000, 'objective': 'binary', 'max_depth': 500, 'verbosity': -1, 'learning_rate': 0.1, 'metric': 'auc', 'num_iterations': 100, 'max_bin': 850, 'score': {'auc-mean': [0.8660862404379077, 0.868425230973832, 0.8694172813298581, 0.8698413668637534, 0.8701246901558471, 0.8703120862226174, 0.8704629269516962, 0.8705967738869116, 0.8706066498017817, 0.8707864356954416, 0.870803063684081, 0.8708824914097437, 0.8709294146990334], 'auc-stdv': [0.002659870170730273, 0.002518594313133417, 0.0022878264307808504, 0.0023317306461980896, 0.002385988870666469, 0.0024836278494966145, 0.0025736029075052215, 0.0025433133710582026, 0.0023246391625028023, 0.002347312392897173, 0.0023306078606630276, 0.0022525104006722602, 0.0023630015422157055]}, 'num_round': 100}, 0.8709294146990334)\n"
     ]
    },
    {
     "name": "stderr",
     "output_type": "stream",
     "text": [
      "C:\\Users\\RG\\anaconda3\\lib\\site-packages\\lightgbm\\engine.py:527: UserWarning: Found `num_iterations` in params. Will use it instead of argument\n",
      "  _log_warning(\"Found `{}` in params. Will use it instead of argument\".format(alias))\n"
     ]
    },
    {
     "name": "stdout",
     "output_type": "stream",
     "text": [
      "{'num_leaves': 1000, 'objective': 'binary', 'max_depth': 500, 'verbosity': -1, 'learning_rate': 0.1, 'metric': 'auc', 'num_iterations': 400, 'max_bin': 300} 0.8708652040487077\n",
      "({'num_leaves': 1000, 'objective': 'binary', 'max_depth': 500, 'verbosity': -1, 'learning_rate': 0.1, 'metric': 'auc', 'num_iterations': 100, 'max_bin': 850, 'score': {'auc-mean': [0.8660862404379077, 0.868425230973832, 0.8694172813298581, 0.8698413668637534, 0.8701246901558471, 0.8703120862226174, 0.8704629269516962, 0.8705967738869116, 0.8706066498017817, 0.8707864356954416, 0.870803063684081, 0.8708824914097437, 0.8709294146990334], 'auc-stdv': [0.002659870170730273, 0.002518594313133417, 0.0022878264307808504, 0.0023317306461980896, 0.002385988870666469, 0.0024836278494966145, 0.0025736029075052215, 0.0025433133710582026, 0.0023246391625028023, 0.002347312392897173, 0.0023306078606630276, 0.0022525104006722602, 0.0023630015422157055]}, 'num_round': 100}, 0.8709294146990334)\n"
     ]
    },
    {
     "name": "stderr",
     "output_type": "stream",
     "text": [
      "C:\\Users\\RG\\anaconda3\\lib\\site-packages\\lightgbm\\engine.py:527: UserWarning: Found `num_iterations` in params. Will use it instead of argument\n",
      "  _log_warning(\"Found `{}` in params. Will use it instead of argument\".format(alias))\n"
     ]
    },
    {
     "name": "stdout",
     "output_type": "stream",
     "text": [
      "{'num_leaves': 1000, 'objective': 'binary', 'max_depth': 500, 'verbosity': -1, 'learning_rate': 0.1, 'metric': 'auc', 'num_iterations': 400, 'max_bin': 350} 0.8707340259623517\n",
      "({'num_leaves': 1000, 'objective': 'binary', 'max_depth': 500, 'verbosity': -1, 'learning_rate': 0.1, 'metric': 'auc', 'num_iterations': 100, 'max_bin': 850, 'score': {'auc-mean': [0.8660862404379077, 0.868425230973832, 0.8694172813298581, 0.8698413668637534, 0.8701246901558471, 0.8703120862226174, 0.8704629269516962, 0.8705967738869116, 0.8706066498017817, 0.8707864356954416, 0.870803063684081, 0.8708824914097437, 0.8709294146990334], 'auc-stdv': [0.002659870170730273, 0.002518594313133417, 0.0022878264307808504, 0.0023317306461980896, 0.002385988870666469, 0.0024836278494966145, 0.0025736029075052215, 0.0025433133710582026, 0.0023246391625028023, 0.002347312392897173, 0.0023306078606630276, 0.0022525104006722602, 0.0023630015422157055]}, 'num_round': 100}, 0.8709294146990334)\n"
     ]
    },
    {
     "name": "stderr",
     "output_type": "stream",
     "text": [
      "C:\\Users\\RG\\anaconda3\\lib\\site-packages\\lightgbm\\engine.py:527: UserWarning: Found `num_iterations` in params. Will use it instead of argument\n",
      "  _log_warning(\"Found `{}` in params. Will use it instead of argument\".format(alias))\n"
     ]
    },
    {
     "name": "stdout",
     "output_type": "stream",
     "text": [
      "{'num_leaves': 1000, 'objective': 'binary', 'max_depth': 500, 'verbosity': -1, 'learning_rate': 0.1, 'metric': 'auc', 'num_iterations': 400, 'max_bin': 400} 0.8708993620511386\n",
      "({'num_leaves': 1000, 'objective': 'binary', 'max_depth': 500, 'verbosity': -1, 'learning_rate': 0.1, 'metric': 'auc', 'num_iterations': 100, 'max_bin': 850, 'score': {'auc-mean': [0.8660862404379077, 0.868425230973832, 0.8694172813298581, 0.8698413668637534, 0.8701246901558471, 0.8703120862226174, 0.8704629269516962, 0.8705967738869116, 0.8706066498017817, 0.8707864356954416, 0.870803063684081, 0.8708824914097437, 0.8709294146990334], 'auc-stdv': [0.002659870170730273, 0.002518594313133417, 0.0022878264307808504, 0.0023317306461980896, 0.002385988870666469, 0.0024836278494966145, 0.0025736029075052215, 0.0025433133710582026, 0.0023246391625028023, 0.002347312392897173, 0.0023306078606630276, 0.0022525104006722602, 0.0023630015422157055]}, 'num_round': 100}, 0.8709294146990334)\n"
     ]
    },
    {
     "name": "stderr",
     "output_type": "stream",
     "text": [
      "C:\\Users\\RG\\anaconda3\\lib\\site-packages\\lightgbm\\engine.py:527: UserWarning: Found `num_iterations` in params. Will use it instead of argument\n",
      "  _log_warning(\"Found `{}` in params. Will use it instead of argument\".format(alias))\n"
     ]
    },
    {
     "name": "stdout",
     "output_type": "stream",
     "text": [
      "{'num_leaves': 1000, 'objective': 'binary', 'max_depth': 500, 'verbosity': -1, 'learning_rate': 0.1, 'metric': 'auc', 'num_iterations': 400, 'max_bin': 450} 0.8707665509455295\n",
      "({'num_leaves': 1000, 'objective': 'binary', 'max_depth': 500, 'verbosity': -1, 'learning_rate': 0.1, 'metric': 'auc', 'num_iterations': 100, 'max_bin': 850, 'score': {'auc-mean': [0.8660862404379077, 0.868425230973832, 0.8694172813298581, 0.8698413668637534, 0.8701246901558471, 0.8703120862226174, 0.8704629269516962, 0.8705967738869116, 0.8706066498017817, 0.8707864356954416, 0.870803063684081, 0.8708824914097437, 0.8709294146990334], 'auc-stdv': [0.002659870170730273, 0.002518594313133417, 0.0022878264307808504, 0.0023317306461980896, 0.002385988870666469, 0.0024836278494966145, 0.0025736029075052215, 0.0025433133710582026, 0.0023246391625028023, 0.002347312392897173, 0.0023306078606630276, 0.0022525104006722602, 0.0023630015422157055]}, 'num_round': 100}, 0.8709294146990334)\n"
     ]
    },
    {
     "name": "stderr",
     "output_type": "stream",
     "text": [
      "C:\\Users\\RG\\anaconda3\\lib\\site-packages\\lightgbm\\engine.py:527: UserWarning: Found `num_iterations` in params. Will use it instead of argument\n",
      "  _log_warning(\"Found `{}` in params. Will use it instead of argument\".format(alias))\n"
     ]
    },
    {
     "name": "stdout",
     "output_type": "stream",
     "text": [
      "{'num_leaves': 1000, 'objective': 'binary', 'max_depth': 500, 'verbosity': -1, 'learning_rate': 0.1, 'metric': 'auc', 'num_iterations': 400, 'max_bin': 500} 0.8707588382831766\n",
      "({'num_leaves': 1000, 'objective': 'binary', 'max_depth': 500, 'verbosity': -1, 'learning_rate': 0.1, 'metric': 'auc', 'num_iterations': 100, 'max_bin': 850, 'score': {'auc-mean': [0.8660862404379077, 0.868425230973832, 0.8694172813298581, 0.8698413668637534, 0.8701246901558471, 0.8703120862226174, 0.8704629269516962, 0.8705967738869116, 0.8706066498017817, 0.8707864356954416, 0.870803063684081, 0.8708824914097437, 0.8709294146990334], 'auc-stdv': [0.002659870170730273, 0.002518594313133417, 0.0022878264307808504, 0.0023317306461980896, 0.002385988870666469, 0.0024836278494966145, 0.0025736029075052215, 0.0025433133710582026, 0.0023246391625028023, 0.002347312392897173, 0.0023306078606630276, 0.0022525104006722602, 0.0023630015422157055]}, 'num_round': 100}, 0.8709294146990334)\n"
     ]
    },
    {
     "name": "stderr",
     "output_type": "stream",
     "text": [
      "C:\\Users\\RG\\anaconda3\\lib\\site-packages\\lightgbm\\engine.py:527: UserWarning: Found `num_iterations` in params. Will use it instead of argument\n",
      "  _log_warning(\"Found `{}` in params. Will use it instead of argument\".format(alias))\n"
     ]
    },
    {
     "name": "stdout",
     "output_type": "stream",
     "text": [
      "{'num_leaves': 1000, 'objective': 'binary', 'max_depth': 500, 'verbosity': -1, 'learning_rate': 0.1, 'metric': 'auc', 'num_iterations': 400, 'max_bin': 550} 0.8705666498652829\n",
      "({'num_leaves': 1000, 'objective': 'binary', 'max_depth': 500, 'verbosity': -1, 'learning_rate': 0.1, 'metric': 'auc', 'num_iterations': 100, 'max_bin': 850, 'score': {'auc-mean': [0.8660862404379077, 0.868425230973832, 0.8694172813298581, 0.8698413668637534, 0.8701246901558471, 0.8703120862226174, 0.8704629269516962, 0.8705967738869116, 0.8706066498017817, 0.8707864356954416, 0.870803063684081, 0.8708824914097437, 0.8709294146990334], 'auc-stdv': [0.002659870170730273, 0.002518594313133417, 0.0022878264307808504, 0.0023317306461980896, 0.002385988870666469, 0.0024836278494966145, 0.0025736029075052215, 0.0025433133710582026, 0.0023246391625028023, 0.002347312392897173, 0.0023306078606630276, 0.0022525104006722602, 0.0023630015422157055]}, 'num_round': 100}, 0.8709294146990334)\n"
     ]
    },
    {
     "name": "stderr",
     "output_type": "stream",
     "text": [
      "C:\\Users\\RG\\anaconda3\\lib\\site-packages\\lightgbm\\engine.py:527: UserWarning: Found `num_iterations` in params. Will use it instead of argument\n",
      "  _log_warning(\"Found `{}` in params. Will use it instead of argument\".format(alias))\n"
     ]
    },
    {
     "name": "stdout",
     "output_type": "stream",
     "text": [
      "{'num_leaves': 1000, 'objective': 'binary', 'max_depth': 500, 'verbosity': -1, 'learning_rate': 0.1, 'metric': 'auc', 'num_iterations': 400, 'max_bin': 600} 0.8707261952874319\n",
      "({'num_leaves': 1000, 'objective': 'binary', 'max_depth': 500, 'verbosity': -1, 'learning_rate': 0.1, 'metric': 'auc', 'num_iterations': 100, 'max_bin': 850, 'score': {'auc-mean': [0.8660862404379077, 0.868425230973832, 0.8694172813298581, 0.8698413668637534, 0.8701246901558471, 0.8703120862226174, 0.8704629269516962, 0.8705967738869116, 0.8706066498017817, 0.8707864356954416, 0.870803063684081, 0.8708824914097437, 0.8709294146990334], 'auc-stdv': [0.002659870170730273, 0.002518594313133417, 0.0022878264307808504, 0.0023317306461980896, 0.002385988870666469, 0.0024836278494966145, 0.0025736029075052215, 0.0025433133710582026, 0.0023246391625028023, 0.002347312392897173, 0.0023306078606630276, 0.0022525104006722602, 0.0023630015422157055]}, 'num_round': 100}, 0.8709294146990334)\n"
     ]
    },
    {
     "name": "stderr",
     "output_type": "stream",
     "text": [
      "C:\\Users\\RG\\anaconda3\\lib\\site-packages\\lightgbm\\engine.py:527: UserWarning: Found `num_iterations` in params. Will use it instead of argument\n",
      "  _log_warning(\"Found `{}` in params. Will use it instead of argument\".format(alias))\n"
     ]
    },
    {
     "name": "stdout",
     "output_type": "stream",
     "text": [
      "{'num_leaves': 1000, 'objective': 'binary', 'max_depth': 500, 'verbosity': -1, 'learning_rate': 0.1, 'metric': 'auc', 'num_iterations': 400, 'max_bin': 650} 0.8706845855969736\n",
      "({'num_leaves': 1000, 'objective': 'binary', 'max_depth': 500, 'verbosity': -1, 'learning_rate': 0.1, 'metric': 'auc', 'num_iterations': 100, 'max_bin': 850, 'score': {'auc-mean': [0.8660862404379077, 0.868425230973832, 0.8694172813298581, 0.8698413668637534, 0.8701246901558471, 0.8703120862226174, 0.8704629269516962, 0.8705967738869116, 0.8706066498017817, 0.8707864356954416, 0.870803063684081, 0.8708824914097437, 0.8709294146990334], 'auc-stdv': [0.002659870170730273, 0.002518594313133417, 0.0022878264307808504, 0.0023317306461980896, 0.002385988870666469, 0.0024836278494966145, 0.0025736029075052215, 0.0025433133710582026, 0.0023246391625028023, 0.002347312392897173, 0.0023306078606630276, 0.0022525104006722602, 0.0023630015422157055]}, 'num_round': 100}, 0.8709294146990334)\n"
     ]
    },
    {
     "name": "stderr",
     "output_type": "stream",
     "text": [
      "C:\\Users\\RG\\anaconda3\\lib\\site-packages\\lightgbm\\engine.py:527: UserWarning: Found `num_iterations` in params. Will use it instead of argument\n",
      "  _log_warning(\"Found `{}` in params. Will use it instead of argument\".format(alias))\n"
     ]
    },
    {
     "name": "stdout",
     "output_type": "stream",
     "text": [
      "{'num_leaves': 1000, 'objective': 'binary', 'max_depth': 500, 'verbosity': -1, 'learning_rate': 0.1, 'metric': 'auc', 'num_iterations': 400, 'max_bin': 700} 0.8708095037216133\n",
      "({'num_leaves': 1000, 'objective': 'binary', 'max_depth': 500, 'verbosity': -1, 'learning_rate': 0.1, 'metric': 'auc', 'num_iterations': 100, 'max_bin': 850, 'score': {'auc-mean': [0.8660862404379077, 0.868425230973832, 0.8694172813298581, 0.8698413668637534, 0.8701246901558471, 0.8703120862226174, 0.8704629269516962, 0.8705967738869116, 0.8706066498017817, 0.8707864356954416, 0.870803063684081, 0.8708824914097437, 0.8709294146990334], 'auc-stdv': [0.002659870170730273, 0.002518594313133417, 0.0022878264307808504, 0.0023317306461980896, 0.002385988870666469, 0.0024836278494966145, 0.0025736029075052215, 0.0025433133710582026, 0.0023246391625028023, 0.002347312392897173, 0.0023306078606630276, 0.0022525104006722602, 0.0023630015422157055]}, 'num_round': 100}, 0.8709294146990334)\n"
     ]
    },
    {
     "name": "stderr",
     "output_type": "stream",
     "text": [
      "C:\\Users\\RG\\anaconda3\\lib\\site-packages\\lightgbm\\engine.py:527: UserWarning: Found `num_iterations` in params. Will use it instead of argument\n",
      "  _log_warning(\"Found `{}` in params. Will use it instead of argument\".format(alias))\n"
     ]
    },
    {
     "name": "stdout",
     "output_type": "stream",
     "text": [
      "{'num_leaves': 1000, 'objective': 'binary', 'max_depth': 500, 'verbosity': -1, 'learning_rate': 0.1, 'metric': 'auc', 'num_iterations': 400, 'max_bin': 750} 0.8707600266162568\n",
      "({'num_leaves': 1000, 'objective': 'binary', 'max_depth': 500, 'verbosity': -1, 'learning_rate': 0.1, 'metric': 'auc', 'num_iterations': 100, 'max_bin': 850, 'score': {'auc-mean': [0.8660862404379077, 0.868425230973832, 0.8694172813298581, 0.8698413668637534, 0.8701246901558471, 0.8703120862226174, 0.8704629269516962, 0.8705967738869116, 0.8706066498017817, 0.8707864356954416, 0.870803063684081, 0.8708824914097437, 0.8709294146990334], 'auc-stdv': [0.002659870170730273, 0.002518594313133417, 0.0022878264307808504, 0.0023317306461980896, 0.002385988870666469, 0.0024836278494966145, 0.0025736029075052215, 0.0025433133710582026, 0.0023246391625028023, 0.002347312392897173, 0.0023306078606630276, 0.0022525104006722602, 0.0023630015422157055]}, 'num_round': 100}, 0.8709294146990334)\n"
     ]
    },
    {
     "name": "stderr",
     "output_type": "stream",
     "text": [
      "C:\\Users\\RG\\anaconda3\\lib\\site-packages\\lightgbm\\engine.py:527: UserWarning: Found `num_iterations` in params. Will use it instead of argument\n",
      "  _log_warning(\"Found `{}` in params. Will use it instead of argument\".format(alias))\n"
     ]
    },
    {
     "name": "stdout",
     "output_type": "stream",
     "text": [
      "{'num_leaves': 1000, 'objective': 'binary', 'max_depth': 500, 'verbosity': -1, 'learning_rate': 0.1, 'metric': 'auc', 'num_iterations': 400, 'max_bin': 800} 0.8709064200059989\n",
      "({'num_leaves': 1000, 'objective': 'binary', 'max_depth': 500, 'verbosity': -1, 'learning_rate': 0.1, 'metric': 'auc', 'num_iterations': 100, 'max_bin': 850, 'score': {'auc-mean': [0.8660862404379077, 0.868425230973832, 0.8694172813298581, 0.8698413668637534, 0.8701246901558471, 0.8703120862226174, 0.8704629269516962, 0.8705967738869116, 0.8706066498017817, 0.8707864356954416, 0.870803063684081, 0.8708824914097437, 0.8709294146990334], 'auc-stdv': [0.002659870170730273, 0.002518594313133417, 0.0022878264307808504, 0.0023317306461980896, 0.002385988870666469, 0.0024836278494966145, 0.0025736029075052215, 0.0025433133710582026, 0.0023246391625028023, 0.002347312392897173, 0.0023306078606630276, 0.0022525104006722602, 0.0023630015422157055]}, 'num_round': 100}, 0.8709294146990334)\n"
     ]
    },
    {
     "name": "stderr",
     "output_type": "stream",
     "text": [
      "C:\\Users\\RG\\anaconda3\\lib\\site-packages\\lightgbm\\engine.py:527: UserWarning: Found `num_iterations` in params. Will use it instead of argument\n",
      "  _log_warning(\"Found `{}` in params. Will use it instead of argument\".format(alias))\n"
     ]
    },
    {
     "name": "stdout",
     "output_type": "stream",
     "text": [
      "{'num_leaves': 1000, 'objective': 'binary', 'max_depth': 500, 'verbosity': -1, 'learning_rate': 0.1, 'metric': 'auc', 'num_iterations': 400, 'max_bin': 850} 0.8709294146990334\n",
      "({'num_leaves': 1000, 'objective': 'binary', 'max_depth': 500, 'verbosity': -1, 'learning_rate': 0.1, 'metric': 'auc', 'num_iterations': 100, 'max_bin': 850, 'score': {'auc-mean': [0.8660862404379077, 0.868425230973832, 0.8694172813298581, 0.8698413668637534, 0.8701246901558471, 0.8703120862226174, 0.8704629269516962, 0.8705967738869116, 0.8706066498017817, 0.8707864356954416, 0.870803063684081, 0.8708824914097437, 0.8709294146990334], 'auc-stdv': [0.002659870170730273, 0.002518594313133417, 0.0022878264307808504, 0.0023317306461980896, 0.002385988870666469, 0.0024836278494966145, 0.0025736029075052215, 0.0025433133710582026, 0.0023246391625028023, 0.002347312392897173, 0.0023306078606630276, 0.0022525104006722602, 0.0023630015422157055]}, 'num_round': 100}, 0.8709294146990334)\n"
     ]
    },
    {
     "name": "stderr",
     "output_type": "stream",
     "text": [
      "C:\\Users\\RG\\anaconda3\\lib\\site-packages\\lightgbm\\engine.py:527: UserWarning: Found `num_iterations` in params. Will use it instead of argument\n",
      "  _log_warning(\"Found `{}` in params. Will use it instead of argument\".format(alias))\n"
     ]
    },
    {
     "name": "stdout",
     "output_type": "stream",
     "text": [
      "{'num_leaves': 1000, 'objective': 'binary', 'max_depth': 500, 'verbosity': -1, 'learning_rate': 0.1, 'metric': 'auc', 'num_iterations': 400, 'max_bin': 900} 0.8707426786566941\n",
      "({'num_leaves': 1000, 'objective': 'binary', 'max_depth': 500, 'verbosity': -1, 'learning_rate': 0.1, 'metric': 'auc', 'num_iterations': 100, 'max_bin': 850, 'score': {'auc-mean': [0.8660862404379077, 0.868425230973832, 0.8694172813298581, 0.8698413668637534, 0.8701246901558471, 0.8703120862226174, 0.8704629269516962, 0.8705967738869116, 0.8706066498017817, 0.8707864356954416, 0.870803063684081, 0.8708824914097437, 0.8709294146990334], 'auc-stdv': [0.002659870170730273, 0.002518594313133417, 0.0022878264307808504, 0.0023317306461980896, 0.002385988870666469, 0.0024836278494966145, 0.0025736029075052215, 0.0025433133710582026, 0.0023246391625028023, 0.002347312392897173, 0.0023306078606630276, 0.0022525104006722602, 0.0023630015422157055]}, 'num_round': 100}, 0.8709294146990334)\n"
     ]
    },
    {
     "name": "stderr",
     "output_type": "stream",
     "text": [
      "C:\\Users\\RG\\anaconda3\\lib\\site-packages\\lightgbm\\engine.py:527: UserWarning: Found `num_iterations` in params. Will use it instead of argument\n",
      "  _log_warning(\"Found `{}` in params. Will use it instead of argument\".format(alias))\n"
     ]
    },
    {
     "name": "stdout",
     "output_type": "stream",
     "text": [
      "{'num_leaves': 1000, 'objective': 'binary', 'max_depth': 500, 'verbosity': -1, 'learning_rate': 0.1, 'metric': 'auc', 'num_iterations': 400, 'max_bin': 950} 0.870699704917129\n",
      "({'num_leaves': 1000, 'objective': 'binary', 'max_depth': 500, 'verbosity': -1, 'learning_rate': 0.1, 'metric': 'auc', 'num_iterations': 100, 'max_bin': 850, 'score': {'auc-mean': [0.8660862404379077, 0.868425230973832, 0.8694172813298581, 0.8698413668637534, 0.8701246901558471, 0.8703120862226174, 0.8704629269516962, 0.8705967738869116, 0.8706066498017817, 0.8707864356954416, 0.870803063684081, 0.8708824914097437, 0.8709294146990334], 'auc-stdv': [0.002659870170730273, 0.002518594313133417, 0.0022878264307808504, 0.0023317306461980896, 0.002385988870666469, 0.0024836278494966145, 0.0025736029075052215, 0.0025433133710582026, 0.0023246391625028023, 0.002347312392897173, 0.0023306078606630276, 0.0022525104006722602, 0.0023630015422157055]}, 'num_round': 100}, 0.8709294146990334)\n"
     ]
    },
    {
     "name": "stderr",
     "output_type": "stream",
     "text": [
      "C:\\Users\\RG\\anaconda3\\lib\\site-packages\\lightgbm\\engine.py:527: UserWarning: Found `num_iterations` in params. Will use it instead of argument\n",
      "  _log_warning(\"Found `{}` in params. Will use it instead of argument\".format(alias))\n"
     ]
    },
    {
     "name": "stdout",
     "output_type": "stream",
     "text": [
      "{'num_leaves': 1000, 'objective': 'binary', 'max_depth': 500, 'verbosity': -1, 'learning_rate': 0.1, 'metric': 'auc', 'num_iterations': 500, 'max_bin': 250} 0.8706864517441938\n",
      "({'num_leaves': 1000, 'objective': 'binary', 'max_depth': 500, 'verbosity': -1, 'learning_rate': 0.1, 'metric': 'auc', 'num_iterations': 100, 'max_bin': 850, 'score': {'auc-mean': [0.8660862404379077, 0.868425230973832, 0.8694172813298581, 0.8698413668637534, 0.8701246901558471, 0.8703120862226174, 0.8704629269516962, 0.8705967738869116, 0.8706066498017817, 0.8707864356954416, 0.870803063684081, 0.8708824914097437, 0.8709294146990334], 'auc-stdv': [0.002659870170730273, 0.002518594313133417, 0.0022878264307808504, 0.0023317306461980896, 0.002385988870666469, 0.0024836278494966145, 0.0025736029075052215, 0.0025433133710582026, 0.0023246391625028023, 0.002347312392897173, 0.0023306078606630276, 0.0022525104006722602, 0.0023630015422157055]}, 'num_round': 100}, 0.8709294146990334)\n"
     ]
    },
    {
     "name": "stderr",
     "output_type": "stream",
     "text": [
      "C:\\Users\\RG\\anaconda3\\lib\\site-packages\\lightgbm\\engine.py:527: UserWarning: Found `num_iterations` in params. Will use it instead of argument\n",
      "  _log_warning(\"Found `{}` in params. Will use it instead of argument\".format(alias))\n"
     ]
    },
    {
     "name": "stdout",
     "output_type": "stream",
     "text": [
      "{'num_leaves': 1000, 'objective': 'binary', 'max_depth': 500, 'verbosity': -1, 'learning_rate': 0.1, 'metric': 'auc', 'num_iterations': 500, 'max_bin': 300} 0.8708652040487077\n",
      "({'num_leaves': 1000, 'objective': 'binary', 'max_depth': 500, 'verbosity': -1, 'learning_rate': 0.1, 'metric': 'auc', 'num_iterations': 100, 'max_bin': 850, 'score': {'auc-mean': [0.8660862404379077, 0.868425230973832, 0.8694172813298581, 0.8698413668637534, 0.8701246901558471, 0.8703120862226174, 0.8704629269516962, 0.8705967738869116, 0.8706066498017817, 0.8707864356954416, 0.870803063684081, 0.8708824914097437, 0.8709294146990334], 'auc-stdv': [0.002659870170730273, 0.002518594313133417, 0.0022878264307808504, 0.0023317306461980896, 0.002385988870666469, 0.0024836278494966145, 0.0025736029075052215, 0.0025433133710582026, 0.0023246391625028023, 0.002347312392897173, 0.0023306078606630276, 0.0022525104006722602, 0.0023630015422157055]}, 'num_round': 100}, 0.8709294146990334)\n"
     ]
    },
    {
     "name": "stderr",
     "output_type": "stream",
     "text": [
      "C:\\Users\\RG\\anaconda3\\lib\\site-packages\\lightgbm\\engine.py:527: UserWarning: Found `num_iterations` in params. Will use it instead of argument\n",
      "  _log_warning(\"Found `{}` in params. Will use it instead of argument\".format(alias))\n"
     ]
    },
    {
     "name": "stdout",
     "output_type": "stream",
     "text": [
      "{'num_leaves': 1000, 'objective': 'binary', 'max_depth': 500, 'verbosity': -1, 'learning_rate': 0.1, 'metric': 'auc', 'num_iterations': 500, 'max_bin': 350} 0.8707340259623517\n",
      "({'num_leaves': 1000, 'objective': 'binary', 'max_depth': 500, 'verbosity': -1, 'learning_rate': 0.1, 'metric': 'auc', 'num_iterations': 100, 'max_bin': 850, 'score': {'auc-mean': [0.8660862404379077, 0.868425230973832, 0.8694172813298581, 0.8698413668637534, 0.8701246901558471, 0.8703120862226174, 0.8704629269516962, 0.8705967738869116, 0.8706066498017817, 0.8707864356954416, 0.870803063684081, 0.8708824914097437, 0.8709294146990334], 'auc-stdv': [0.002659870170730273, 0.002518594313133417, 0.0022878264307808504, 0.0023317306461980896, 0.002385988870666469, 0.0024836278494966145, 0.0025736029075052215, 0.0025433133710582026, 0.0023246391625028023, 0.002347312392897173, 0.0023306078606630276, 0.0022525104006722602, 0.0023630015422157055]}, 'num_round': 100}, 0.8709294146990334)\n"
     ]
    },
    {
     "name": "stderr",
     "output_type": "stream",
     "text": [
      "C:\\Users\\RG\\anaconda3\\lib\\site-packages\\lightgbm\\engine.py:527: UserWarning: Found `num_iterations` in params. Will use it instead of argument\n",
      "  _log_warning(\"Found `{}` in params. Will use it instead of argument\".format(alias))\n"
     ]
    },
    {
     "name": "stdout",
     "output_type": "stream",
     "text": [
      "{'num_leaves': 1000, 'objective': 'binary', 'max_depth': 500, 'verbosity': -1, 'learning_rate': 0.1, 'metric': 'auc', 'num_iterations': 500, 'max_bin': 400} 0.8708993620511386\n",
      "({'num_leaves': 1000, 'objective': 'binary', 'max_depth': 500, 'verbosity': -1, 'learning_rate': 0.1, 'metric': 'auc', 'num_iterations': 100, 'max_bin': 850, 'score': {'auc-mean': [0.8660862404379077, 0.868425230973832, 0.8694172813298581, 0.8698413668637534, 0.8701246901558471, 0.8703120862226174, 0.8704629269516962, 0.8705967738869116, 0.8706066498017817, 0.8707864356954416, 0.870803063684081, 0.8708824914097437, 0.8709294146990334], 'auc-stdv': [0.002659870170730273, 0.002518594313133417, 0.0022878264307808504, 0.0023317306461980896, 0.002385988870666469, 0.0024836278494966145, 0.0025736029075052215, 0.0025433133710582026, 0.0023246391625028023, 0.002347312392897173, 0.0023306078606630276, 0.0022525104006722602, 0.0023630015422157055]}, 'num_round': 100}, 0.8709294146990334)\n"
     ]
    },
    {
     "name": "stderr",
     "output_type": "stream",
     "text": [
      "C:\\Users\\RG\\anaconda3\\lib\\site-packages\\lightgbm\\engine.py:527: UserWarning: Found `num_iterations` in params. Will use it instead of argument\n",
      "  _log_warning(\"Found `{}` in params. Will use it instead of argument\".format(alias))\n"
     ]
    },
    {
     "name": "stdout",
     "output_type": "stream",
     "text": [
      "{'num_leaves': 1000, 'objective': 'binary', 'max_depth': 500, 'verbosity': -1, 'learning_rate': 0.1, 'metric': 'auc', 'num_iterations': 500, 'max_bin': 450} 0.8707665509455295\n",
      "({'num_leaves': 1000, 'objective': 'binary', 'max_depth': 500, 'verbosity': -1, 'learning_rate': 0.1, 'metric': 'auc', 'num_iterations': 100, 'max_bin': 850, 'score': {'auc-mean': [0.8660862404379077, 0.868425230973832, 0.8694172813298581, 0.8698413668637534, 0.8701246901558471, 0.8703120862226174, 0.8704629269516962, 0.8705967738869116, 0.8706066498017817, 0.8707864356954416, 0.870803063684081, 0.8708824914097437, 0.8709294146990334], 'auc-stdv': [0.002659870170730273, 0.002518594313133417, 0.0022878264307808504, 0.0023317306461980896, 0.002385988870666469, 0.0024836278494966145, 0.0025736029075052215, 0.0025433133710582026, 0.0023246391625028023, 0.002347312392897173, 0.0023306078606630276, 0.0022525104006722602, 0.0023630015422157055]}, 'num_round': 100}, 0.8709294146990334)\n"
     ]
    },
    {
     "name": "stderr",
     "output_type": "stream",
     "text": [
      "C:\\Users\\RG\\anaconda3\\lib\\site-packages\\lightgbm\\engine.py:527: UserWarning: Found `num_iterations` in params. Will use it instead of argument\n",
      "  _log_warning(\"Found `{}` in params. Will use it instead of argument\".format(alias))\n"
     ]
    },
    {
     "name": "stdout",
     "output_type": "stream",
     "text": [
      "{'num_leaves': 1000, 'objective': 'binary', 'max_depth': 500, 'verbosity': -1, 'learning_rate': 0.1, 'metric': 'auc', 'num_iterations': 500, 'max_bin': 500} 0.8707588382831766\n",
      "({'num_leaves': 1000, 'objective': 'binary', 'max_depth': 500, 'verbosity': -1, 'learning_rate': 0.1, 'metric': 'auc', 'num_iterations': 100, 'max_bin': 850, 'score': {'auc-mean': [0.8660862404379077, 0.868425230973832, 0.8694172813298581, 0.8698413668637534, 0.8701246901558471, 0.8703120862226174, 0.8704629269516962, 0.8705967738869116, 0.8706066498017817, 0.8707864356954416, 0.870803063684081, 0.8708824914097437, 0.8709294146990334], 'auc-stdv': [0.002659870170730273, 0.002518594313133417, 0.0022878264307808504, 0.0023317306461980896, 0.002385988870666469, 0.0024836278494966145, 0.0025736029075052215, 0.0025433133710582026, 0.0023246391625028023, 0.002347312392897173, 0.0023306078606630276, 0.0022525104006722602, 0.0023630015422157055]}, 'num_round': 100}, 0.8709294146990334)\n"
     ]
    },
    {
     "name": "stderr",
     "output_type": "stream",
     "text": [
      "C:\\Users\\RG\\anaconda3\\lib\\site-packages\\lightgbm\\engine.py:527: UserWarning: Found `num_iterations` in params. Will use it instead of argument\n",
      "  _log_warning(\"Found `{}` in params. Will use it instead of argument\".format(alias))\n"
     ]
    },
    {
     "name": "stdout",
     "output_type": "stream",
     "text": [
      "{'num_leaves': 1000, 'objective': 'binary', 'max_depth': 500, 'verbosity': -1, 'learning_rate': 0.1, 'metric': 'auc', 'num_iterations': 500, 'max_bin': 550} 0.8705666498652829\n",
      "({'num_leaves': 1000, 'objective': 'binary', 'max_depth': 500, 'verbosity': -1, 'learning_rate': 0.1, 'metric': 'auc', 'num_iterations': 100, 'max_bin': 850, 'score': {'auc-mean': [0.8660862404379077, 0.868425230973832, 0.8694172813298581, 0.8698413668637534, 0.8701246901558471, 0.8703120862226174, 0.8704629269516962, 0.8705967738869116, 0.8706066498017817, 0.8707864356954416, 0.870803063684081, 0.8708824914097437, 0.8709294146990334], 'auc-stdv': [0.002659870170730273, 0.002518594313133417, 0.0022878264307808504, 0.0023317306461980896, 0.002385988870666469, 0.0024836278494966145, 0.0025736029075052215, 0.0025433133710582026, 0.0023246391625028023, 0.002347312392897173, 0.0023306078606630276, 0.0022525104006722602, 0.0023630015422157055]}, 'num_round': 100}, 0.8709294146990334)\n"
     ]
    },
    {
     "name": "stderr",
     "output_type": "stream",
     "text": [
      "C:\\Users\\RG\\anaconda3\\lib\\site-packages\\lightgbm\\engine.py:527: UserWarning: Found `num_iterations` in params. Will use it instead of argument\n",
      "  _log_warning(\"Found `{}` in params. Will use it instead of argument\".format(alias))\n"
     ]
    },
    {
     "name": "stdout",
     "output_type": "stream",
     "text": [
      "{'num_leaves': 1000, 'objective': 'binary', 'max_depth': 500, 'verbosity': -1, 'learning_rate': 0.1, 'metric': 'auc', 'num_iterations': 500, 'max_bin': 600} 0.8707261952874319\n",
      "({'num_leaves': 1000, 'objective': 'binary', 'max_depth': 500, 'verbosity': -1, 'learning_rate': 0.1, 'metric': 'auc', 'num_iterations': 100, 'max_bin': 850, 'score': {'auc-mean': [0.8660862404379077, 0.868425230973832, 0.8694172813298581, 0.8698413668637534, 0.8701246901558471, 0.8703120862226174, 0.8704629269516962, 0.8705967738869116, 0.8706066498017817, 0.8707864356954416, 0.870803063684081, 0.8708824914097437, 0.8709294146990334], 'auc-stdv': [0.002659870170730273, 0.002518594313133417, 0.0022878264307808504, 0.0023317306461980896, 0.002385988870666469, 0.0024836278494966145, 0.0025736029075052215, 0.0025433133710582026, 0.0023246391625028023, 0.002347312392897173, 0.0023306078606630276, 0.0022525104006722602, 0.0023630015422157055]}, 'num_round': 100}, 0.8709294146990334)\n"
     ]
    },
    {
     "name": "stderr",
     "output_type": "stream",
     "text": [
      "C:\\Users\\RG\\anaconda3\\lib\\site-packages\\lightgbm\\engine.py:527: UserWarning: Found `num_iterations` in params. Will use it instead of argument\n",
      "  _log_warning(\"Found `{}` in params. Will use it instead of argument\".format(alias))\n"
     ]
    },
    {
     "name": "stdout",
     "output_type": "stream",
     "text": [
      "{'num_leaves': 1000, 'objective': 'binary', 'max_depth': 500, 'verbosity': -1, 'learning_rate': 0.1, 'metric': 'auc', 'num_iterations': 500, 'max_bin': 650} 0.8706845855969736\n",
      "({'num_leaves': 1000, 'objective': 'binary', 'max_depth': 500, 'verbosity': -1, 'learning_rate': 0.1, 'metric': 'auc', 'num_iterations': 100, 'max_bin': 850, 'score': {'auc-mean': [0.8660862404379077, 0.868425230973832, 0.8694172813298581, 0.8698413668637534, 0.8701246901558471, 0.8703120862226174, 0.8704629269516962, 0.8705967738869116, 0.8706066498017817, 0.8707864356954416, 0.870803063684081, 0.8708824914097437, 0.8709294146990334], 'auc-stdv': [0.002659870170730273, 0.002518594313133417, 0.0022878264307808504, 0.0023317306461980896, 0.002385988870666469, 0.0024836278494966145, 0.0025736029075052215, 0.0025433133710582026, 0.0023246391625028023, 0.002347312392897173, 0.0023306078606630276, 0.0022525104006722602, 0.0023630015422157055]}, 'num_round': 100}, 0.8709294146990334)\n"
     ]
    },
    {
     "name": "stderr",
     "output_type": "stream",
     "text": [
      "C:\\Users\\RG\\anaconda3\\lib\\site-packages\\lightgbm\\engine.py:527: UserWarning: Found `num_iterations` in params. Will use it instead of argument\n",
      "  _log_warning(\"Found `{}` in params. Will use it instead of argument\".format(alias))\n"
     ]
    },
    {
     "name": "stdout",
     "output_type": "stream",
     "text": [
      "{'num_leaves': 1000, 'objective': 'binary', 'max_depth': 500, 'verbosity': -1, 'learning_rate': 0.1, 'metric': 'auc', 'num_iterations': 500, 'max_bin': 700} 0.8708095037216133\n",
      "({'num_leaves': 1000, 'objective': 'binary', 'max_depth': 500, 'verbosity': -1, 'learning_rate': 0.1, 'metric': 'auc', 'num_iterations': 100, 'max_bin': 850, 'score': {'auc-mean': [0.8660862404379077, 0.868425230973832, 0.8694172813298581, 0.8698413668637534, 0.8701246901558471, 0.8703120862226174, 0.8704629269516962, 0.8705967738869116, 0.8706066498017817, 0.8707864356954416, 0.870803063684081, 0.8708824914097437, 0.8709294146990334], 'auc-stdv': [0.002659870170730273, 0.002518594313133417, 0.0022878264307808504, 0.0023317306461980896, 0.002385988870666469, 0.0024836278494966145, 0.0025736029075052215, 0.0025433133710582026, 0.0023246391625028023, 0.002347312392897173, 0.0023306078606630276, 0.0022525104006722602, 0.0023630015422157055]}, 'num_round': 100}, 0.8709294146990334)\n"
     ]
    },
    {
     "name": "stderr",
     "output_type": "stream",
     "text": [
      "C:\\Users\\RG\\anaconda3\\lib\\site-packages\\lightgbm\\engine.py:527: UserWarning: Found `num_iterations` in params. Will use it instead of argument\n",
      "  _log_warning(\"Found `{}` in params. Will use it instead of argument\".format(alias))\n"
     ]
    },
    {
     "name": "stdout",
     "output_type": "stream",
     "text": [
      "{'num_leaves': 1000, 'objective': 'binary', 'max_depth': 500, 'verbosity': -1, 'learning_rate': 0.1, 'metric': 'auc', 'num_iterations': 500, 'max_bin': 750} 0.8707600266162568\n",
      "({'num_leaves': 1000, 'objective': 'binary', 'max_depth': 500, 'verbosity': -1, 'learning_rate': 0.1, 'metric': 'auc', 'num_iterations': 100, 'max_bin': 850, 'score': {'auc-mean': [0.8660862404379077, 0.868425230973832, 0.8694172813298581, 0.8698413668637534, 0.8701246901558471, 0.8703120862226174, 0.8704629269516962, 0.8705967738869116, 0.8706066498017817, 0.8707864356954416, 0.870803063684081, 0.8708824914097437, 0.8709294146990334], 'auc-stdv': [0.002659870170730273, 0.002518594313133417, 0.0022878264307808504, 0.0023317306461980896, 0.002385988870666469, 0.0024836278494966145, 0.0025736029075052215, 0.0025433133710582026, 0.0023246391625028023, 0.002347312392897173, 0.0023306078606630276, 0.0022525104006722602, 0.0023630015422157055]}, 'num_round': 100}, 0.8709294146990334)\n"
     ]
    },
    {
     "name": "stderr",
     "output_type": "stream",
     "text": [
      "C:\\Users\\RG\\anaconda3\\lib\\site-packages\\lightgbm\\engine.py:527: UserWarning: Found `num_iterations` in params. Will use it instead of argument\n",
      "  _log_warning(\"Found `{}` in params. Will use it instead of argument\".format(alias))\n"
     ]
    },
    {
     "name": "stdout",
     "output_type": "stream",
     "text": [
      "{'num_leaves': 1000, 'objective': 'binary', 'max_depth': 500, 'verbosity': -1, 'learning_rate': 0.1, 'metric': 'auc', 'num_iterations': 500, 'max_bin': 800} 0.8709064200059989\n",
      "({'num_leaves': 1000, 'objective': 'binary', 'max_depth': 500, 'verbosity': -1, 'learning_rate': 0.1, 'metric': 'auc', 'num_iterations': 100, 'max_bin': 850, 'score': {'auc-mean': [0.8660862404379077, 0.868425230973832, 0.8694172813298581, 0.8698413668637534, 0.8701246901558471, 0.8703120862226174, 0.8704629269516962, 0.8705967738869116, 0.8706066498017817, 0.8707864356954416, 0.870803063684081, 0.8708824914097437, 0.8709294146990334], 'auc-stdv': [0.002659870170730273, 0.002518594313133417, 0.0022878264307808504, 0.0023317306461980896, 0.002385988870666469, 0.0024836278494966145, 0.0025736029075052215, 0.0025433133710582026, 0.0023246391625028023, 0.002347312392897173, 0.0023306078606630276, 0.0022525104006722602, 0.0023630015422157055]}, 'num_round': 100}, 0.8709294146990334)\n"
     ]
    },
    {
     "name": "stderr",
     "output_type": "stream",
     "text": [
      "C:\\Users\\RG\\anaconda3\\lib\\site-packages\\lightgbm\\engine.py:527: UserWarning: Found `num_iterations` in params. Will use it instead of argument\n",
      "  _log_warning(\"Found `{}` in params. Will use it instead of argument\".format(alias))\n"
     ]
    },
    {
     "name": "stdout",
     "output_type": "stream",
     "text": [
      "{'num_leaves': 1000, 'objective': 'binary', 'max_depth': 500, 'verbosity': -1, 'learning_rate': 0.1, 'metric': 'auc', 'num_iterations': 500, 'max_bin': 850} 0.8709294146990334\n",
      "({'num_leaves': 1000, 'objective': 'binary', 'max_depth': 500, 'verbosity': -1, 'learning_rate': 0.1, 'metric': 'auc', 'num_iterations': 100, 'max_bin': 850, 'score': {'auc-mean': [0.8660862404379077, 0.868425230973832, 0.8694172813298581, 0.8698413668637534, 0.8701246901558471, 0.8703120862226174, 0.8704629269516962, 0.8705967738869116, 0.8706066498017817, 0.8707864356954416, 0.870803063684081, 0.8708824914097437, 0.8709294146990334], 'auc-stdv': [0.002659870170730273, 0.002518594313133417, 0.0022878264307808504, 0.0023317306461980896, 0.002385988870666469, 0.0024836278494966145, 0.0025736029075052215, 0.0025433133710582026, 0.0023246391625028023, 0.002347312392897173, 0.0023306078606630276, 0.0022525104006722602, 0.0023630015422157055]}, 'num_round': 100}, 0.8709294146990334)\n"
     ]
    },
    {
     "name": "stderr",
     "output_type": "stream",
     "text": [
      "C:\\Users\\RG\\anaconda3\\lib\\site-packages\\lightgbm\\engine.py:527: UserWarning: Found `num_iterations` in params. Will use it instead of argument\n",
      "  _log_warning(\"Found `{}` in params. Will use it instead of argument\".format(alias))\n"
     ]
    },
    {
     "name": "stdout",
     "output_type": "stream",
     "text": [
      "{'num_leaves': 1000, 'objective': 'binary', 'max_depth': 500, 'verbosity': -1, 'learning_rate': 0.1, 'metric': 'auc', 'num_iterations': 500, 'max_bin': 900} 0.8707426786566941\n",
      "({'num_leaves': 1000, 'objective': 'binary', 'max_depth': 500, 'verbosity': -1, 'learning_rate': 0.1, 'metric': 'auc', 'num_iterations': 100, 'max_bin': 850, 'score': {'auc-mean': [0.8660862404379077, 0.868425230973832, 0.8694172813298581, 0.8698413668637534, 0.8701246901558471, 0.8703120862226174, 0.8704629269516962, 0.8705967738869116, 0.8706066498017817, 0.8707864356954416, 0.870803063684081, 0.8708824914097437, 0.8709294146990334], 'auc-stdv': [0.002659870170730273, 0.002518594313133417, 0.0022878264307808504, 0.0023317306461980896, 0.002385988870666469, 0.0024836278494966145, 0.0025736029075052215, 0.0025433133710582026, 0.0023246391625028023, 0.002347312392897173, 0.0023306078606630276, 0.0022525104006722602, 0.0023630015422157055]}, 'num_round': 100}, 0.8709294146990334)\n"
     ]
    },
    {
     "name": "stderr",
     "output_type": "stream",
     "text": [
      "C:\\Users\\RG\\anaconda3\\lib\\site-packages\\lightgbm\\engine.py:527: UserWarning: Found `num_iterations` in params. Will use it instead of argument\n",
      "  _log_warning(\"Found `{}` in params. Will use it instead of argument\".format(alias))\n"
     ]
    },
    {
     "name": "stdout",
     "output_type": "stream",
     "text": [
      "{'num_leaves': 1000, 'objective': 'binary', 'max_depth': 500, 'verbosity': -1, 'learning_rate': 0.1, 'metric': 'auc', 'num_iterations': 500, 'max_bin': 950} 0.870699704917129\n",
      "({'num_leaves': 1000, 'objective': 'binary', 'max_depth': 500, 'verbosity': -1, 'learning_rate': 0.1, 'metric': 'auc', 'num_iterations': 100, 'max_bin': 850, 'score': {'auc-mean': [0.8660862404379077, 0.868425230973832, 0.8694172813298581, 0.8698413668637534, 0.8701246901558471, 0.8703120862226174, 0.8704629269516962, 0.8705967738869116, 0.8706066498017817, 0.8707864356954416, 0.870803063684081, 0.8708824914097437, 0.8709294146990334], 'auc-stdv': [0.002659870170730273, 0.002518594313133417, 0.0022878264307808504, 0.0023317306461980896, 0.002385988870666469, 0.0024836278494966145, 0.0025736029075052215, 0.0025433133710582026, 0.0023246391625028023, 0.002347312392897173, 0.0023306078606630276, 0.0022525104006722602, 0.0023630015422157055]}, 'num_round': 100}, 0.8709294146990334)\n"
     ]
    },
    {
     "name": "stderr",
     "output_type": "stream",
     "text": [
      "C:\\Users\\RG\\anaconda3\\lib\\site-packages\\lightgbm\\engine.py:527: UserWarning: Found `num_iterations` in params. Will use it instead of argument\n",
      "  _log_warning(\"Found `{}` in params. Will use it instead of argument\".format(alias))\n"
     ]
    },
    {
     "name": "stdout",
     "output_type": "stream",
     "text": [
      "{'num_leaves': 1000, 'objective': 'binary', 'max_depth': 500, 'verbosity': -1, 'learning_rate': 0.1, 'metric': 'auc', 'num_iterations': 600, 'max_bin': 250} 0.8706864517441938\n",
      "({'num_leaves': 1000, 'objective': 'binary', 'max_depth': 500, 'verbosity': -1, 'learning_rate': 0.1, 'metric': 'auc', 'num_iterations': 100, 'max_bin': 850, 'score': {'auc-mean': [0.8660862404379077, 0.868425230973832, 0.8694172813298581, 0.8698413668637534, 0.8701246901558471, 0.8703120862226174, 0.8704629269516962, 0.8705967738869116, 0.8706066498017817, 0.8707864356954416, 0.870803063684081, 0.8708824914097437, 0.8709294146990334], 'auc-stdv': [0.002659870170730273, 0.002518594313133417, 0.0022878264307808504, 0.0023317306461980896, 0.002385988870666469, 0.0024836278494966145, 0.0025736029075052215, 0.0025433133710582026, 0.0023246391625028023, 0.002347312392897173, 0.0023306078606630276, 0.0022525104006722602, 0.0023630015422157055]}, 'num_round': 100}, 0.8709294146990334)\n"
     ]
    },
    {
     "name": "stderr",
     "output_type": "stream",
     "text": [
      "C:\\Users\\RG\\anaconda3\\lib\\site-packages\\lightgbm\\engine.py:527: UserWarning: Found `num_iterations` in params. Will use it instead of argument\n",
      "  _log_warning(\"Found `{}` in params. Will use it instead of argument\".format(alias))\n"
     ]
    },
    {
     "name": "stdout",
     "output_type": "stream",
     "text": [
      "{'num_leaves': 1000, 'objective': 'binary', 'max_depth': 500, 'verbosity': -1, 'learning_rate': 0.1, 'metric': 'auc', 'num_iterations': 600, 'max_bin': 300} 0.8708652040487077\n",
      "({'num_leaves': 1000, 'objective': 'binary', 'max_depth': 500, 'verbosity': -1, 'learning_rate': 0.1, 'metric': 'auc', 'num_iterations': 100, 'max_bin': 850, 'score': {'auc-mean': [0.8660862404379077, 0.868425230973832, 0.8694172813298581, 0.8698413668637534, 0.8701246901558471, 0.8703120862226174, 0.8704629269516962, 0.8705967738869116, 0.8706066498017817, 0.8707864356954416, 0.870803063684081, 0.8708824914097437, 0.8709294146990334], 'auc-stdv': [0.002659870170730273, 0.002518594313133417, 0.0022878264307808504, 0.0023317306461980896, 0.002385988870666469, 0.0024836278494966145, 0.0025736029075052215, 0.0025433133710582026, 0.0023246391625028023, 0.002347312392897173, 0.0023306078606630276, 0.0022525104006722602, 0.0023630015422157055]}, 'num_round': 100}, 0.8709294146990334)\n"
     ]
    },
    {
     "name": "stderr",
     "output_type": "stream",
     "text": [
      "C:\\Users\\RG\\anaconda3\\lib\\site-packages\\lightgbm\\engine.py:527: UserWarning: Found `num_iterations` in params. Will use it instead of argument\n",
      "  _log_warning(\"Found `{}` in params. Will use it instead of argument\".format(alias))\n"
     ]
    },
    {
     "name": "stdout",
     "output_type": "stream",
     "text": [
      "{'num_leaves': 1000, 'objective': 'binary', 'max_depth': 500, 'verbosity': -1, 'learning_rate': 0.1, 'metric': 'auc', 'num_iterations': 600, 'max_bin': 350} 0.8707340259623517\n",
      "({'num_leaves': 1000, 'objective': 'binary', 'max_depth': 500, 'verbosity': -1, 'learning_rate': 0.1, 'metric': 'auc', 'num_iterations': 100, 'max_bin': 850, 'score': {'auc-mean': [0.8660862404379077, 0.868425230973832, 0.8694172813298581, 0.8698413668637534, 0.8701246901558471, 0.8703120862226174, 0.8704629269516962, 0.8705967738869116, 0.8706066498017817, 0.8707864356954416, 0.870803063684081, 0.8708824914097437, 0.8709294146990334], 'auc-stdv': [0.002659870170730273, 0.002518594313133417, 0.0022878264307808504, 0.0023317306461980896, 0.002385988870666469, 0.0024836278494966145, 0.0025736029075052215, 0.0025433133710582026, 0.0023246391625028023, 0.002347312392897173, 0.0023306078606630276, 0.0022525104006722602, 0.0023630015422157055]}, 'num_round': 100}, 0.8709294146990334)\n"
     ]
    },
    {
     "name": "stderr",
     "output_type": "stream",
     "text": [
      "C:\\Users\\RG\\anaconda3\\lib\\site-packages\\lightgbm\\engine.py:527: UserWarning: Found `num_iterations` in params. Will use it instead of argument\n",
      "  _log_warning(\"Found `{}` in params. Will use it instead of argument\".format(alias))\n"
     ]
    },
    {
     "name": "stdout",
     "output_type": "stream",
     "text": [
      "{'num_leaves': 1000, 'objective': 'binary', 'max_depth': 500, 'verbosity': -1, 'learning_rate': 0.1, 'metric': 'auc', 'num_iterations': 600, 'max_bin': 400} 0.8708993620511386\n",
      "({'num_leaves': 1000, 'objective': 'binary', 'max_depth': 500, 'verbosity': -1, 'learning_rate': 0.1, 'metric': 'auc', 'num_iterations': 100, 'max_bin': 850, 'score': {'auc-mean': [0.8660862404379077, 0.868425230973832, 0.8694172813298581, 0.8698413668637534, 0.8701246901558471, 0.8703120862226174, 0.8704629269516962, 0.8705967738869116, 0.8706066498017817, 0.8707864356954416, 0.870803063684081, 0.8708824914097437, 0.8709294146990334], 'auc-stdv': [0.002659870170730273, 0.002518594313133417, 0.0022878264307808504, 0.0023317306461980896, 0.002385988870666469, 0.0024836278494966145, 0.0025736029075052215, 0.0025433133710582026, 0.0023246391625028023, 0.002347312392897173, 0.0023306078606630276, 0.0022525104006722602, 0.0023630015422157055]}, 'num_round': 100}, 0.8709294146990334)\n"
     ]
    },
    {
     "name": "stderr",
     "output_type": "stream",
     "text": [
      "C:\\Users\\RG\\anaconda3\\lib\\site-packages\\lightgbm\\engine.py:527: UserWarning: Found `num_iterations` in params. Will use it instead of argument\n",
      "  _log_warning(\"Found `{}` in params. Will use it instead of argument\".format(alias))\n"
     ]
    },
    {
     "name": "stdout",
     "output_type": "stream",
     "text": [
      "{'num_leaves': 1000, 'objective': 'binary', 'max_depth': 500, 'verbosity': -1, 'learning_rate': 0.1, 'metric': 'auc', 'num_iterations': 600, 'max_bin': 450} 0.8707665509455295\n",
      "({'num_leaves': 1000, 'objective': 'binary', 'max_depth': 500, 'verbosity': -1, 'learning_rate': 0.1, 'metric': 'auc', 'num_iterations': 100, 'max_bin': 850, 'score': {'auc-mean': [0.8660862404379077, 0.868425230973832, 0.8694172813298581, 0.8698413668637534, 0.8701246901558471, 0.8703120862226174, 0.8704629269516962, 0.8705967738869116, 0.8706066498017817, 0.8707864356954416, 0.870803063684081, 0.8708824914097437, 0.8709294146990334], 'auc-stdv': [0.002659870170730273, 0.002518594313133417, 0.0022878264307808504, 0.0023317306461980896, 0.002385988870666469, 0.0024836278494966145, 0.0025736029075052215, 0.0025433133710582026, 0.0023246391625028023, 0.002347312392897173, 0.0023306078606630276, 0.0022525104006722602, 0.0023630015422157055]}, 'num_round': 100}, 0.8709294146990334)\n"
     ]
    },
    {
     "name": "stderr",
     "output_type": "stream",
     "text": [
      "C:\\Users\\RG\\anaconda3\\lib\\site-packages\\lightgbm\\engine.py:527: UserWarning: Found `num_iterations` in params. Will use it instead of argument\n",
      "  _log_warning(\"Found `{}` in params. Will use it instead of argument\".format(alias))\n"
     ]
    },
    {
     "name": "stdout",
     "output_type": "stream",
     "text": [
      "{'num_leaves': 1000, 'objective': 'binary', 'max_depth': 500, 'verbosity': -1, 'learning_rate': 0.1, 'metric': 'auc', 'num_iterations': 600, 'max_bin': 500} 0.8707588382831766\n",
      "({'num_leaves': 1000, 'objective': 'binary', 'max_depth': 500, 'verbosity': -1, 'learning_rate': 0.1, 'metric': 'auc', 'num_iterations': 100, 'max_bin': 850, 'score': {'auc-mean': [0.8660862404379077, 0.868425230973832, 0.8694172813298581, 0.8698413668637534, 0.8701246901558471, 0.8703120862226174, 0.8704629269516962, 0.8705967738869116, 0.8706066498017817, 0.8707864356954416, 0.870803063684081, 0.8708824914097437, 0.8709294146990334], 'auc-stdv': [0.002659870170730273, 0.002518594313133417, 0.0022878264307808504, 0.0023317306461980896, 0.002385988870666469, 0.0024836278494966145, 0.0025736029075052215, 0.0025433133710582026, 0.0023246391625028023, 0.002347312392897173, 0.0023306078606630276, 0.0022525104006722602, 0.0023630015422157055]}, 'num_round': 100}, 0.8709294146990334)\n"
     ]
    },
    {
     "name": "stderr",
     "output_type": "stream",
     "text": [
      "C:\\Users\\RG\\anaconda3\\lib\\site-packages\\lightgbm\\engine.py:527: UserWarning: Found `num_iterations` in params. Will use it instead of argument\n",
      "  _log_warning(\"Found `{}` in params. Will use it instead of argument\".format(alias))\n"
     ]
    },
    {
     "name": "stdout",
     "output_type": "stream",
     "text": [
      "{'num_leaves': 1000, 'objective': 'binary', 'max_depth': 500, 'verbosity': -1, 'learning_rate': 0.1, 'metric': 'auc', 'num_iterations': 600, 'max_bin': 550} 0.8705666498652829\n",
      "({'num_leaves': 1000, 'objective': 'binary', 'max_depth': 500, 'verbosity': -1, 'learning_rate': 0.1, 'metric': 'auc', 'num_iterations': 100, 'max_bin': 850, 'score': {'auc-mean': [0.8660862404379077, 0.868425230973832, 0.8694172813298581, 0.8698413668637534, 0.8701246901558471, 0.8703120862226174, 0.8704629269516962, 0.8705967738869116, 0.8706066498017817, 0.8707864356954416, 0.870803063684081, 0.8708824914097437, 0.8709294146990334], 'auc-stdv': [0.002659870170730273, 0.002518594313133417, 0.0022878264307808504, 0.0023317306461980896, 0.002385988870666469, 0.0024836278494966145, 0.0025736029075052215, 0.0025433133710582026, 0.0023246391625028023, 0.002347312392897173, 0.0023306078606630276, 0.0022525104006722602, 0.0023630015422157055]}, 'num_round': 100}, 0.8709294146990334)\n"
     ]
    },
    {
     "name": "stderr",
     "output_type": "stream",
     "text": [
      "C:\\Users\\RG\\anaconda3\\lib\\site-packages\\lightgbm\\engine.py:527: UserWarning: Found `num_iterations` in params. Will use it instead of argument\n",
      "  _log_warning(\"Found `{}` in params. Will use it instead of argument\".format(alias))\n"
     ]
    },
    {
     "name": "stdout",
     "output_type": "stream",
     "text": [
      "{'num_leaves': 1000, 'objective': 'binary', 'max_depth': 500, 'verbosity': -1, 'learning_rate': 0.1, 'metric': 'auc', 'num_iterations': 600, 'max_bin': 600} 0.8707261952874319\n",
      "({'num_leaves': 1000, 'objective': 'binary', 'max_depth': 500, 'verbosity': -1, 'learning_rate': 0.1, 'metric': 'auc', 'num_iterations': 100, 'max_bin': 850, 'score': {'auc-mean': [0.8660862404379077, 0.868425230973832, 0.8694172813298581, 0.8698413668637534, 0.8701246901558471, 0.8703120862226174, 0.8704629269516962, 0.8705967738869116, 0.8706066498017817, 0.8707864356954416, 0.870803063684081, 0.8708824914097437, 0.8709294146990334], 'auc-stdv': [0.002659870170730273, 0.002518594313133417, 0.0022878264307808504, 0.0023317306461980896, 0.002385988870666469, 0.0024836278494966145, 0.0025736029075052215, 0.0025433133710582026, 0.0023246391625028023, 0.002347312392897173, 0.0023306078606630276, 0.0022525104006722602, 0.0023630015422157055]}, 'num_round': 100}, 0.8709294146990334)\n"
     ]
    },
    {
     "name": "stderr",
     "output_type": "stream",
     "text": [
      "C:\\Users\\RG\\anaconda3\\lib\\site-packages\\lightgbm\\engine.py:527: UserWarning: Found `num_iterations` in params. Will use it instead of argument\n",
      "  _log_warning(\"Found `{}` in params. Will use it instead of argument\".format(alias))\n"
     ]
    },
    {
     "name": "stdout",
     "output_type": "stream",
     "text": [
      "{'num_leaves': 1000, 'objective': 'binary', 'max_depth': 500, 'verbosity': -1, 'learning_rate': 0.1, 'metric': 'auc', 'num_iterations': 600, 'max_bin': 650} 0.8706845855969736\n",
      "({'num_leaves': 1000, 'objective': 'binary', 'max_depth': 500, 'verbosity': -1, 'learning_rate': 0.1, 'metric': 'auc', 'num_iterations': 100, 'max_bin': 850, 'score': {'auc-mean': [0.8660862404379077, 0.868425230973832, 0.8694172813298581, 0.8698413668637534, 0.8701246901558471, 0.8703120862226174, 0.8704629269516962, 0.8705967738869116, 0.8706066498017817, 0.8707864356954416, 0.870803063684081, 0.8708824914097437, 0.8709294146990334], 'auc-stdv': [0.002659870170730273, 0.002518594313133417, 0.0022878264307808504, 0.0023317306461980896, 0.002385988870666469, 0.0024836278494966145, 0.0025736029075052215, 0.0025433133710582026, 0.0023246391625028023, 0.002347312392897173, 0.0023306078606630276, 0.0022525104006722602, 0.0023630015422157055]}, 'num_round': 100}, 0.8709294146990334)\n"
     ]
    },
    {
     "name": "stderr",
     "output_type": "stream",
     "text": [
      "C:\\Users\\RG\\anaconda3\\lib\\site-packages\\lightgbm\\engine.py:527: UserWarning: Found `num_iterations` in params. Will use it instead of argument\n",
      "  _log_warning(\"Found `{}` in params. Will use it instead of argument\".format(alias))\n"
     ]
    },
    {
     "name": "stdout",
     "output_type": "stream",
     "text": [
      "{'num_leaves': 1000, 'objective': 'binary', 'max_depth': 500, 'verbosity': -1, 'learning_rate': 0.1, 'metric': 'auc', 'num_iterations': 600, 'max_bin': 700} 0.8708095037216133\n",
      "({'num_leaves': 1000, 'objective': 'binary', 'max_depth': 500, 'verbosity': -1, 'learning_rate': 0.1, 'metric': 'auc', 'num_iterations': 100, 'max_bin': 850, 'score': {'auc-mean': [0.8660862404379077, 0.868425230973832, 0.8694172813298581, 0.8698413668637534, 0.8701246901558471, 0.8703120862226174, 0.8704629269516962, 0.8705967738869116, 0.8706066498017817, 0.8707864356954416, 0.870803063684081, 0.8708824914097437, 0.8709294146990334], 'auc-stdv': [0.002659870170730273, 0.002518594313133417, 0.0022878264307808504, 0.0023317306461980896, 0.002385988870666469, 0.0024836278494966145, 0.0025736029075052215, 0.0025433133710582026, 0.0023246391625028023, 0.002347312392897173, 0.0023306078606630276, 0.0022525104006722602, 0.0023630015422157055]}, 'num_round': 100}, 0.8709294146990334)\n"
     ]
    },
    {
     "name": "stderr",
     "output_type": "stream",
     "text": [
      "C:\\Users\\RG\\anaconda3\\lib\\site-packages\\lightgbm\\engine.py:527: UserWarning: Found `num_iterations` in params. Will use it instead of argument\n",
      "  _log_warning(\"Found `{}` in params. Will use it instead of argument\".format(alias))\n"
     ]
    },
    {
     "name": "stdout",
     "output_type": "stream",
     "text": [
      "{'num_leaves': 1000, 'objective': 'binary', 'max_depth': 500, 'verbosity': -1, 'learning_rate': 0.1, 'metric': 'auc', 'num_iterations': 600, 'max_bin': 750} 0.8707600266162568\n",
      "({'num_leaves': 1000, 'objective': 'binary', 'max_depth': 500, 'verbosity': -1, 'learning_rate': 0.1, 'metric': 'auc', 'num_iterations': 100, 'max_bin': 850, 'score': {'auc-mean': [0.8660862404379077, 0.868425230973832, 0.8694172813298581, 0.8698413668637534, 0.8701246901558471, 0.8703120862226174, 0.8704629269516962, 0.8705967738869116, 0.8706066498017817, 0.8707864356954416, 0.870803063684081, 0.8708824914097437, 0.8709294146990334], 'auc-stdv': [0.002659870170730273, 0.002518594313133417, 0.0022878264307808504, 0.0023317306461980896, 0.002385988870666469, 0.0024836278494966145, 0.0025736029075052215, 0.0025433133710582026, 0.0023246391625028023, 0.002347312392897173, 0.0023306078606630276, 0.0022525104006722602, 0.0023630015422157055]}, 'num_round': 100}, 0.8709294146990334)\n"
     ]
    },
    {
     "name": "stderr",
     "output_type": "stream",
     "text": [
      "C:\\Users\\RG\\anaconda3\\lib\\site-packages\\lightgbm\\engine.py:527: UserWarning: Found `num_iterations` in params. Will use it instead of argument\n",
      "  _log_warning(\"Found `{}` in params. Will use it instead of argument\".format(alias))\n"
     ]
    },
    {
     "name": "stdout",
     "output_type": "stream",
     "text": [
      "{'num_leaves': 1000, 'objective': 'binary', 'max_depth': 500, 'verbosity': -1, 'learning_rate': 0.1, 'metric': 'auc', 'num_iterations': 600, 'max_bin': 800} 0.8709064200059989\n",
      "({'num_leaves': 1000, 'objective': 'binary', 'max_depth': 500, 'verbosity': -1, 'learning_rate': 0.1, 'metric': 'auc', 'num_iterations': 100, 'max_bin': 850, 'score': {'auc-mean': [0.8660862404379077, 0.868425230973832, 0.8694172813298581, 0.8698413668637534, 0.8701246901558471, 0.8703120862226174, 0.8704629269516962, 0.8705967738869116, 0.8706066498017817, 0.8707864356954416, 0.870803063684081, 0.8708824914097437, 0.8709294146990334], 'auc-stdv': [0.002659870170730273, 0.002518594313133417, 0.0022878264307808504, 0.0023317306461980896, 0.002385988870666469, 0.0024836278494966145, 0.0025736029075052215, 0.0025433133710582026, 0.0023246391625028023, 0.002347312392897173, 0.0023306078606630276, 0.0022525104006722602, 0.0023630015422157055]}, 'num_round': 100}, 0.8709294146990334)\n"
     ]
    },
    {
     "name": "stderr",
     "output_type": "stream",
     "text": [
      "C:\\Users\\RG\\anaconda3\\lib\\site-packages\\lightgbm\\engine.py:527: UserWarning: Found `num_iterations` in params. Will use it instead of argument\n",
      "  _log_warning(\"Found `{}` in params. Will use it instead of argument\".format(alias))\n"
     ]
    },
    {
     "name": "stdout",
     "output_type": "stream",
     "text": [
      "{'num_leaves': 1000, 'objective': 'binary', 'max_depth': 500, 'verbosity': -1, 'learning_rate': 0.1, 'metric': 'auc', 'num_iterations': 600, 'max_bin': 850} 0.8709294146990334\n",
      "({'num_leaves': 1000, 'objective': 'binary', 'max_depth': 500, 'verbosity': -1, 'learning_rate': 0.1, 'metric': 'auc', 'num_iterations': 100, 'max_bin': 850, 'score': {'auc-mean': [0.8660862404379077, 0.868425230973832, 0.8694172813298581, 0.8698413668637534, 0.8701246901558471, 0.8703120862226174, 0.8704629269516962, 0.8705967738869116, 0.8706066498017817, 0.8707864356954416, 0.870803063684081, 0.8708824914097437, 0.8709294146990334], 'auc-stdv': [0.002659870170730273, 0.002518594313133417, 0.0022878264307808504, 0.0023317306461980896, 0.002385988870666469, 0.0024836278494966145, 0.0025736029075052215, 0.0025433133710582026, 0.0023246391625028023, 0.002347312392897173, 0.0023306078606630276, 0.0022525104006722602, 0.0023630015422157055]}, 'num_round': 100}, 0.8709294146990334)\n"
     ]
    },
    {
     "name": "stderr",
     "output_type": "stream",
     "text": [
      "C:\\Users\\RG\\anaconda3\\lib\\site-packages\\lightgbm\\engine.py:527: UserWarning: Found `num_iterations` in params. Will use it instead of argument\n",
      "  _log_warning(\"Found `{}` in params. Will use it instead of argument\".format(alias))\n"
     ]
    },
    {
     "name": "stdout",
     "output_type": "stream",
     "text": [
      "{'num_leaves': 1000, 'objective': 'binary', 'max_depth': 500, 'verbosity': -1, 'learning_rate': 0.1, 'metric': 'auc', 'num_iterations': 600, 'max_bin': 900} 0.8707426786566941\n",
      "({'num_leaves': 1000, 'objective': 'binary', 'max_depth': 500, 'verbosity': -1, 'learning_rate': 0.1, 'metric': 'auc', 'num_iterations': 100, 'max_bin': 850, 'score': {'auc-mean': [0.8660862404379077, 0.868425230973832, 0.8694172813298581, 0.8698413668637534, 0.8701246901558471, 0.8703120862226174, 0.8704629269516962, 0.8705967738869116, 0.8706066498017817, 0.8707864356954416, 0.870803063684081, 0.8708824914097437, 0.8709294146990334], 'auc-stdv': [0.002659870170730273, 0.002518594313133417, 0.0022878264307808504, 0.0023317306461980896, 0.002385988870666469, 0.0024836278494966145, 0.0025736029075052215, 0.0025433133710582026, 0.0023246391625028023, 0.002347312392897173, 0.0023306078606630276, 0.0022525104006722602, 0.0023630015422157055]}, 'num_round': 100}, 0.8709294146990334)\n"
     ]
    },
    {
     "name": "stderr",
     "output_type": "stream",
     "text": [
      "C:\\Users\\RG\\anaconda3\\lib\\site-packages\\lightgbm\\engine.py:527: UserWarning: Found `num_iterations` in params. Will use it instead of argument\n",
      "  _log_warning(\"Found `{}` in params. Will use it instead of argument\".format(alias))\n"
     ]
    },
    {
     "name": "stdout",
     "output_type": "stream",
     "text": [
      "{'num_leaves': 1000, 'objective': 'binary', 'max_depth': 500, 'verbosity': -1, 'learning_rate': 0.1, 'metric': 'auc', 'num_iterations': 600, 'max_bin': 950} 0.870699704917129\n",
      "({'num_leaves': 1000, 'objective': 'binary', 'max_depth': 500, 'verbosity': -1, 'learning_rate': 0.1, 'metric': 'auc', 'num_iterations': 100, 'max_bin': 850, 'score': {'auc-mean': [0.8660862404379077, 0.868425230973832, 0.8694172813298581, 0.8698413668637534, 0.8701246901558471, 0.8703120862226174, 0.8704629269516962, 0.8705967738869116, 0.8706066498017817, 0.8707864356954416, 0.870803063684081, 0.8708824914097437, 0.8709294146990334], 'auc-stdv': [0.002659870170730273, 0.002518594313133417, 0.0022878264307808504, 0.0023317306461980896, 0.002385988870666469, 0.0024836278494966145, 0.0025736029075052215, 0.0025433133710582026, 0.0023246391625028023, 0.002347312392897173, 0.0023306078606630276, 0.0022525104006722602, 0.0023630015422157055]}, 'num_round': 100}, 0.8709294146990334)\n"
     ]
    },
    {
     "name": "stderr",
     "output_type": "stream",
     "text": [
      "C:\\Users\\RG\\anaconda3\\lib\\site-packages\\lightgbm\\engine.py:527: UserWarning: Found `num_iterations` in params. Will use it instead of argument\n",
      "  _log_warning(\"Found `{}` in params. Will use it instead of argument\".format(alias))\n"
     ]
    },
    {
     "name": "stdout",
     "output_type": "stream",
     "text": [
      "{'num_leaves': 1000, 'objective': 'binary', 'max_depth': 500, 'verbosity': -1, 'learning_rate': 0.1, 'metric': 'auc', 'num_iterations': 700, 'max_bin': 250} 0.8706864517441938\n",
      "({'num_leaves': 1000, 'objective': 'binary', 'max_depth': 500, 'verbosity': -1, 'learning_rate': 0.1, 'metric': 'auc', 'num_iterations': 100, 'max_bin': 850, 'score': {'auc-mean': [0.8660862404379077, 0.868425230973832, 0.8694172813298581, 0.8698413668637534, 0.8701246901558471, 0.8703120862226174, 0.8704629269516962, 0.8705967738869116, 0.8706066498017817, 0.8707864356954416, 0.870803063684081, 0.8708824914097437, 0.8709294146990334], 'auc-stdv': [0.002659870170730273, 0.002518594313133417, 0.0022878264307808504, 0.0023317306461980896, 0.002385988870666469, 0.0024836278494966145, 0.0025736029075052215, 0.0025433133710582026, 0.0023246391625028023, 0.002347312392897173, 0.0023306078606630276, 0.0022525104006722602, 0.0023630015422157055]}, 'num_round': 100}, 0.8709294146990334)\n"
     ]
    },
    {
     "name": "stderr",
     "output_type": "stream",
     "text": [
      "C:\\Users\\RG\\anaconda3\\lib\\site-packages\\lightgbm\\engine.py:527: UserWarning: Found `num_iterations` in params. Will use it instead of argument\n",
      "  _log_warning(\"Found `{}` in params. Will use it instead of argument\".format(alias))\n"
     ]
    },
    {
     "name": "stdout",
     "output_type": "stream",
     "text": [
      "{'num_leaves': 1000, 'objective': 'binary', 'max_depth': 500, 'verbosity': -1, 'learning_rate': 0.1, 'metric': 'auc', 'num_iterations': 700, 'max_bin': 300} 0.8708652040487077\n",
      "({'num_leaves': 1000, 'objective': 'binary', 'max_depth': 500, 'verbosity': -1, 'learning_rate': 0.1, 'metric': 'auc', 'num_iterations': 100, 'max_bin': 850, 'score': {'auc-mean': [0.8660862404379077, 0.868425230973832, 0.8694172813298581, 0.8698413668637534, 0.8701246901558471, 0.8703120862226174, 0.8704629269516962, 0.8705967738869116, 0.8706066498017817, 0.8707864356954416, 0.870803063684081, 0.8708824914097437, 0.8709294146990334], 'auc-stdv': [0.002659870170730273, 0.002518594313133417, 0.0022878264307808504, 0.0023317306461980896, 0.002385988870666469, 0.0024836278494966145, 0.0025736029075052215, 0.0025433133710582026, 0.0023246391625028023, 0.002347312392897173, 0.0023306078606630276, 0.0022525104006722602, 0.0023630015422157055]}, 'num_round': 100}, 0.8709294146990334)\n"
     ]
    },
    {
     "name": "stderr",
     "output_type": "stream",
     "text": [
      "C:\\Users\\RG\\anaconda3\\lib\\site-packages\\lightgbm\\engine.py:527: UserWarning: Found `num_iterations` in params. Will use it instead of argument\n",
      "  _log_warning(\"Found `{}` in params. Will use it instead of argument\".format(alias))\n"
     ]
    },
    {
     "name": "stdout",
     "output_type": "stream",
     "text": [
      "{'num_leaves': 1000, 'objective': 'binary', 'max_depth': 500, 'verbosity': -1, 'learning_rate': 0.1, 'metric': 'auc', 'num_iterations': 700, 'max_bin': 350} 0.8707340259623517\n",
      "({'num_leaves': 1000, 'objective': 'binary', 'max_depth': 500, 'verbosity': -1, 'learning_rate': 0.1, 'metric': 'auc', 'num_iterations': 100, 'max_bin': 850, 'score': {'auc-mean': [0.8660862404379077, 0.868425230973832, 0.8694172813298581, 0.8698413668637534, 0.8701246901558471, 0.8703120862226174, 0.8704629269516962, 0.8705967738869116, 0.8706066498017817, 0.8707864356954416, 0.870803063684081, 0.8708824914097437, 0.8709294146990334], 'auc-stdv': [0.002659870170730273, 0.002518594313133417, 0.0022878264307808504, 0.0023317306461980896, 0.002385988870666469, 0.0024836278494966145, 0.0025736029075052215, 0.0025433133710582026, 0.0023246391625028023, 0.002347312392897173, 0.0023306078606630276, 0.0022525104006722602, 0.0023630015422157055]}, 'num_round': 100}, 0.8709294146990334)\n"
     ]
    },
    {
     "name": "stderr",
     "output_type": "stream",
     "text": [
      "C:\\Users\\RG\\anaconda3\\lib\\site-packages\\lightgbm\\engine.py:527: UserWarning: Found `num_iterations` in params. Will use it instead of argument\n",
      "  _log_warning(\"Found `{}` in params. Will use it instead of argument\".format(alias))\n"
     ]
    },
    {
     "name": "stdout",
     "output_type": "stream",
     "text": [
      "{'num_leaves': 1000, 'objective': 'binary', 'max_depth': 500, 'verbosity': -1, 'learning_rate': 0.1, 'metric': 'auc', 'num_iterations': 700, 'max_bin': 400} 0.8708993620511386\n",
      "({'num_leaves': 1000, 'objective': 'binary', 'max_depth': 500, 'verbosity': -1, 'learning_rate': 0.1, 'metric': 'auc', 'num_iterations': 100, 'max_bin': 850, 'score': {'auc-mean': [0.8660862404379077, 0.868425230973832, 0.8694172813298581, 0.8698413668637534, 0.8701246901558471, 0.8703120862226174, 0.8704629269516962, 0.8705967738869116, 0.8706066498017817, 0.8707864356954416, 0.870803063684081, 0.8708824914097437, 0.8709294146990334], 'auc-stdv': [0.002659870170730273, 0.002518594313133417, 0.0022878264307808504, 0.0023317306461980896, 0.002385988870666469, 0.0024836278494966145, 0.0025736029075052215, 0.0025433133710582026, 0.0023246391625028023, 0.002347312392897173, 0.0023306078606630276, 0.0022525104006722602, 0.0023630015422157055]}, 'num_round': 100}, 0.8709294146990334)\n"
     ]
    },
    {
     "name": "stderr",
     "output_type": "stream",
     "text": [
      "C:\\Users\\RG\\anaconda3\\lib\\site-packages\\lightgbm\\engine.py:527: UserWarning: Found `num_iterations` in params. Will use it instead of argument\n",
      "  _log_warning(\"Found `{}` in params. Will use it instead of argument\".format(alias))\n"
     ]
    },
    {
     "name": "stdout",
     "output_type": "stream",
     "text": [
      "{'num_leaves': 1000, 'objective': 'binary', 'max_depth': 500, 'verbosity': -1, 'learning_rate': 0.1, 'metric': 'auc', 'num_iterations': 700, 'max_bin': 450} 0.8707665509455295\n",
      "({'num_leaves': 1000, 'objective': 'binary', 'max_depth': 500, 'verbosity': -1, 'learning_rate': 0.1, 'metric': 'auc', 'num_iterations': 100, 'max_bin': 850, 'score': {'auc-mean': [0.8660862404379077, 0.868425230973832, 0.8694172813298581, 0.8698413668637534, 0.8701246901558471, 0.8703120862226174, 0.8704629269516962, 0.8705967738869116, 0.8706066498017817, 0.8707864356954416, 0.870803063684081, 0.8708824914097437, 0.8709294146990334], 'auc-stdv': [0.002659870170730273, 0.002518594313133417, 0.0022878264307808504, 0.0023317306461980896, 0.002385988870666469, 0.0024836278494966145, 0.0025736029075052215, 0.0025433133710582026, 0.0023246391625028023, 0.002347312392897173, 0.0023306078606630276, 0.0022525104006722602, 0.0023630015422157055]}, 'num_round': 100}, 0.8709294146990334)\n"
     ]
    },
    {
     "name": "stderr",
     "output_type": "stream",
     "text": [
      "C:\\Users\\RG\\anaconda3\\lib\\site-packages\\lightgbm\\engine.py:527: UserWarning: Found `num_iterations` in params. Will use it instead of argument\n",
      "  _log_warning(\"Found `{}` in params. Will use it instead of argument\".format(alias))\n"
     ]
    },
    {
     "name": "stdout",
     "output_type": "stream",
     "text": [
      "{'num_leaves': 1000, 'objective': 'binary', 'max_depth': 500, 'verbosity': -1, 'learning_rate': 0.1, 'metric': 'auc', 'num_iterations': 700, 'max_bin': 500} 0.8707588382831766\n",
      "({'num_leaves': 1000, 'objective': 'binary', 'max_depth': 500, 'verbosity': -1, 'learning_rate': 0.1, 'metric': 'auc', 'num_iterations': 100, 'max_bin': 850, 'score': {'auc-mean': [0.8660862404379077, 0.868425230973832, 0.8694172813298581, 0.8698413668637534, 0.8701246901558471, 0.8703120862226174, 0.8704629269516962, 0.8705967738869116, 0.8706066498017817, 0.8707864356954416, 0.870803063684081, 0.8708824914097437, 0.8709294146990334], 'auc-stdv': [0.002659870170730273, 0.002518594313133417, 0.0022878264307808504, 0.0023317306461980896, 0.002385988870666469, 0.0024836278494966145, 0.0025736029075052215, 0.0025433133710582026, 0.0023246391625028023, 0.002347312392897173, 0.0023306078606630276, 0.0022525104006722602, 0.0023630015422157055]}, 'num_round': 100}, 0.8709294146990334)\n"
     ]
    },
    {
     "name": "stderr",
     "output_type": "stream",
     "text": [
      "C:\\Users\\RG\\anaconda3\\lib\\site-packages\\lightgbm\\engine.py:527: UserWarning: Found `num_iterations` in params. Will use it instead of argument\n",
      "  _log_warning(\"Found `{}` in params. Will use it instead of argument\".format(alias))\n"
     ]
    },
    {
     "name": "stdout",
     "output_type": "stream",
     "text": [
      "{'num_leaves': 1000, 'objective': 'binary', 'max_depth': 500, 'verbosity': -1, 'learning_rate': 0.1, 'metric': 'auc', 'num_iterations': 700, 'max_bin': 550} 0.8705666498652829\n",
      "({'num_leaves': 1000, 'objective': 'binary', 'max_depth': 500, 'verbosity': -1, 'learning_rate': 0.1, 'metric': 'auc', 'num_iterations': 100, 'max_bin': 850, 'score': {'auc-mean': [0.8660862404379077, 0.868425230973832, 0.8694172813298581, 0.8698413668637534, 0.8701246901558471, 0.8703120862226174, 0.8704629269516962, 0.8705967738869116, 0.8706066498017817, 0.8707864356954416, 0.870803063684081, 0.8708824914097437, 0.8709294146990334], 'auc-stdv': [0.002659870170730273, 0.002518594313133417, 0.0022878264307808504, 0.0023317306461980896, 0.002385988870666469, 0.0024836278494966145, 0.0025736029075052215, 0.0025433133710582026, 0.0023246391625028023, 0.002347312392897173, 0.0023306078606630276, 0.0022525104006722602, 0.0023630015422157055]}, 'num_round': 100}, 0.8709294146990334)\n"
     ]
    },
    {
     "name": "stderr",
     "output_type": "stream",
     "text": [
      "C:\\Users\\RG\\anaconda3\\lib\\site-packages\\lightgbm\\engine.py:527: UserWarning: Found `num_iterations` in params. Will use it instead of argument\n",
      "  _log_warning(\"Found `{}` in params. Will use it instead of argument\".format(alias))\n"
     ]
    },
    {
     "name": "stdout",
     "output_type": "stream",
     "text": [
      "{'num_leaves': 1000, 'objective': 'binary', 'max_depth': 500, 'verbosity': -1, 'learning_rate': 0.1, 'metric': 'auc', 'num_iterations': 700, 'max_bin': 600} 0.8707261952874319\n",
      "({'num_leaves': 1000, 'objective': 'binary', 'max_depth': 500, 'verbosity': -1, 'learning_rate': 0.1, 'metric': 'auc', 'num_iterations': 100, 'max_bin': 850, 'score': {'auc-mean': [0.8660862404379077, 0.868425230973832, 0.8694172813298581, 0.8698413668637534, 0.8701246901558471, 0.8703120862226174, 0.8704629269516962, 0.8705967738869116, 0.8706066498017817, 0.8707864356954416, 0.870803063684081, 0.8708824914097437, 0.8709294146990334], 'auc-stdv': [0.002659870170730273, 0.002518594313133417, 0.0022878264307808504, 0.0023317306461980896, 0.002385988870666469, 0.0024836278494966145, 0.0025736029075052215, 0.0025433133710582026, 0.0023246391625028023, 0.002347312392897173, 0.0023306078606630276, 0.0022525104006722602, 0.0023630015422157055]}, 'num_round': 100}, 0.8709294146990334)\n"
     ]
    },
    {
     "name": "stderr",
     "output_type": "stream",
     "text": [
      "C:\\Users\\RG\\anaconda3\\lib\\site-packages\\lightgbm\\engine.py:527: UserWarning: Found `num_iterations` in params. Will use it instead of argument\n",
      "  _log_warning(\"Found `{}` in params. Will use it instead of argument\".format(alias))\n"
     ]
    },
    {
     "name": "stdout",
     "output_type": "stream",
     "text": [
      "{'num_leaves': 1000, 'objective': 'binary', 'max_depth': 500, 'verbosity': -1, 'learning_rate': 0.1, 'metric': 'auc', 'num_iterations': 700, 'max_bin': 650} 0.8706845855969736\n",
      "({'num_leaves': 1000, 'objective': 'binary', 'max_depth': 500, 'verbosity': -1, 'learning_rate': 0.1, 'metric': 'auc', 'num_iterations': 100, 'max_bin': 850, 'score': {'auc-mean': [0.8660862404379077, 0.868425230973832, 0.8694172813298581, 0.8698413668637534, 0.8701246901558471, 0.8703120862226174, 0.8704629269516962, 0.8705967738869116, 0.8706066498017817, 0.8707864356954416, 0.870803063684081, 0.8708824914097437, 0.8709294146990334], 'auc-stdv': [0.002659870170730273, 0.002518594313133417, 0.0022878264307808504, 0.0023317306461980896, 0.002385988870666469, 0.0024836278494966145, 0.0025736029075052215, 0.0025433133710582026, 0.0023246391625028023, 0.002347312392897173, 0.0023306078606630276, 0.0022525104006722602, 0.0023630015422157055]}, 'num_round': 100}, 0.8709294146990334)\n"
     ]
    },
    {
     "name": "stderr",
     "output_type": "stream",
     "text": [
      "C:\\Users\\RG\\anaconda3\\lib\\site-packages\\lightgbm\\engine.py:527: UserWarning: Found `num_iterations` in params. Will use it instead of argument\n",
      "  _log_warning(\"Found `{}` in params. Will use it instead of argument\".format(alias))\n"
     ]
    },
    {
     "name": "stdout",
     "output_type": "stream",
     "text": [
      "{'num_leaves': 1000, 'objective': 'binary', 'max_depth': 500, 'verbosity': -1, 'learning_rate': 0.1, 'metric': 'auc', 'num_iterations': 700, 'max_bin': 700} 0.8708095037216133\n",
      "({'num_leaves': 1000, 'objective': 'binary', 'max_depth': 500, 'verbosity': -1, 'learning_rate': 0.1, 'metric': 'auc', 'num_iterations': 100, 'max_bin': 850, 'score': {'auc-mean': [0.8660862404379077, 0.868425230973832, 0.8694172813298581, 0.8698413668637534, 0.8701246901558471, 0.8703120862226174, 0.8704629269516962, 0.8705967738869116, 0.8706066498017817, 0.8707864356954416, 0.870803063684081, 0.8708824914097437, 0.8709294146990334], 'auc-stdv': [0.002659870170730273, 0.002518594313133417, 0.0022878264307808504, 0.0023317306461980896, 0.002385988870666469, 0.0024836278494966145, 0.0025736029075052215, 0.0025433133710582026, 0.0023246391625028023, 0.002347312392897173, 0.0023306078606630276, 0.0022525104006722602, 0.0023630015422157055]}, 'num_round': 100}, 0.8709294146990334)\n"
     ]
    },
    {
     "name": "stderr",
     "output_type": "stream",
     "text": [
      "C:\\Users\\RG\\anaconda3\\lib\\site-packages\\lightgbm\\engine.py:527: UserWarning: Found `num_iterations` in params. Will use it instead of argument\n",
      "  _log_warning(\"Found `{}` in params. Will use it instead of argument\".format(alias))\n"
     ]
    },
    {
     "name": "stdout",
     "output_type": "stream",
     "text": [
      "{'num_leaves': 1000, 'objective': 'binary', 'max_depth': 500, 'verbosity': -1, 'learning_rate': 0.1, 'metric': 'auc', 'num_iterations': 700, 'max_bin': 750} 0.8707600266162568\n",
      "({'num_leaves': 1000, 'objective': 'binary', 'max_depth': 500, 'verbosity': -1, 'learning_rate': 0.1, 'metric': 'auc', 'num_iterations': 100, 'max_bin': 850, 'score': {'auc-mean': [0.8660862404379077, 0.868425230973832, 0.8694172813298581, 0.8698413668637534, 0.8701246901558471, 0.8703120862226174, 0.8704629269516962, 0.8705967738869116, 0.8706066498017817, 0.8707864356954416, 0.870803063684081, 0.8708824914097437, 0.8709294146990334], 'auc-stdv': [0.002659870170730273, 0.002518594313133417, 0.0022878264307808504, 0.0023317306461980896, 0.002385988870666469, 0.0024836278494966145, 0.0025736029075052215, 0.0025433133710582026, 0.0023246391625028023, 0.002347312392897173, 0.0023306078606630276, 0.0022525104006722602, 0.0023630015422157055]}, 'num_round': 100}, 0.8709294146990334)\n"
     ]
    },
    {
     "name": "stderr",
     "output_type": "stream",
     "text": [
      "C:\\Users\\RG\\anaconda3\\lib\\site-packages\\lightgbm\\engine.py:527: UserWarning: Found `num_iterations` in params. Will use it instead of argument\n",
      "  _log_warning(\"Found `{}` in params. Will use it instead of argument\".format(alias))\n"
     ]
    },
    {
     "ename": "KeyboardInterrupt",
     "evalue": "",
     "output_type": "error",
     "traceback": [
      "\u001b[1;31m---------------------------------------------------------------------------\u001b[0m",
      "\u001b[1;31mKeyboardInterrupt\u001b[0m                         Traceback (most recent call last)",
      "\u001b[1;32m<ipython-input-115-f2946bf3be8c>\u001b[0m in \u001b[0;36m<module>\u001b[1;34m\u001b[0m\n\u001b[0;32m     14\u001b[0m                     \u001b[0mtrain_data\u001b[0m \u001b[1;33m=\u001b[0m \u001b[0mlgb\u001b[0m\u001b[1;33m.\u001b[0m\u001b[0mDataset\u001b[0m\u001b[1;33m(\u001b[0m\u001b[0mx\u001b[0m\u001b[1;33m,\u001b[0m \u001b[0mlabel\u001b[0m\u001b[1;33m=\u001b[0m\u001b[0my\u001b[0m\u001b[1;33m)\u001b[0m\u001b[1;33m\u001b[0m\u001b[1;33m\u001b[0m\u001b[0m\n\u001b[0;32m     15\u001b[0m \u001b[1;33m\u001b[0m\u001b[0m\n\u001b[1;32m---> 16\u001b[1;33m                     \u001b[0mcv_bst\u001b[0m\u001b[1;33m=\u001b[0m\u001b[0mlgb\u001b[0m\u001b[1;33m.\u001b[0m\u001b[0mcv\u001b[0m\u001b[1;33m(\u001b[0m\u001b[0mparam\u001b[0m\u001b[1;33m,\u001b[0m \u001b[0mtrain_data\u001b[0m\u001b[1;33m,\u001b[0m  \u001b[0mnum_boost_round\u001b[0m\u001b[1;33m=\u001b[0m\u001b[0mnum_round\u001b[0m\u001b[1;33m,\u001b[0m \u001b[0mnfold\u001b[0m\u001b[1;33m=\u001b[0m\u001b[1;36m10\u001b[0m\u001b[1;33m,\u001b[0m \u001b[0mearly_stopping_rounds\u001b[0m\u001b[1;33m=\u001b[0m\u001b[1;36m5\u001b[0m\u001b[1;33m)\u001b[0m\u001b[1;33m\u001b[0m\u001b[1;33m\u001b[0m\u001b[0m\n\u001b[0m\u001b[0;32m     17\u001b[0m \u001b[1;33m\u001b[0m\u001b[0m\n\u001b[0;32m     18\u001b[0m \u001b[1;33m\u001b[0m\u001b[0m\n",
      "\u001b[1;32m~\\anaconda3\\lib\\site-packages\\lightgbm\\engine.py\u001b[0m in \u001b[0;36mcv\u001b[1;34m(params, train_set, num_boost_round, folds, nfold, stratified, shuffle, metrics, fobj, feval, init_model, feature_name, categorical_feature, early_stopping_rounds, fpreproc, verbose_eval, show_stdv, seed, callbacks, eval_train_metric, return_cvbooster)\u001b[0m\n\u001b[0;32m    587\u001b[0m                                     \u001b[0mend_iteration\u001b[0m\u001b[1;33m=\u001b[0m\u001b[0mnum_boost_round\u001b[0m\u001b[1;33m,\u001b[0m\u001b[1;33m\u001b[0m\u001b[1;33m\u001b[0m\u001b[0m\n\u001b[0;32m    588\u001b[0m                                     evaluation_result_list=None))\n\u001b[1;32m--> 589\u001b[1;33m         \u001b[0mcvfolds\u001b[0m\u001b[1;33m.\u001b[0m\u001b[0mupdate\u001b[0m\u001b[1;33m(\u001b[0m\u001b[0mfobj\u001b[0m\u001b[1;33m=\u001b[0m\u001b[0mfobj\u001b[0m\u001b[1;33m)\u001b[0m\u001b[1;33m\u001b[0m\u001b[1;33m\u001b[0m\u001b[0m\n\u001b[0m\u001b[0;32m    590\u001b[0m         \u001b[0mres\u001b[0m \u001b[1;33m=\u001b[0m \u001b[0m_agg_cv_result\u001b[0m\u001b[1;33m(\u001b[0m\u001b[0mcvfolds\u001b[0m\u001b[1;33m.\u001b[0m\u001b[0meval_valid\u001b[0m\u001b[1;33m(\u001b[0m\u001b[0mfeval\u001b[0m\u001b[1;33m)\u001b[0m\u001b[1;33m,\u001b[0m \u001b[0meval_train_metric\u001b[0m\u001b[1;33m)\u001b[0m\u001b[1;33m\u001b[0m\u001b[1;33m\u001b[0m\u001b[0m\n\u001b[0;32m    591\u001b[0m         \u001b[1;32mfor\u001b[0m \u001b[0m_\u001b[0m\u001b[1;33m,\u001b[0m \u001b[0mkey\u001b[0m\u001b[1;33m,\u001b[0m \u001b[0mmean\u001b[0m\u001b[1;33m,\u001b[0m \u001b[0m_\u001b[0m\u001b[1;33m,\u001b[0m \u001b[0mstd\u001b[0m \u001b[1;32min\u001b[0m \u001b[0mres\u001b[0m\u001b[1;33m:\u001b[0m\u001b[1;33m\u001b[0m\u001b[1;33m\u001b[0m\u001b[0m\n",
      "\u001b[1;32m~\\anaconda3\\lib\\site-packages\\lightgbm\\engine.py\u001b[0m in \u001b[0;36mhandler_function\u001b[1;34m(*args, **kwargs)\u001b[0m\n\u001b[0;32m    308\u001b[0m             \u001b[0mret\u001b[0m \u001b[1;33m=\u001b[0m \u001b[1;33m[\u001b[0m\u001b[1;33m]\u001b[0m\u001b[1;33m\u001b[0m\u001b[1;33m\u001b[0m\u001b[0m\n\u001b[0;32m    309\u001b[0m             \u001b[1;32mfor\u001b[0m \u001b[0mbooster\u001b[0m \u001b[1;32min\u001b[0m \u001b[0mself\u001b[0m\u001b[1;33m.\u001b[0m\u001b[0mboosters\u001b[0m\u001b[1;33m:\u001b[0m\u001b[1;33m\u001b[0m\u001b[1;33m\u001b[0m\u001b[0m\n\u001b[1;32m--> 310\u001b[1;33m                 \u001b[0mret\u001b[0m\u001b[1;33m.\u001b[0m\u001b[0mappend\u001b[0m\u001b[1;33m(\u001b[0m\u001b[0mgetattr\u001b[0m\u001b[1;33m(\u001b[0m\u001b[0mbooster\u001b[0m\u001b[1;33m,\u001b[0m \u001b[0mname\u001b[0m\u001b[1;33m)\u001b[0m\u001b[1;33m(\u001b[0m\u001b[1;33m*\u001b[0m\u001b[0margs\u001b[0m\u001b[1;33m,\u001b[0m \u001b[1;33m**\u001b[0m\u001b[0mkwargs\u001b[0m\u001b[1;33m)\u001b[0m\u001b[1;33m)\u001b[0m\u001b[1;33m\u001b[0m\u001b[1;33m\u001b[0m\u001b[0m\n\u001b[0m\u001b[0;32m    311\u001b[0m             \u001b[1;32mreturn\u001b[0m \u001b[0mret\u001b[0m\u001b[1;33m\u001b[0m\u001b[1;33m\u001b[0m\u001b[0m\n\u001b[0;32m    312\u001b[0m         \u001b[1;32mreturn\u001b[0m \u001b[0mhandler_function\u001b[0m\u001b[1;33m\u001b[0m\u001b[1;33m\u001b[0m\u001b[0m\n",
      "\u001b[1;32m~\\anaconda3\\lib\\site-packages\\lightgbm\\basic.py\u001b[0m in \u001b[0;36mupdate\u001b[1;34m(self, train_set, fobj)\u001b[0m\n\u001b[0;32m   2641\u001b[0m             \u001b[1;32mif\u001b[0m \u001b[0mself\u001b[0m\u001b[1;33m.\u001b[0m\u001b[0m__set_objective_to_none\u001b[0m\u001b[1;33m:\u001b[0m\u001b[1;33m\u001b[0m\u001b[1;33m\u001b[0m\u001b[0m\n\u001b[0;32m   2642\u001b[0m                 \u001b[1;32mraise\u001b[0m \u001b[0mLightGBMError\u001b[0m\u001b[1;33m(\u001b[0m\u001b[1;34m'Cannot update due to null objective function.'\u001b[0m\u001b[1;33m)\u001b[0m\u001b[1;33m\u001b[0m\u001b[1;33m\u001b[0m\u001b[0m\n\u001b[1;32m-> 2643\u001b[1;33m             _safe_call(_LIB.LGBM_BoosterUpdateOneIter(\n\u001b[0m\u001b[0;32m   2644\u001b[0m                 \u001b[0mself\u001b[0m\u001b[1;33m.\u001b[0m\u001b[0mhandle\u001b[0m\u001b[1;33m,\u001b[0m\u001b[1;33m\u001b[0m\u001b[1;33m\u001b[0m\u001b[0m\n\u001b[0;32m   2645\u001b[0m                 ctypes.byref(is_finished)))\n",
      "\u001b[1;31mKeyboardInterrupt\u001b[0m: "
     ]
    }
   ],
   "source": [
    "\n",
    "for num_leaves in range(1000,5000,500):\n",
    "    for max_dept in range(500,2000,200):\n",
    "        for learning_rate in range(1,10):\n",
    "            for num_round in range(100,2000,100):\n",
    "                for max_bin in range(250,1000,50):\n",
    "                    lr=learning_rate/10\n",
    "                    param={'num_leaves': num_leaves,\n",
    "                             'objective': 'binary',\n",
    "                             'max_depth': max_dept,\n",
    "                             'verbosity': -1,\n",
    "                             'learning_rate': lr,\n",
    "                             'metric': 'auc',\n",
    "                          'num_iterations':num_round,'max_bin':max_bin }\n",
    "                    train_data = lgb.Dataset(x, label=y)\n",
    "\n",
    "                    cv_bst=lgb.cv(param, train_data,  num_boost_round=num_round, nfold=10, early_stopping_rounds=5)\n",
    "\n",
    "\n",
    "                    print(param,cv_bst['auc-mean'][-1])\n",
    "                    print(bst_com)\n",
    "                    param['score']=cv_bst\n",
    "                    param['num_round']=num_round\n",
    "                    if cv_bst['auc-mean'][-1]>maxx:\n",
    "                        maxx=cv_bst['auc-mean'][-1]\n",
    "                        max_param=param\n",
    "                        bst_com=param,cv_bst['auc-mean'][-1]\n",
    "                    scores.append(param)\n"
   ]
  },
  {
   "cell_type": "code",
   "execution_count": 118,
   "metadata": {},
   "outputs": [
    {
     "ename": "KeyError",
     "evalue": "'score'",
     "output_type": "error",
     "traceback": [
      "\u001b[1;31m---------------------------------------------------------------------------\u001b[0m",
      "\u001b[1;31mKeyError\u001b[0m                                  Traceback (most recent call last)",
      "\u001b[1;32m<ipython-input-118-689c0f9f6136>\u001b[0m in \u001b[0;36m<module>\u001b[1;34m\u001b[0m\n\u001b[0;32m      1\u001b[0m \u001b[0mparam\u001b[0m\u001b[1;33m=\u001b[0m\u001b[0mmax_param\u001b[0m\u001b[1;33m\u001b[0m\u001b[1;33m\u001b[0m\u001b[0m\n\u001b[0;32m      2\u001b[0m \u001b[1;32mdel\u001b[0m \u001b[0mparam\u001b[0m\u001b[1;33m[\u001b[0m\u001b[1;34m'score'\u001b[0m\u001b[1;33m]\u001b[0m\u001b[1;33m\u001b[0m\u001b[1;33m\u001b[0m\u001b[0m\n\u001b[1;32m----> 3\u001b[1;33m \u001b[1;32mdel\u001b[0m \u001b[0mparam\u001b[0m\u001b[1;33m[\u001b[0m\u001b[1;34m'score'\u001b[0m\u001b[1;33m]\u001b[0m\u001b[1;33m\u001b[0m\u001b[1;33m\u001b[0m\u001b[0m\n\u001b[0m",
      "\u001b[1;31mKeyError\u001b[0m: 'score'"
     ]
    }
   ],
   "source": [
    "param=max_param\n",
    "del param['score']"
   ]
  },
  {
   "cell_type": "code",
   "execution_count": 130,
   "metadata": {
    "scrolled": true
   },
   "outputs": [
    {
     "name": "stderr",
     "output_type": "stream",
     "text": [
      "C:\\Users\\RG\\anaconda3\\lib\\site-packages\\lightgbm\\engine.py:148: UserWarning: Found `num_round` in params. Will use it instead of argument\n",
      "  _log_warning(\"Found `{}` in params. Will use it instead of argument\".format(alias))\n",
      "C:\\Users\\RG\\anaconda3\\lib\\site-packages\\lightgbm\\engine.py:148: UserWarning: Found `num_iterations` in params. Will use it instead of argument\n",
      "  _log_warning(\"Found `{}` in params. Will use it instead of argument\".format(alias))\n"
     ]
    }
   ],
   "source": [
    "train_data = lgb.Dataset(x, label=y)\n",
    "bst = lgb.train(param, train_data, num_round)\n",
    "def my_predict(X):\n",
    "    one_dim_preds=bst.predict(X)\n",
    "    two_dim_preds=np.zeros(shape=(len(one_dim_preds),2))\n",
    "    two_dim_preds[:,1]=one_dim_preds\n",
    "    return two_dim_preds\n",
    "\n",
    "bst.predict_proba=my_predict\n",
    "bst.classes_=[0,1]\n",
    "clf = CalibratedClassifierCV(bst,cv='prefit')\n",
    "clf.fit(x,y)\n",
    "test_df['Is_Lead']=clf.predict_proba(test_df_processed[train_idv_cols])[:, 1]"
   ]
  },
  {
   "cell_type": "code",
   "execution_count": 131,
   "metadata": {},
   "outputs": [
    {
     "data": {
      "text/plain": [
       "0.9640344774382027"
      ]
     },
     "execution_count": 131,
     "metadata": {},
     "output_type": "execute_result"
    }
   ],
   "source": [
    "roc_auc_score(y, bst.predict(train_df_processed[train_idv_cols]))"
   ]
  },
  {
   "cell_type": "code",
   "execution_count": 132,
   "metadata": {},
   "outputs": [],
   "source": [
    "test_data = lgb.Dataset(test_df_processed[train_idv_cols])"
   ]
  },
  {
   "cell_type": "code",
   "execution_count": 133,
   "metadata": {},
   "outputs": [],
   "source": [
    "test_df['Is_Lead']=bst.predict(test_df_processed[train_idv_cols])"
   ]
  },
  {
   "cell_type": "code",
   "execution_count": 134,
   "metadata": {},
   "outputs": [],
   "source": [
    "test_df[['ID','Is_Lead']].to_csv(\"submission_final.csv\")"
   ]
  },
  {
   "cell_type": "markdown",
   "metadata": {},
   "source": [
    "APPENDIX: UNIVARIATE ANALYSIS"
   ]
  },
  {
   "cell_type": "code",
   "execution_count": 85,
   "metadata": {},
   "outputs": [],
   "source": [
    "%matplotlib inline"
   ]
  },
  {
   "cell_type": "code",
   "execution_count": 89,
   "metadata": {},
   "outputs": [
    {
     "name": "stderr",
     "output_type": "stream",
     "text": [
      "C:\\Users\\RG\\anaconda3\\lib\\site-packages\\seaborn\\distributions.py:2551: FutureWarning: `distplot` is a deprecated function and will be removed in a future version. Please adapt your code to use either `displot` (a figure-level function with similar flexibility) or `histplot` (an axes-level function for histograms).\n",
      "  warnings.warn(msg, FutureWarning)\n",
      "C:\\Users\\RG\\anaconda3\\lib\\site-packages\\seaborn\\distributions.py:2551: FutureWarning: `distplot` is a deprecated function and will be removed in a future version. Please adapt your code to use either `displot` (a figure-level function with similar flexibility) or `histplot` (an axes-level function for histograms).\n",
      "  warnings.warn(msg, FutureWarning)\n"
     ]
    },
    {
     "data": {
      "image/png": "[encoded data removed]",
      "text/plain": [
       "<Figure size 432x288 with 2 Axes>"
      ]
     },
     "metadata": {
      "needs_background": "light"
     },
     "output_type": "display_data"
    }
   ],
   "source": [
    "\n",
    "fig, ax = plt.subplots(1, 2)\n",
    "sns.distplot(train_df.Age,ax=ax[0])\n",
    "sns.distplot(np.log(train_df.Age),ax=ax[1])\n",
    "plt.show()"
   ]
  },
  {
   "cell_type": "code",
   "execution_count": 90,
   "metadata": {},
   "outputs": [
    {
     "name": "stderr",
     "output_type": "stream",
     "text": [
      "C:\\Users\\RG\\anaconda3\\lib\\site-packages\\seaborn\\distributions.py:2551: FutureWarning: `distplot` is a deprecated function and will be removed in a future version. Please adapt your code to use either `displot` (a figure-level function with similar flexibility) or `histplot` (an axes-level function for histograms).\n",
      "  warnings.warn(msg, FutureWarning)\n",
      "C:\\Users\\RG\\anaconda3\\lib\\site-packages\\seaborn\\distributions.py:2551: FutureWarning: `distplot` is a deprecated function and will be removed in a future version. Please adapt your code to use either `displot` (a figure-level function with similar flexibility) or `histplot` (an axes-level function for histograms).\n",
      "  warnings.warn(msg, FutureWarning)\n"
     ]
    },
    {
     "data": {
      "image/png": "[encoded data removed]",
      "text/plain": [
       "<Figure size 432x288 with 2 Axes>"
      ]
     },
     "metadata": {
      "needs_background": "light"
     },
     "output_type": "display_data"
    }
   ],
   "source": [
    "\n",
    "fig, ax = plt.subplots(1, 2)\n",
    "sns.distplot(train_df.Vintage,ax=ax[0])\n",
    "sns.distplot(np.log(train_df.Vintage),ax=ax[1])\n",
    "plt.show()"
   ]
  },
  {
   "cell_type": "code",
   "execution_count": 161,
   "metadata": {},
   "outputs": [
    {
     "name": "stderr",
     "output_type": "stream",
     "text": [
      "C:\\Users\\RG\\anaconda3\\lib\\site-packages\\seaborn\\distributions.py:2551: FutureWarning: `distplot` is a deprecated function and will be removed in a future version. Please adapt your code to use either `displot` (a figure-level function with similar flexibility) or `histplot` (an axes-level function for histograms).\n",
      "  warnings.warn(msg, FutureWarning)\n"
     ]
    },
    {
     "data": {
      "image/png": "[encoded data removed]",
      "text/plain": [
       "<Figure size 432x288 with 1 Axes>"
      ]
     },
     "metadata": {
      "needs_background": "light"
     },
     "output_type": "display_data"
    }
   ],
   "source": [
    "sns.distplot(final_train_df.Vintage_normalized)\n",
    "plt.show()"
   ]
  },
  {
   "cell_type": "code",
   "execution_count": 164,
   "metadata": {},
   "outputs": [
    {
     "name": "stderr",
     "output_type": "stream",
     "text": [
      "C:\\Users\\RG\\anaconda3\\lib\\site-packages\\seaborn\\distributions.py:2551: FutureWarning: `distplot` is a deprecated function and will be removed in a future version. Please adapt your code to use either `displot` (a figure-level function with similar flexibility) or `histplot` (an axes-level function for histograms).\n",
      "  warnings.warn(msg, FutureWarning)\n"
     ]
    },
    {
     "data": {
      "image/png": "[encoded data removed]",
      "text/plain": [
       "<Figure size 432x288 with 1 Axes>"
      ]
     },
     "metadata": {
      "needs_background": "light"
     },
     "output_type": "display_data"
    }
   ],
   "source": [
    "sns.distplot(final_train_df.Avg_Account_Balance_normalized)\n",
    "plt.show()"
   ]
  },
  {
   "cell_type": "code",
   "execution_count": 93,
   "metadata": {},
   "outputs": [
    {
     "name": "stderr",
     "output_type": "stream",
     "text": [
      "C:\\Users\\RG\\anaconda3\\lib\\site-packages\\seaborn\\distributions.py:2551: FutureWarning: `distplot` is a deprecated function and will be removed in a future version. Please adapt your code to use either `displot` (a figure-level function with similar flexibility) or `histplot` (an axes-level function for histograms).\n",
      "  warnings.warn(msg, FutureWarning)\n",
      "C:\\Users\\RG\\anaconda3\\lib\\site-packages\\seaborn\\distributions.py:2551: FutureWarning: `distplot` is a deprecated function and will be removed in a future version. Please adapt your code to use either `displot` (a figure-level function with similar flexibility) or `histplot` (an axes-level function for histograms).\n",
      "  warnings.warn(msg, FutureWarning)\n"
     ]
    },
    {
     "data": {
      "image/png": "[encoded data removed]",
      "text/plain": [
       "<Figure size 432x288 with 2 Axes>"
      ]
     },
     "metadata": {
      "needs_background": "light"
     },
     "output_type": "display_data"
    }
   ],
   "source": [
    "\n",
    "fig, ax = plt.subplots(1, 2)\n",
    "sns.distplot(train_df.Avg_Account_Balance,ax=ax[0])\n",
    "sns.distplot(np.log(train_df.Avg_Account_Balance),ax=ax[1])\n",
    "plt.show()"
   ]
  },
  {
   "cell_type": "code",
   "execution_count": 79,
   "metadata": {},
   "outputs": [
    {
     "name": "stderr",
     "output_type": "stream",
     "text": [
      "C:\\Users\\RG\\anaconda3\\lib\\site-packages\\seaborn\\distributions.py:2551: FutureWarning: `distplot` is a deprecated function and will be removed in a future version. Please adapt your code to use either `displot` (a figure-level function with similar flexibility) or `histplot` (an axes-level function for histograms).\n",
      "  warnings.warn(msg, FutureWarning)\n"
     ]
    },
    {
     "data": {
      "text/plain": [
       "<AxesSubplot:xlabel='Vintage', ylabel='Density'>"
      ]
     },
     "execution_count": 79,
     "metadata": {},
     "output_type": "execute_result"
    },
    {
     "data": {
      "image/png": "[encoded data removed]",
      "text/plain": [
       "<Figure size 600x400 with 1 Axes>"
      ]
     },
     "metadata": {},
     "output_type": "display_data"
    }
   ],
   "source": [
    "# sns.distplot(train_df.Vintage)\n",
    "sns.distplot(np.log(train_df.Vintage))"
   ]
  }
 ],
 "metadata": {
  "kernelspec": {
   "display_name": "Python 3",
   "language": "python",
   "name": "python3"
  },
  "language_info": {
   "codemirror_mode": {
    "name": "ipython",
    "version": 3
   },
   "file_extension": ".py",
   "mimetype": "text/x-python",
   "name": "python",
   "nbconvert_exporter": "python",
   "pygments_lexer": "ipython3",
   "version": "3.8.5"
  }
 },
 "nbformat": 4,
 "nbformat_minor": 4
}
